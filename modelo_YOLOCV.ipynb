{
 "cells": [
  {
   "cell_type": "code",
   "execution_count": 3,
   "id": "f76c9589",
   "metadata": {},
   "outputs": [],
   "source": [
    "from pathlib import Path\n",
    "from sklearn.model_selection import KFold\n",
    "import shutil\n",
    "from ultralytics import YOLO\n",
    "import pandas as pd\n",
    "import os"
   ]
  },
  {
   "cell_type": "code",
   "execution_count": 4,
   "id": "a62233b8",
   "metadata": {},
   "outputs": [],
   "source": [
    "import torch\n",
    "torch.backends.cudnn.benchmark = True\n"
   ]
  },
  {
   "cell_type": "markdown",
   "id": "1eb561ca",
   "metadata": {},
   "source": [
    "En este notebook vamos a realizar el entrenamiento de los modelos. Primero vamos a revisar un approach inicial con los modelos de los filtrados y no filtrados para 80 epocas. En el notebook del procesamiento intentamos hacer lo mismo pero mediante los de preprocesamiento incluido con operaciones morfologicas sobre las imagenes."
   ]
  },
  {
   "cell_type": "code",
   "execution_count": null,
   "id": "337dce65",
   "metadata": {},
   "outputs": [],
   "source": [
    "from pathlib import Path\n",
    "\n",
    "# Nombres de las clases (sin incluir background)\n",
    "class_names = [\n",
    "    \"Vehiculos\",\n",
    "    \"Bodegas\",\n",
    "    \"Caminos\",\n",
    "    \"Rios\",\n",
    "    \"Zonas de mineria ilegal\"\n",
    "]\n",
    "\n",
    "for dataset_name in [\"modelo_yolov11_dataset_filtrado\", \"modelo_yolov11_dataset_completo\"]:\n",
    "    DATA_ROOT = Path(dataset_name)\n",
    "\n",
    "    yaml_content = f\"\"\"\\\n",
    "        path: {DATA_ROOT.resolve()}\n",
    "        train: train\n",
    "        val: val\n",
    "        test: test\n",
    "        nc: {len(class_names)}\n",
    "        names: {class_names}\n",
    "        \"\"\"\n",
    "\n",
    "\n",
    "    yaml_path = DATA_ROOT / \"dataset.yaml\"\n",
    "    with open(yaml_path, \"w\", encoding=\"utf-8\") as f:\n",
    "        f.write(yaml_content)\n",
    "\n",
    "    print(f\"✅ YAML generado en: {yaml_path}\")\n"
   ]
  },
  {
   "cell_type": "markdown",
   "id": "07708e11",
   "metadata": {},
   "source": [
    "Realizamos la creacion de las funciones para hacer kfold y el entrenamiento inicial"
   ]
  },
  {
   "cell_type": "code",
   "execution_count": 2,
   "id": "4fc968a4",
   "metadata": {},
   "outputs": [
    {
     "name": "stdout",
     "output_type": "stream",
     "text": [
      "✅ YAML global generado en: modelo_yolov11_dataset_filtrado\\dataset.yaml\n",
      "✅ YAML global generado en: modelo_yolov11_dataset_completo\\dataset.yaml\n"
     ]
    }
   ],
   "source": [
    "from pathlib import Path\n",
    "from sklearn.model_selection import KFold\n",
    "import shutil\n",
    "from ultralytics import YOLO\n",
    "import pandas as pd\n",
    "import random\n",
    "import math \n",
    "import cv2\n",
    "import numpy as np\n",
    "import tqdm as tqdm\n",
    "# --- 1. Funciones de Augmentación (simplificadas para K-Fold) ---\n",
    "# Adaptadas de lo que normalmente se usa, para integrar fácilmente con OpenCV.\n",
    "# Si tus augmentaciones originales eran más complejas, esto podría necesitar ajuste.\n",
    "\n",
    "def augment_image_and_labels(img_path: Path, lbl_path: Path, augment_type: str):\n",
    "    \"\"\"\n",
    "    Aplica una augmentación específica a una imagen y sus etiquetas YOLO.\n",
    "    Args:\n",
    "        img_path: Ruta a la imagen original.\n",
    "        lbl_path: Ruta al archivo de etiquetas original.\n",
    "        augment_type: Tipo de augmentación ('hflip', 'vflip', 'rot90', 'rot180', 'rot270').\n",
    "    Returns:\n",
    "        tuple: (augmented_image, augmented_labels_str, new_suffix)\n",
    "    \"\"\"\n",
    "    img = cv2.imread(str(img_path))\n",
    "    if img is None:\n",
    "        return None, None, None # Error al cargar\n",
    "\n",
    "    h, w = img.shape[:2]\n",
    "    labels = []\n",
    "    if lbl_path.exists():\n",
    "        with open(lbl_path, 'r') as f:\n",
    "            for line in f:\n",
    "                parts = list(map(float, line.strip().split()))\n",
    "                labels.append(parts)\n",
    "\n",
    "    augmented_img = img.copy()\n",
    "    augmented_labels = []\n",
    "    new_suffix = \"\"\n",
    "\n",
    "    if augment_type == 'hflip':\n",
    "        augmented_img = cv2.flip(img, 1) # Horizontal flip\n",
    "        for cls_id, x_center, y_center, bbox_w, bbox_h in labels:\n",
    "            augmented_labels.append([cls_id, 1 - x_center, y_center, bbox_w, bbox_h])\n",
    "        new_suffix = \"_hflip\"\n",
    "    elif augment_type == 'vflip':\n",
    "        augmented_img = cv2.flip(img, 0) # Vertical flip\n",
    "        for cls_id, x_center, y_center, bbox_w, bbox_h in labels:\n",
    "            augmented_labels.append([cls_id, x_center, 1 - y_center, bbox_w, bbox_h])\n",
    "        new_suffix = \"_vflip\"\n",
    "    elif augment_type.startswith('rot'):\n",
    "        k = int(augment_type[3:]) // 90\n",
    "        # Rotación de la imagen\n",
    "        augmented_img = cv2.rotate(img, {90: cv2.ROTATE_90_CLOCKWISE, 180: cv2.ROTATE_180, 270: cv2.ROTATE_90_COUNTERCLOCKWISE}[int(augment_type[3:])])\n",
    "        \n",
    "        # Actualizar etiquetas para rotación\n",
    "        new_h, new_w = augmented_img.shape[:2]\n",
    "        \n",
    "        for cls_id, x_center, y_center, bbox_w, bbox_h in labels:\n",
    "            # Convertir a coordenadas absolutas\n",
    "            abs_x1 = (x_center - bbox_w / 2) * w\n",
    "            abs_y1 = (y_center - bbox_h / 2) * h\n",
    "            abs_x2 = (x_center + bbox_w / 2) * w\n",
    "            abs_y2 = (y_center + bbox_h / 2) * h\n",
    "\n",
    "            points = np.array([[abs_x1, abs_y1], [abs_x2, abs_y1], [abs_x1, abs_y2], [abs_x2, abs_y2]])\n",
    "\n",
    "            # Rotar puntos\n",
    "            if k == 1: # 90 grados\n",
    "                rotated_points = np.array([[p[1], w - p[0]] for p in points])\n",
    "            elif k == 2: # 180 grados\n",
    "                rotated_points = np.array([[w - p[0], h - p[1]] for p in points])\n",
    "            elif k == 3: # 270 grados\n",
    "                rotated_points = np.array([[h - p[1], p[0]] for p in points]) # x' = y, y' = W - x\n",
    "\n",
    "            # Encontrar el nuevo bounding box min/max\n",
    "            min_x, min_y = np.min(rotated_points, axis=0)\n",
    "            max_x, max_y = np.max(rotated_points, axis=0)\n",
    "\n",
    "            # Convertir de nuevo a coordenadas relativas al nuevo tamaño de la imagen\n",
    "            new_bbox_w = (max_x - min_x) / new_w\n",
    "            new_bbox_h = (max_y - min_y) / new_h\n",
    "            new_x_center = (min_x + max_x) / (2 * new_w)\n",
    "            new_y_center = (min_y + max_y) / (2 * new_h)\n",
    "            \n",
    "            # Asegurarse de que las coordenadas estén dentro de [0, 1]\n",
    "            new_x_center = np.clip(new_x_center, 0, 1)\n",
    "            new_y_center = np.clip(new_y_center, 0, 1)\n",
    "            new_bbox_w = np.clip(new_bbox_w, 0, 1)\n",
    "            new_bbox_h = np.clip(new_bbox_h, 0, 1)\n",
    "\n",
    "            augmented_labels.append([cls_id, new_x_center, new_y_center, new_bbox_w, new_bbox_h])\n",
    "        \n",
    "        new_suffix = f\"_rot{augment_type[3:]}\"\n",
    "    else:\n",
    "        # Si no hay augmentación o tipo desconocido, retornar original\n",
    "        return img, '\\n'.join([' '.join(map(str, lbl)) for lbl in labels]), \"\"\n",
    "\n",
    "    augmented_labels_str = '\\n'.join([' '.join(map(str, lbl)) for lbl in augmented_labels])\n",
    "    return augmented_img, augmented_labels_str, new_suffix\n",
    "\n",
    "# --- 2. Preparación inicial (generación de YAMLs globales, si aún no existen) ---\n",
    "# Esta parte genera los dataset.yaml para los datasets \"finales\" (ej. para entrenar un modelo final sin K-Fold)\n",
    "# Asegúrate de que `modelo_yolov11_dataset_filtrado` y `modelo_yolov11_dataset_completo`\n",
    "# son los directorios que ya están 'fixed' (train con augmented, val/test con originales).\n",
    "# ESTA PARTE DEL CÓDIGO NO NECESITA CAMBIAR SI YA LA EJECUTASTE.\n",
    "# La dejé aquí para que el script sea autocontenido.\n",
    "class_names = [\n",
    "    \"Vehiculos\",\n",
    "    \"Bodegas\",\n",
    "    \"Caminos\",\n",
    "    \"Rios\",\n",
    "    \"Zonas de mineria ilegal\"\n",
    "]\n",
    "\n",
    "for dataset_name_global in [\"modelo_yolov11_dataset_filtrado\", \"modelo_yolov11_dataset_completo\"]:\n",
    "    DATA_ROOT_GLOBAL = Path(dataset_name_global)\n",
    "    yaml_content_global = f\"\"\"\\\n",
    "path: {DATA_ROOT_GLOBAL.resolve()}\n",
    "train: train\n",
    "val: val\n",
    "test: test\n",
    "nc: {len(class_names)}\n",
    "names: {class_names}\n",
    "\"\"\"\n",
    "    yaml_path_global = DATA_ROOT_GLOBAL / \"dataset.yaml\"\n",
    "    with open(yaml_path_global, \"w\", encoding=\"utf-8\") as f:\n",
    "        f.write(yaml_content_global)\n",
    "    print(f\"✅ YAML global generado en: {yaml_path_global}\")\n",
    "\n",
    "# --- 3. Función de K-Fold Modificada ---\n",
    "\n",
    "def ejecutar_kfold_yolov8(\n",
    "    original_data_root: Path, # <-- Nueva entrada: Ruta a tus datos ORIGINALES (e.g., Path(\"data\"))\n",
    "    dataset_name_for_output: str, # Para el nombre de la carpeta de resultados (e.g., \"modelo_yolov11_dataset_completo_kfold\")\n",
    "    class_names: list,\n",
    "    model_weights: str = \"yolov8s.pt\",\n",
    "    num_folds: int = 5,\n",
    "    epochs: int = 40,\n",
    "    batch_size: int = 16,\n",
    "    img_size: int = 640,\n",
    "    patience: int = 5,\n",
    "    apply_augmentation: bool = True # Control para aplicar augmentación en el fold de entrenamiento\n",
    "):\n",
    "    \"\"\"\n",
    "    Ejecuta K-Fold Cross-Validation para YOLOv8, aplicando augmentación a los datos\n",
    "    de entrenamiento dentro de cada fold.\n",
    "    \n",
    "    Args:\n",
    "        original_data_root (Path): La ruta a tu directorio 'data' que contiene\n",
    "                                   'Imagenes/train', 'Imagenes/val', 'Imagenes/test' con imágenes ORIGINALES.\n",
    "        dataset_name_for_output (str): Nombre base para las carpetas de salida del K-Fold.\n",
    "        class_names (list): Lista de nombres de clases.\n",
    "        model_weights (str): Pesos iniciales del modelo YOLO.\n",
    "        num_folds (int): Número de folds para K-Fold.\n",
    "        epochs (int): Número de épocas para entrenar cada fold.\n",
    "        batch_size (int): Tamaño del batch.\n",
    "        img_size (int): Tamaño de la imagen para el entrenamiento.\n",
    "        patience (int): Paciencia para Early Stopping.\n",
    "        apply_augmentation (bool): Si se debe aplicar augmentación a las imágenes de entrenamiento de cada fold.\n",
    "    \"\"\"\n",
    "    \n",
    "    # Directorios de imágenes y etiquetas ORIGINALES de entrenamiento\n",
    "    ORIGINAL_TRAIN_IMG_DIR = original_data_root / \"Imagenes\" / \"train\"\n",
    "    ORIGINAL_TRAIN_LBL_DIR = original_data_root / \"Etiquetas\" / \"train\"\n",
    "\n",
    "    if not ORIGINAL_TRAIN_IMG_DIR.exists():\n",
    "        raise FileNotFoundError(f\"❌ Directorio de imágenes ORIGINALES de entrenamiento no encontrado: {ORIGINAL_TRAIN_IMG_DIR}\")\n",
    "    if not ORIGINAL_TRAIN_LBL_DIR.exists():\n",
    "        print(f\"⚠️ Advertencia: Directorio de etiquetas ORIGINALES de entrenamiento no encontrado: {ORIGINAL_TRAIN_LBL_DIR}. Asumiendo imágenes de fondo sin etiquetas.\")\n",
    "\n",
    "\n",
    "    # Carpeta raíz para los resultados del K-Fold para este dataset\n",
    "    CV_ROOT = Path(f\"kfold_results_{dataset_name_for_output}\")\n",
    "    CV_ROOT.mkdir(parents=True, exist_ok=True)\n",
    "\n",
    "    # Recopilar todas las imágenes ORIGINALES del set de entrenamiento\n",
    "    all_original_train_images = sorted(list(ORIGINAL_TRAIN_IMG_DIR.glob(\"*.jpg\")) + \n",
    "                                       list(ORIGINAL_TRAIN_IMG_DIR.glob(\"*.jpeg\")) + \n",
    "                                       list(ORIGINAL_TRAIN_IMG_DIR.glob(\"*.png\")))\n",
    "    \n",
    "    all_original_train_labels = [ORIGINAL_TRAIN_LBL_DIR / (img.stem + \".txt\") for img in all_original_train_images]\n",
    "\n",
    "    # Verificar que haya etiquetas para todas las imágenes (o crear vacías si no hay)\n",
    "    for lbl_path in all_original_train_labels:\n",
    "        if not lbl_path.exists():\n",
    "            print(f\"⚠️ Etiqueta no encontrada para {lbl_path.stem}. Creando archivo vacío.\")\n",
    "            lbl_path.touch() # Crear archivo de etiqueta vacío si no existe\n",
    "\n",
    "    assert len(all_original_train_images) > 0, f\"❌ No se encontraron imágenes originales en {ORIGINAL_TRAIN_IMG_DIR}\"\n",
    "    print(f\"Encontradas {len(all_original_train_images)} imágenes ORIGINALES para el K-Fold.\")\n",
    "\n",
    "    kf = KFold(n_splits=num_folds, shuffle=True, random_state=42)\n",
    "    results_summary = []\n",
    "\n",
    "    for fold_idx, (train_idx, val_idx) in enumerate(kf.split(all_original_train_images)):\n",
    "        print(f\"\\n🔁 Entrenando fold {fold_idx + 1}/{num_folds}...\")\n",
    "\n",
    "        fold_dir = CV_ROOT / f\"fold_{fold_idx}\"\n",
    "        \n",
    "        # Directorios de salida para este fold: imágenes y etiquetas\n",
    "        # Aquí es donde se mezclarán originales y aumentadas para el train,\n",
    "        # y solo originales para el val del fold.\n",
    "        fold_train_img_dir = fold_dir / \"images\" / \"train\"\n",
    "        fold_train_lbl_dir = fold_dir / \"labels\" / \"train\"\n",
    "        fold_val_img_dir = fold_dir / \"images\" / \"val\"\n",
    "        fold_val_lbl_dir = fold_dir / \"labels\" / \"val\"\n",
    "        \n",
    "        # Limpiar y crear directorios de fold para cada iteración\n",
    "        if fold_dir.exists():\n",
    "            shutil.rmtree(fold_dir) # Eliminar contenido de la carpeta del fold anterior si existe\n",
    "        for d in [fold_train_img_dir, fold_train_lbl_dir, fold_val_img_dir, fold_val_lbl_dir]:\n",
    "            d.mkdir(parents=True, exist_ok=True)\n",
    "\n",
    "        # Copiar imágenes ORIGINALES al set de entrenamiento del fold\n",
    "        for idx in train_idx:\n",
    "            img_src = all_original_train_images[idx]\n",
    "            lbl_src = all_original_train_labels[idx]\n",
    "            shutil.copy(str(img_src), str(fold_train_img_dir / img_src.name))\n",
    "            shutil.copy(str(lbl_src), str(fold_train_lbl_dir / lbl_src.name))\n",
    "\n",
    "        # --- APLICAR AUGMENTACIÓN SOLO A LAS IMÁGENES DE ENTRENAMIENTO DEL FOLD ---\n",
    "        if apply_augmentation:\n",
    "            print(f\"✨ Aplicando augmentación a {len(train_idx)} imágenes de entrenamiento del fold {fold_idx + 1}...\")\n",
    "            # Tipos de augmentación que se aplicarán (puedes ajustar esta lista)\n",
    "            augmentation_types = ['hflip', 'vflip', 'rot90', 'rot180', 'rot270'] \n",
    "            \n",
    "            # Iterar sobre las imágenes originales que están en el set de entrenamiento de este fold\n",
    "            for idx in tqdm(train_idx, desc=f\"Augmenting train fold {fold_idx+1}\"):\n",
    "                original_img_path = all_original_train_images[idx]\n",
    "                original_lbl_path = all_original_train_labels[idx]\n",
    "\n",
    "                for aug_type in augmentation_types:\n",
    "                    augmented_img, augmented_labels_str, suffix = augment_image_and_labels(\n",
    "                        original_img_path, original_lbl_path, aug_type\n",
    "                    )\n",
    "                    \n",
    "                    if augmented_img is not None:\n",
    "                        # Guardar la imagen aumentada\n",
    "                        aug_img_name = f\"{original_img_path.stem}{suffix}{original_img_path.suffix}\"\n",
    "                        cv2.imwrite(str(fold_train_img_dir / aug_img_name), augmented_img)\n",
    "                        \n",
    "                        # Guardar las etiquetas aumentadas\n",
    "                        aug_lbl_name = f\"{original_img_path.stem}{suffix}.txt\"\n",
    "                        with open(fold_train_lbl_dir / aug_lbl_name, 'w') as f:\n",
    "                            f.write(augmented_labels_str)\n",
    "\n",
    "        # Copiar imágenes ORIGINALES al set de validación del fold\n",
    "        for idx in val_idx:\n",
    "            img_src = all_original_train_images[idx]\n",
    "            lbl_src = all_original_train_labels[idx]\n",
    "            shutil.copy(str(img_src), str(fold_val_img_dir / img_src.name))\n",
    "            shutil.copy(str(lbl_src), str(fold_val_lbl_dir / lbl_src.name))\n",
    "\n",
    "        # Crear dataset.yaml para este fold\n",
    "        yaml_content = f\"\"\"\\\n",
    "path: {fold_dir.resolve()}\n",
    "train: images/train\n",
    "val: images/val\n",
    "nc: {len(class_names)}\n",
    "names: {class_names}\n",
    "\"\"\"\n",
    "        yaml_path = fold_dir / \"dataset.yaml\"\n",
    "        with open(yaml_path, \"w\", encoding=\"utf-8\") as f:\n",
    "            f.write(yaml_content)\n",
    "\n",
    "        run_name = f\"{dataset_name_for_output}_cv_fold_{fold_idx}\"\n",
    "        project_dir = Path(\"runs/detect\")\n",
    "        last_ckpt = project_dir / run_name / \"weights\" / \"last.pt\"\n",
    "\n",
    "        # Lógica de reanudación de entrenamiento\n",
    "        model = YOLO(model_weights) # Siempre cargar el modelo base o el último checkpoint\n",
    "        if last_ckpt.exists():\n",
    "            completed_flag = (project_dir / run_name / \"results.csv\").exists()\n",
    "            if completed_flag:\n",
    "                print(f\"✅ Fold {fold_idx} ya completado previamente. Saltando...\")\n",
    "                # Cargar el modelo para poder ejecutar model.val() y obtener métricas\n",
    "                model = YOLO(str(last_ckpt)) \n",
    "            else:\n",
    "                print(f\"🔄 Reanudando fold {fold_idx} desde checkpoint: {last_ckpt}\")\n",
    "                model = YOLO(str(last_ckpt))\n",
    "                model.train(\n",
    "                    resume=True,\n",
    "                    epochs=epochs,\n",
    "                    name=run_name\n",
    "                )\n",
    "        else:\n",
    "            print(f\"🚀 Entrenando fold {fold_idx} desde cero...\")\n",
    "            model.train(\n",
    "                data=str(yaml_path),\n",
    "                epochs=epochs,\n",
    "                imgsz=img_size,\n",
    "                batch=batch_size,\n",
    "                name=run_name,\n",
    "                patience=patience\n",
    "            )\n",
    "\n",
    "        # Evaluar el modelo en el conjunto de validación de este fold\n",
    "        metrics = model.val(data=str(yaml_path)).results_dict\n",
    "        metrics[\"fold\"] = fold_idx\n",
    "        results_summary.append(metrics)\n",
    "        \n",
    "        # Opcional: Eliminar los datos temporales del fold después de entrenar para ahorrar espacio\n",
    "        # shutil.rmtree(fold_dir)\n",
    "        # print(f\"🗑️ Eliminado directorio temporal del fold {fold_idx}.\")\n",
    "\n",
    "\n",
    "    df_results = pd.DataFrame(results_summary)\n",
    "    csv_output = CV_ROOT / \"cv_results_summary.csv\"\n",
    "    df_results.to_csv(csv_output, index=False)\n",
    "    print(f\"\\n✅ Cross-validation completa. Resultados guardados en: {csv_output}\")\n",
    "\n",
    "# --- 4. Función para entrenar el Modelo Final (sin cambios significativos aquí) ---\n",
    "# Esta función entrenará tu modelo final en TODO el dataset que le pases,\n",
    "# incluyendo tus imágenes aumentadas en 'train' y las originales en 'val'/'test'.\n",
    "# Asume que el dataset de entrada ya está en la estructura 'fixed' que discutimos.\n",
    "def entrenar_modelo_final(\n",
    "    dataset_name: str, # Este es el nombre del dataset ya fixed (ej., \"modelo_yolov11_dataset_completo\")\n",
    "    class_names: list,\n",
    "    model_weights: str = \"yolov8s.pt\",\n",
    "    epochs: int = 80,\n",
    "    batch_size: int = 16,\n",
    "    img_size: int = 640,\n",
    "    patience: int = 10\n",
    "):\n",
    "    DATA_ROOT = Path(dataset_name)\n",
    "    FINAL_OUTPUT_DIR = Path(f\"final_model_{dataset_name}\")\n",
    "    FINAL_OUTPUT_DIR.mkdir(parents=True, exist_ok=True)\n",
    "\n",
    "    yaml_path = DATA_ROOT / \"dataset.yaml\"\n",
    "    run_name = f\"{dataset_name}_final\"\n",
    "    project_dir = Path(\"runs/detect\")\n",
    "    last_ckpt = project_dir / run_name / \"weights\" / \"last.pt\"\n",
    "\n",
    "    if last_ckpt.exists():\n",
    "        print(f\"🔄 Reanudando modelo final desde checkpoint: {last_ckpt}\")\n",
    "        model = YOLO(str(last_ckpt))\n",
    "        results = model.train(\n",
    "            resume=True,\n",
    "            epochs=epochs,\n",
    "            name=run_name\n",
    "        )\n",
    "    else:\n",
    "        print(f\"🚀 Entrenando modelo final sobre todo el dataset: {dataset_name}...\")\n",
    "        model = YOLO(model_weights)\n",
    "        results = model.train(\n",
    "            data=str(yaml_path),\n",
    "            epochs=epochs,\n",
    "            imgsz=img_size,\n",
    "            batch=batch_size,\n",
    "            name=run_name,\n",
    "            patience=patience\n",
    "        )\n",
    "\n",
    "    final_model_path = FINAL_OUTPUT_DIR / f\"{dataset_name}_final_model.pt\"\n",
    "    # YOLO.save() guarda el modelo best.pt en la ruta especificada\n",
    "    shutil.copy(project_dir / run_name / \"weights\" / \"best.pt\", final_model_path)\n",
    "    print(f\"\\n✅ Modelo final guardado en: {final_model_path}\")\n",
    "\n",
    "\n",
    "def entrenar_modelo_final(\n",
    "    dataset_name: str,\n",
    "    class_names: list,\n",
    "    model_weights: str = \"yolov8s.pt\",\n",
    "    epochs: int = 80,\n",
    "    batch_size: int = 16,\n",
    "    img_size: int = 640,\n",
    "    patience: int = 10\n",
    "):\n",
    "    DATA_ROOT = Path(dataset_name)\n",
    "    FINAL_OUTPUT_DIR = Path(f\"final_model_{dataset_name}\")\n",
    "    FINAL_OUTPUT_DIR.mkdir(parents=True, exist_ok=True)\n",
    "\n",
    "    yaml_path = DATA_ROOT / \"dataset.yaml\"\n",
    "    run_name = f\"{dataset_name}_final\"\n",
    "    project_dir = Path(\"runs/detect\")\n",
    "    last_ckpt = project_dir / run_name / \"weights\" / \"last.pt\"\n",
    "\n",
    "    if last_ckpt.exists():\n",
    "        print(f\"🔄 Reanudando modelo final desde checkpoint: {last_ckpt}\")\n",
    "        model = YOLO(str(last_ckpt))\n",
    "        results = model.train(\n",
    "            resume=True,\n",
    "            epochs=epochs,\n",
    "            name=run_name\n",
    "        )\n",
    "    else:\n",
    "        print(f\"🚀 Entrenando modelo final sobre todo el dataset: {dataset_name}...\")\n",
    "        model = YOLO(model_weights)\n",
    "        results = model.train(\n",
    "            data=str(yaml_path),\n",
    "            epochs=epochs,\n",
    "            imgsz=img_size,\n",
    "            batch=batch_size,\n",
    "            name=run_name,\n",
    "            patience=patience\n",
    "        )\n",
    "\n",
    "    final_model_path = FINAL_OUTPUT_DIR / f\"{dataset_name}_final_model.pt\"\n",
    "    model.save(str(final_model_path))\n",
    "    print(f\"\\n✅ Modelo final guardado en: {final_model_path}\")"
   ]
  },
  {
   "cell_type": "markdown",
   "id": "6350eb8a",
   "metadata": {},
   "source": [
    "# Entrenamiento del multiclass para dataset filtrado"
   ]
  },
  {
   "cell_type": "markdown",
   "id": "1c4118fe",
   "metadata": {},
   "source": [
    "Vamos a centrarnos primero en el entrenamiento kfold para filtrado y revisar sus resultados"
   ]
  },
  {
   "cell_type": "markdown",
   "id": "b80863ce",
   "metadata": {},
   "source": [
    "## K-fold Filtrado"
   ]
  },
  {
   "cell_type": "code",
   "execution_count": null,
   "id": "dfec2c27",
   "metadata": {},
   "outputs": [],
   "source": [
    "ejecutar_kfold_yolov8(\n",
    "    dataset_name=\"modelo_yolov11_dataset_filtrado\",\n",
    "    class_names=[\"Vehiculos\", \"Bodegas\", \"Caminos\", \"Rios\", \"Zonas de mineria ilegal\"]\n",
    ")"
   ]
  },
  {
   "cell_type": "markdown",
   "id": "9c1e61e2",
   "metadata": {},
   "source": [
    "Los resultados en general observamos que se comportan bien para todos los folds"
   ]
  },
  {
   "cell_type": "code",
   "execution_count": null,
   "id": "8a8402a6",
   "metadata": {},
   "outputs": [],
   "source": [
    "import pandas as pd"
   ]
  },
  {
   "cell_type": "code",
   "execution_count": null,
   "id": "0f49e77f",
   "metadata": {},
   "outputs": [],
   "source": [
    "df = pd.read_csv('models/kfold_results_modelo_yolov11_dataset_filtrado/cv_results_summary.csv')\n",
    "df"
   ]
  },
  {
   "cell_type": "markdown",
   "id": "fe0a4f40",
   "metadata": {},
   "source": [
    "Las metricas se comportan muy parecido"
   ]
  },
  {
   "cell_type": "markdown",
   "id": "7b4b7277",
   "metadata": {},
   "source": [
    "## Modelo Final - Filtrado"
   ]
  },
  {
   "cell_type": "markdown",
   "id": "f388ef94",
   "metadata": {},
   "source": [
    "Ahora realizamos el modelo para el filtrado"
   ]
  },
  {
   "cell_type": "code",
   "execution_count": null,
   "id": "5632ae83",
   "metadata": {},
   "outputs": [],
   "source": [
    "entrenar_modelo_final(\n",
    "    dataset_name=\"modelo_yolov11_dataset_filtrado\",\n",
    "    class_names=[\"Vehiculos\", \"Bodegas\", \"Caminos\", \"Rios\", \"Zonas de mineria ilegal\"]\n",
    ")\n"
   ]
  },
  {
   "attachments": {
    "image.png": {
     "image/png": "[encoded data removed]"
    }
   },
   "cell_type": "markdown",
   "id": "e75d4983",
   "metadata": {},
   "source": [
    "En general las metricas estan bastante bien para no aplicar ningun preprocesamiento a las imagenes\n",
    "\n",
    "![image.png](attachment:image.png)"
   ]
  },
  {
   "cell_type": "markdown",
   "id": "acae1287",
   "metadata": {},
   "source": [
    "# Entrenamiento del multiclass para dataset completo"
   ]
  },
  {
   "cell_type": "markdown",
   "id": "90e29b41",
   "metadata": {},
   "source": [
    "## K-fold Completo"
   ]
  },
  {
   "cell_type": "markdown",
   "id": "a17b639d",
   "metadata": {},
   "source": [
    "Ahora realizamos el k-fold completo para el dataset completo"
   ]
  },
  {
   "cell_type": "code",
   "execution_count": null,
   "id": "9735afa7",
   "metadata": {},
   "outputs": [],
   "source": [
    "ejecutar_kfold_yolov8(\n",
    "    dataset_name=\"modelo_yolov11_dataset_completo\",\n",
    "    class_names=[\"Vehiculos\", \"Bodegas\", \"Caminos\", \"Rios\", \"Zonas de mineria ilegal\"]\n",
    ")"
   ]
  },
  {
   "cell_type": "code",
   "execution_count": null,
   "id": "a9cc308e",
   "metadata": {},
   "outputs": [],
   "source": [
    "df = pd.read_csv('models/kfold_results_modelo_yolov11_dataset_completo/cv_results_summary.csv')\n",
    "df"
   ]
  },
  {
   "cell_type": "markdown",
   "id": "56219db0",
   "metadata": {},
   "source": [
    "En general se comportan de la misma forma"
   ]
  },
  {
   "cell_type": "markdown",
   "id": "af7b82d3",
   "metadata": {},
   "source": [
    "## Modelo Final - Completo"
   ]
  },
  {
   "cell_type": "markdown",
   "id": "a4748c56",
   "metadata": {},
   "source": [
    "Realizamos el entrenamiento para 80 epocas"
   ]
  },
  {
   "cell_type": "code",
   "execution_count": null,
   "id": "98e9daf7",
   "metadata": {},
   "outputs": [],
   "source": [
    "entrenar_modelo_final(\n",
    "    dataset_name=\"modelo_yolov11_dataset_completo\",\n",
    "    class_names=[\"Vehiculos\", \"Bodegas\", \"Caminos\", \"Rios\", \"Zonas de mineria ilegal\"]\n",
    ")\n"
   ]
  },
  {
   "cell_type": "markdown",
   "id": "ee4c8a0c",
   "metadata": {},
   "source": [
    "Los resultados estan un poco mejor frente al filtrado"
   ]
  },
  {
   "attachments": {
    "image.png": {
     "image/png": "[encoded data removed]"
    }
   },
   "cell_type": "markdown",
   "id": "65b90fa4",
   "metadata": {},
   "source": [
    "![image.png](attachment:image.png)"
   ]
  },
  {
   "cell_type": "markdown",
   "id": "f4f5ad4a",
   "metadata": {},
   "source": [
    "## Resultados sin fine tuning"
   ]
  },
  {
   "cell_type": "code",
   "execution_count": null,
   "id": "dcb1da01",
   "metadata": {},
   "outputs": [],
   "source": [
    "from PIL import Image as PImage\n",
    "display(PImage.open('runs/detect/modelo_yolov11_dataset_completo_final2/results.png'))\n",
    "\n",
    "display(PImage.open('runs/detect/modelo_yolov11_dataset_completo_final2/confusion_matrix.png'))"
   ]
  },
  {
   "cell_type": "code",
   "execution_count": null,
   "id": "bd2df044",
   "metadata": {},
   "outputs": [],
   "source": [
    "from PIL import Image as PImage\n",
    "display(PImage.open('runs/detect/modelo_yolov11_dataset_filtrado_final3/results.png'))\n",
    "\n",
    "display(PImage.open('runs/detect/modelo_yolov11_dataset_filtrado_final3/confusion_matrix.png'))"
   ]
  },
  {
   "cell_type": "markdown",
   "id": "40393507",
   "metadata": {},
   "source": [
    "# Intentando con 250 epocas"
   ]
  },
  {
   "cell_type": "markdown",
   "id": "909abb65",
   "metadata": {},
   "source": [
    "Ahora vamos a intentar mejorar aun mas los modelos, ampliandolos a 150 epocas para ver en que punto se activa el early stopping y llegar al optimo"
   ]
  },
  {
   "cell_type": "code",
   "execution_count": 6,
   "id": "2d80084c",
   "metadata": {},
   "outputs": [],
   "source": [
    "def entrenar_modelo_final(\n",
    "    dataset_name: str,\n",
    "    class_names: list,\n",
    "    model_weights: str = \"yolov8s.pt\",\n",
    "    epochs: int = 250,\n",
    "    batch_size: int = 16,\n",
    "    img_size: int = 640,\n",
    "    patience: int = 10,\n",
    "    output_name: str = \"final_model\",\n",
    "    resume_from_ckpt: str = None,\n",
    "    # Nuevos parámetros (opcional, como discutimos)\n",
    "    lr0: float = 0.01,\n",
    "    lrf: float = 0.01,\n",
    "    cos_lr: bool = True\n",
    "):\n",
    "    from ultralytics import YOLO\n",
    "    from pathlib import Path\n",
    "    import re\n",
    "\n",
    "    DATA_ROOT = Path(dataset_name)\n",
    "    safe_name = re.sub(r\"[^\\w.-]\", \"_\", output_name)\n",
    "    FINAL_OUTPUT_DIR = Path(f\"final_model_{safe_name}\")\n",
    "    FINAL_OUTPUT_DIR.mkdir(parents=True, exist_ok=True)\n",
    "\n",
    "    yaml_path = DATA_ROOT / \"dataset.yaml\"\n",
    "    run_name = f\"{dataset_name}_final\"\n",
    "    project_dir = Path(\"runs/detect\")\n",
    "    best_ckpt = project_dir / run_name / \"weights\" / \"best.pt\"\n",
    "    last_ckpt = project_dir / run_name / \"weights\" / \"last.pt\"\n",
    "\n",
    "    # Define los argumentos comunes para model.train()\n",
    "    train_args = {\n",
    "        \"data\": str(yaml_path),\n",
    "        \"epochs\": epochs,\n",
    "        \"imgsz\": img_size,\n",
    "        \"batch\": batch_size,\n",
    "        \"name\": run_name,\n",
    "        \"patience\": patience,\n",
    "        \"workers\": 16, # <--- ¡Cambiado aquí!\n",
    "        \"lr0\": lr0,\n",
    "        \"lrf\": lrf,\n",
    "        \"cos_lr\": cos_lr\n",
    "    }\n",
    "\n",
    "    # Opción 1: Reanudar desde checkpoint específico\n",
    "    if resume_from_ckpt:\n",
    "        resume_ckpt = Path(resume_from_ckpt)\n",
    "        if not resume_ckpt.exists():\n",
    "            raise FileNotFoundError(f\"❌ Checkpoint no encontrado: {resume_ckpt}\")\n",
    "        print(f\"🔁 Reentrenando desde checkpoint personalizado: {resume_ckpt}\")\n",
    "        model = YOLO(str(resume_ckpt))\n",
    "        model.train(**train_args)\n",
    "\n",
    "    # Opción 2: Ya entrenado (No llama a train)\n",
    "    elif best_ckpt.exists():\n",
    "        print(f\"✅ Modelo final ya entrenado. Usando best.pt: {best_ckpt}\")\n",
    "        model = YOLO(str(best_ckpt))\n",
    "\n",
    "    # Opción 3: Reanudar automáticamente\n",
    "    elif last_ckpt.exists():\n",
    "        print(f\"🔄 Reanudando entrenamiento desde last.pt: {last_ckpt}\")\n",
    "        model = YOLO(str(last_ckpt))\n",
    "        # Para resume=True, 'data' no es necesario en los argumentos pasados directamente\n",
    "        resume_train_args = {k: v for k, v in train_args.items() if k != 'data'}\n",
    "        model.train(resume=True, **resume_train_args)\n",
    "        model = YOLO(str(best_ckpt))  # Recargar best al terminar\n",
    "\n",
    "    # Opción 4: Entrenar desde cero\n",
    "    else:\n",
    "        print(f\"🚀 Entrenando modelo final desde cero: {dataset_name}\")\n",
    "        model = YOLO(model_weights)\n",
    "        model.train(**train_args)\n",
    "        model = YOLO(str(best_ckpt))  # Recargar best al terminar\n",
    "\n",
    "    # Guardar best.pt final\n",
    "    final_model_path = FINAL_OUTPUT_DIR / \"best_model_final.pt\"\n",
    "    model.save(str(final_model_path))\n",
    "    print(f\"\\n✅ Modelo final guardado en: {final_model_path}\")\n"
   ]
  },
  {
   "cell_type": "markdown",
   "id": "02357a49",
   "metadata": {},
   "source": [
    "# Sin preprocesamiento"
   ]
  },
  {
   "cell_type": "code",
   "execution_count": null,
   "id": "55ee0e21",
   "metadata": {},
   "outputs": [
    {
     "ename": "TypeError",
     "evalue": "entrenar_modelo_final() got an unexpected keyword argument 'output_name'",
     "output_type": "error",
     "traceback": [
      "\u001b[1;31m---------------------------------------------------------------------------\u001b[0m",
      "\u001b[1;31mTypeError\u001b[0m                                 Traceback (most recent call last)",
      "Cell \u001b[1;32mIn[5], line 1\u001b[0m\n\u001b[1;32m----> 1\u001b[0m \u001b[43mentrenar_modelo_final\u001b[49m\u001b[43m(\u001b[49m\n\u001b[0;32m      2\u001b[0m \u001b[43m    \u001b[49m\u001b[43mdataset_name\u001b[49m\u001b[38;5;241;43m=\u001b[39;49m\u001b[38;5;124;43m\"\u001b[39;49m\u001b[38;5;124;43mmodelo_yolov11_dataset_completo\u001b[39;49m\u001b[38;5;124;43m\"\u001b[39;49m\u001b[43m,\u001b[49m\n\u001b[0;32m      3\u001b[0m \u001b[43m    \u001b[49m\u001b[43mclass_names\u001b[49m\u001b[38;5;241;43m=\u001b[39;49m\u001b[43m[\u001b[49m\u001b[38;5;124;43m\"\u001b[39;49m\u001b[38;5;124;43mVehiculos\u001b[39;49m\u001b[38;5;124;43m\"\u001b[39;49m\u001b[43m,\u001b[49m\u001b[43m \u001b[49m\u001b[38;5;124;43m\"\u001b[39;49m\u001b[38;5;124;43mBodegas\u001b[39;49m\u001b[38;5;124;43m\"\u001b[39;49m\u001b[43m,\u001b[49m\u001b[43m \u001b[49m\u001b[38;5;124;43m\"\u001b[39;49m\u001b[38;5;124;43mCaminos\u001b[39;49m\u001b[38;5;124;43m\"\u001b[39;49m\u001b[43m,\u001b[49m\u001b[43m \u001b[49m\u001b[38;5;124;43m\"\u001b[39;49m\u001b[38;5;124;43mRios\u001b[39;49m\u001b[38;5;124;43m\"\u001b[39;49m\u001b[43m,\u001b[49m\u001b[43m \u001b[49m\u001b[38;5;124;43m\"\u001b[39;49m\u001b[38;5;124;43mZonas de mineria ilegal\u001b[39;49m\u001b[38;5;124;43m\"\u001b[39;49m\u001b[43m]\u001b[49m\u001b[43m,\u001b[49m\n\u001b[0;32m      4\u001b[0m \u001b[43m    \u001b[49m\u001b[43moutput_name\u001b[49m\u001b[38;5;241;43m=\u001b[39;49m\u001b[38;5;124;43m\"\u001b[39;49m\u001b[38;5;124;43mmodelo_yolov11_dataset_completo_final_v2\u001b[39;49m\u001b[38;5;124;43m\"\u001b[39;49m\u001b[43m,\u001b[49m\n\u001b[0;32m      5\u001b[0m \u001b[43m)\u001b[49m\n",
      "\u001b[1;31mTypeError\u001b[0m: entrenar_modelo_final() got an unexpected keyword argument 'output_name'"
     ]
    }
   ],
   "source": [
    "entrenar_modelo_final(\n",
    "    dataset_name=\"modelo_yolov11_dataset_completo\",\n",
    "    class_names=[\"Vehiculos\", \"Bodegas\", \"Caminos\", \"Rios\", \"Zonas de mineria ilegal\"],\n",
    "    output_name=\"modelo_yolov11_dataset_completo_final_v2\",\n",
    "    model_weights=\"yolov8m.pt\",\n",
    ")\n"
   ]
  },
  {
   "cell_type": "code",
   "execution_count": null,
   "id": "f46a0b3c",
   "metadata": {},
   "outputs": [],
   "source": [
    "entrenar_modelo_final(\n",
    "    dataset_name=\"modelo_yolov11_dataset_filtrado\",\n",
    "    class_names=[\"Vehiculos\", \"Bodegas\", \"Caminos\", \"Rios\", \"Zonas de mineria ilegal\"],\n",
    "    output_name=\"modelo_yolov11_dataset_filtrado_final_v2\",\n",
    "    \n",
    ")\n"
   ]
  },
  {
   "cell_type": "markdown",
   "id": "7f38261d",
   "metadata": {},
   "source": [
    "# Con preprocesamiento"
   ]
  },
  {
   "cell_type": "code",
   "execution_count": 7,
   "id": "97766c91",
   "metadata": {},
   "outputs": [
    {
     "name": "stdout",
     "output_type": "stream",
     "text": [
      "🚀 Entrenando modelo final desde cero: preprocesamiento/modelo_yolov11_dataset_filtrado_preprocesado\n",
      "New https://pypi.org/project/ultralytics/8.3.146 available  Update with 'pip install -U ultralytics'\n",
      "Ultralytics 8.3.128  Python-3.11.9 torch-2.7.0+cu126 CUDA:0 (NVIDIA GeForce RTX 4060 Laptop GPU, 8188MiB)\n",
      "\u001b[34m\u001b[1mengine\\trainer: \u001b[0magnostic_nms=False, amp=True, augment=False, auto_augment=randaugment, batch=16, bgr=0.0, box=7.5, cache=False, cfg=None, classes=None, close_mosaic=10, cls=0.5, conf=None, copy_paste=0.0, copy_paste_mode=flip, cos_lr=True, cutmix=0.0, data=preprocesamiento\\modelo_yolov11_dataset_filtrado_preprocesado\\dataset.yaml, degrees=0.0, deterministic=True, device=None, dfl=1.5, dnn=False, dropout=0.0, dynamic=False, embed=None, epochs=250, erasing=0.4, exist_ok=False, fliplr=0.5, flipud=0.0, format=torchscript, fraction=1.0, freeze=None, half=False, hsv_h=0.015, hsv_s=0.7, hsv_v=0.4, imgsz=640, int8=False, iou=0.7, keras=False, kobj=1.0, line_width=None, lr0=0.01, lrf=0.01, mask_ratio=4, max_det=300, mixup=0.0, mode=train, model=yolov8s.pt, momentum=0.937, mosaic=1.0, multi_scale=False, name=modelo_yolov11_dataset_filtrado_preprocesado_final, nbs=64, nms=False, opset=None, optimize=False, optimizer=auto, overlap_mask=True, patience=10, perspective=0.0, plots=True, pose=12.0, pretrained=True, profile=False, project=None, rect=False, resume=False, retina_masks=False, save=True, save_conf=False, save_crop=False, save_dir=runs\\detect\\preprocesamiento\\modelo_yolov11_dataset_filtrado_preprocesado_final, save_frames=False, save_json=False, save_period=-1, save_txt=False, scale=0.5, seed=0, shear=0.0, show=False, show_boxes=True, show_conf=True, show_labels=True, simplify=True, single_cls=False, source=None, split=val, stream_buffer=False, task=detect, time=None, tracker=botsort.yaml, translate=0.1, val=True, verbose=True, vid_stride=1, visualize=False, warmup_bias_lr=0.1, warmup_epochs=3.0, warmup_momentum=0.8, weight_decay=0.0005, workers=16, workspace=None\n",
      "Overriding model.yaml nc=80 with nc=5\n",
      "\n",
      "                   from  n    params  module                                       arguments                     \n",
      "  0                  -1  1       928  ultralytics.nn.modules.conv.Conv             [3, 32, 3, 2]                 \n",
      "  1                  -1  1     18560  ultralytics.nn.modules.conv.Conv             [32, 64, 3, 2]                \n",
      "  2                  -1  1     29056  ultralytics.nn.modules.block.C2f             [64, 64, 1, True]             \n",
      "  3                  -1  1     73984  ultralytics.nn.modules.conv.Conv             [64, 128, 3, 2]               \n",
      "  4                  -1  2    197632  ultralytics.nn.modules.block.C2f             [128, 128, 2, True]           \n",
      "  5                  -1  1    295424  ultralytics.nn.modules.conv.Conv             [128, 256, 3, 2]              \n",
      "  6                  -1  2    788480  ultralytics.nn.modules.block.C2f             [256, 256, 2, True]           \n",
      "  7                  -1  1   1180672  ultralytics.nn.modules.conv.Conv             [256, 512, 3, 2]              \n",
      "  8                  -1  1   1838080  ultralytics.nn.modules.block.C2f             [512, 512, 1, True]           \n",
      "  9                  -1  1    656896  ultralytics.nn.modules.block.SPPF            [512, 512, 5]                 \n",
      " 10                  -1  1         0  torch.nn.modules.upsampling.Upsample         [None, 2, 'nearest']          \n",
      " 11             [-1, 6]  1         0  ultralytics.nn.modules.conv.Concat           [1]                           \n",
      " 12                  -1  1    591360  ultralytics.nn.modules.block.C2f             [768, 256, 1]                 \n",
      " 13                  -1  1         0  torch.nn.modules.upsampling.Upsample         [None, 2, 'nearest']          \n",
      " 14             [-1, 4]  1         0  ultralytics.nn.modules.conv.Concat           [1]                           \n",
      " 15                  -1  1    148224  ultralytics.nn.modules.block.C2f             [384, 128, 1]                 \n",
      " 16                  -1  1    147712  ultralytics.nn.modules.conv.Conv             [128, 128, 3, 2]              \n",
      " 17            [-1, 12]  1         0  ultralytics.nn.modules.conv.Concat           [1]                           \n",
      " 18                  -1  1    493056  ultralytics.nn.modules.block.C2f             [384, 256, 1]                 \n",
      " 19                  -1  1    590336  ultralytics.nn.modules.conv.Conv             [256, 256, 3, 2]              \n",
      " 20             [-1, 9]  1         0  ultralytics.nn.modules.conv.Concat           [1]                           \n",
      " 21                  -1  1   1969152  ultralytics.nn.modules.block.C2f             [768, 512, 1]                 \n",
      " 22        [15, 18, 21]  1   2117983  ultralytics.nn.modules.head.Detect           [5, [128, 256, 512]]          \n",
      "Model summary: 129 layers, 11,137,535 parameters, 11,137,519 gradients, 28.7 GFLOPs\n",
      "\n",
      "Transferred 349/355 items from pretrained weights\n",
      "Freezing layer 'model.22.dfl.conv.weight'\n",
      "\u001b[34m\u001b[1mAMP: \u001b[0mrunning Automatic Mixed Precision (AMP) checks...\n",
      "\u001b[34m\u001b[1mAMP: \u001b[0mchecks passed \n",
      "\u001b[34m\u001b[1mtrain: \u001b[0mFast image access  (ping: 0.20.0 ms, read: 42.813.6 MB/s, size: 449.6 KB)\n"
     ]
    },
    {
     "name": "stderr",
     "output_type": "stream",
     "text": [
      "\u001b[34m\u001b[1mtrain: \u001b[0mScanning C:\\Users\\ASUS\\Desktop\\Andes\\11\\Imagenes\\FLIR_GPF2\\preprocesamiento\\modelo_yolov11_dataset_filtrado_preprocesado\\train\\labels... 11230 images, 2865 backgrounds, 0 corrupt: 100%|██████████| 11230/11230 [00:21<00:00, 519.69it/s]\n"
     ]
    },
    {
     "name": "stdout",
     "output_type": "stream",
     "text": [
      "\u001b[34m\u001b[1mtrain: \u001b[0mNew cache created: C:\\Users\\ASUS\\Desktop\\Andes\\11\\Imagenes\\FLIR_GPF2\\preprocesamiento\\modelo_yolov11_dataset_filtrado_preprocesado\\train\\labels.cache\n",
      "\u001b[34m\u001b[1malbumentations: \u001b[0mImageCompression.__init__() got an unexpected keyword argument 'quality_range'\n",
      "\u001b[34m\u001b[1mval: \u001b[0mFast image access  (ping: 0.70.1 ms, read: 19.13.1 MB/s, size: 500.9 KB)\n"
     ]
    },
    {
     "name": "stderr",
     "output_type": "stream",
     "text": [
      "\u001b[34m\u001b[1mval: \u001b[0mScanning C:\\Users\\ASUS\\Desktop\\Andes\\11\\Imagenes\\FLIR_GPF2\\preprocesamiento\\modelo_yolov11_dataset_filtrado_preprocesado\\val\\labels... 81 images, 5 backgrounds, 0 corrupt: 100%|██████████| 81/81 [00:00<00:00, 165.66it/s]\n"
     ]
    },
    {
     "name": "stdout",
     "output_type": "stream",
     "text": [
      "\u001b[34m\u001b[1mval: \u001b[0mNew cache created: C:\\Users\\ASUS\\Desktop\\Andes\\11\\Imagenes\\FLIR_GPF2\\preprocesamiento\\modelo_yolov11_dataset_filtrado_preprocesado\\val\\labels.cache\n",
      "Plotting labels to runs\\detect\\preprocesamiento\\modelo_yolov11_dataset_filtrado_preprocesado_final\\labels.jpg... \n",
      "\u001b[34m\u001b[1moptimizer:\u001b[0m 'optimizer=auto' found, ignoring 'lr0=0.01' and 'momentum=0.937' and determining best 'optimizer', 'lr0' and 'momentum' automatically... \n",
      "\u001b[34m\u001b[1moptimizer:\u001b[0m SGD(lr=0.01, momentum=0.9) with parameter groups 57 weight(decay=0.0), 64 weight(decay=0.0005), 63 bias(decay=0.0)\n"
     ]
    },
    {
     "name": "stderr",
     "output_type": "stream",
     "text": [
      "2025/05/27 18:40:00 INFO mlflow.tracking.fluent: Autologging successfully enabled for sklearn.\n",
      "2025/05/27 18:40:05 INFO mlflow.tracking.fluent: Autologging successfully enabled for statsmodels.\n"
     ]
    },
    {
     "name": "stdout",
     "output_type": "stream",
     "text": [
      "\u001b[34m\u001b[1mMLflow: \u001b[0mlogging run_id(3f9965f107fe437ba4dfca3f6624070a) to runs\\mlflow\n",
      "\u001b[34m\u001b[1mMLflow: \u001b[0mview at http://127.0.0.1:5000 with 'mlflow server --backend-store-uri runs\\mlflow'\n",
      "\u001b[34m\u001b[1mMLflow: \u001b[0mdisable with 'yolo settings mlflow=False'\n",
      "Image sizes 640 train, 640 val\n",
      "Using 16 dataloader workers\n",
      "Logging results to \u001b[1mruns\\detect\\preprocesamiento\\modelo_yolov11_dataset_filtrado_preprocesado_final\u001b[0m\n",
      "Starting training for 250 epochs...\n",
      "\n",
      "      Epoch    GPU_mem   box_loss   cls_loss   dfl_loss  Instances       Size\n"
     ]
    },
    {
     "name": "stderr",
     "output_type": "stream",
     "text": [
      "      1/250      0.85G      2.218      3.184      2.065         21        640: 100%|██████████| 702/702 [03:23<00:00,  3.45it/s]\n",
      "                 Class     Images  Instances      Box(P          R      mAP50  mAP50-95): 100%|██████████| 3/3 [00:06<00:00,  2.06s/it]"
     ]
    },
    {
     "name": "stdout",
     "output_type": "stream",
     "text": [
      "                   all         81        326      0.488      0.476      0.403        0.2\n"
     ]
    },
    {
     "name": "stderr",
     "output_type": "stream",
     "text": [
      "\n"
     ]
    },
    {
     "name": "stdout",
     "output_type": "stream",
     "text": [
      "\n",
      "      Epoch    GPU_mem   box_loss   cls_loss   dfl_loss  Instances       Size\n"
     ]
    },
    {
     "name": "stderr",
     "output_type": "stream",
     "text": [
      "      2/250      3.63G      1.895          2      1.757         25        640: 100%|██████████| 702/702 [02:59<00:00,  3.92it/s]\n",
      "                 Class     Images  Instances      Box(P          R      mAP50  mAP50-95): 100%|██████████| 3/3 [00:00<00:00,  4.22it/s]"
     ]
    },
    {
     "name": "stdout",
     "output_type": "stream",
     "text": [
      "                   all         81        326      0.494      0.475      0.507      0.242\n"
     ]
    },
    {
     "name": "stderr",
     "output_type": "stream",
     "text": [
      "\n"
     ]
    },
    {
     "name": "stdout",
     "output_type": "stream",
     "text": [
      "\n",
      "      Epoch    GPU_mem   box_loss   cls_loss   dfl_loss  Instances       Size\n"
     ]
    },
    {
     "name": "stderr",
     "output_type": "stream",
     "text": [
      "      3/250      3.84G      1.897      1.932      1.718         27        640: 100%|██████████| 702/702 [02:58<00:00,  3.93it/s]\n",
      "                 Class     Images  Instances      Box(P          R      mAP50  mAP50-95): 100%|██████████| 3/3 [00:00<00:00,  4.30it/s]"
     ]
    },
    {
     "name": "stdout",
     "output_type": "stream",
     "text": [
      "                   all         81        326      0.538        0.3      0.369      0.155\n"
     ]
    },
    {
     "name": "stderr",
     "output_type": "stream",
     "text": [
      "\n"
     ]
    },
    {
     "name": "stdout",
     "output_type": "stream",
     "text": [
      "\n",
      "      Epoch    GPU_mem   box_loss   cls_loss   dfl_loss  Instances       Size\n"
     ]
    },
    {
     "name": "stderr",
     "output_type": "stream",
     "text": [
      "      4/250      3.87G      1.913      1.966      1.759         27        640: 100%|██████████| 702/702 [02:56<00:00,  3.97it/s]\n",
      "                 Class     Images  Instances      Box(P          R      mAP50  mAP50-95): 100%|██████████| 3/3 [00:00<00:00,  4.26it/s]"
     ]
    },
    {
     "name": "stdout",
     "output_type": "stream",
     "text": [
      "                   all         81        326      0.318       0.47      0.326      0.144\n"
     ]
    },
    {
     "name": "stderr",
     "output_type": "stream",
     "text": [
      "\n"
     ]
    },
    {
     "name": "stdout",
     "output_type": "stream",
     "text": [
      "\n",
      "      Epoch    GPU_mem   box_loss   cls_loss   dfl_loss  Instances       Size\n"
     ]
    },
    {
     "name": "stderr",
     "output_type": "stream",
     "text": [
      "      5/250      3.89G      1.817      1.806      1.692         27        640: 100%|██████████| 702/702 [02:57<00:00,  3.96it/s]\n",
      "                 Class     Images  Instances      Box(P          R      mAP50  mAP50-95): 100%|██████████| 3/3 [00:00<00:00,  4.63it/s]"
     ]
    },
    {
     "name": "stdout",
     "output_type": "stream",
     "text": [
      "                   all         81        326      0.571      0.497      0.513      0.252\n"
     ]
    },
    {
     "name": "stderr",
     "output_type": "stream",
     "text": [
      "\n"
     ]
    },
    {
     "name": "stdout",
     "output_type": "stream",
     "text": [
      "\n",
      "      Epoch    GPU_mem   box_loss   cls_loss   dfl_loss  Instances       Size\n"
     ]
    },
    {
     "name": "stderr",
     "output_type": "stream",
     "text": [
      "      6/250      3.91G      1.713      1.661      1.617         21        640: 100%|██████████| 702/702 [02:57<00:00,  3.96it/s]\n",
      "                 Class     Images  Instances      Box(P          R      mAP50  mAP50-95): 100%|██████████| 3/3 [00:00<00:00,  3.89it/s]"
     ]
    },
    {
     "name": "stdout",
     "output_type": "stream",
     "text": [
      "                   all         81        326      0.633      0.456      0.527      0.261\n"
     ]
    },
    {
     "name": "stderr",
     "output_type": "stream",
     "text": [
      "\n"
     ]
    },
    {
     "name": "stdout",
     "output_type": "stream",
     "text": [
      "\n",
      "      Epoch    GPU_mem   box_loss   cls_loss   dfl_loss  Instances       Size\n"
     ]
    },
    {
     "name": "stderr",
     "output_type": "stream",
     "text": [
      "      7/250      3.94G      1.638       1.55      1.556         39        640: 100%|██████████| 702/702 [02:57<00:00,  3.96it/s]\n",
      "                 Class     Images  Instances      Box(P          R      mAP50  mAP50-95): 100%|██████████| 3/3 [00:00<00:00,  4.40it/s]"
     ]
    },
    {
     "name": "stdout",
     "output_type": "stream",
     "text": [
      "                   all         81        326      0.633      0.485      0.513      0.247\n"
     ]
    },
    {
     "name": "stderr",
     "output_type": "stream",
     "text": [
      "\n"
     ]
    },
    {
     "name": "stdout",
     "output_type": "stream",
     "text": [
      "\n",
      "      Epoch    GPU_mem   box_loss   cls_loss   dfl_loss  Instances       Size\n"
     ]
    },
    {
     "name": "stderr",
     "output_type": "stream",
     "text": [
      "      8/250      3.96G       1.57      1.454      1.506         24        640: 100%|██████████| 702/702 [02:59<00:00,  3.91it/s]\n",
      "                 Class     Images  Instances      Box(P          R      mAP50  mAP50-95): 100%|██████████| 3/3 [00:00<00:00,  4.18it/s]"
     ]
    },
    {
     "name": "stdout",
     "output_type": "stream",
     "text": [
      "                   all         81        326      0.633       0.52      0.504       0.25\n"
     ]
    },
    {
     "name": "stderr",
     "output_type": "stream",
     "text": [
      "\n"
     ]
    },
    {
     "name": "stdout",
     "output_type": "stream",
     "text": [
      "\n",
      "      Epoch    GPU_mem   box_loss   cls_loss   dfl_loss  Instances       Size\n"
     ]
    },
    {
     "name": "stderr",
     "output_type": "stream",
     "text": [
      "      9/250      3.99G      1.506      1.378      1.472         32        640: 100%|██████████| 702/702 [02:57<00:00,  3.95it/s]\n",
      "                 Class     Images  Instances      Box(P          R      mAP50  mAP50-95): 100%|██████████| 3/3 [00:00<00:00,  4.37it/s]"
     ]
    },
    {
     "name": "stdout",
     "output_type": "stream",
     "text": [
      "                   all         81        326       0.69      0.532      0.587      0.311\n"
     ]
    },
    {
     "name": "stderr",
     "output_type": "stream",
     "text": [
      "\n"
     ]
    },
    {
     "name": "stdout",
     "output_type": "stream",
     "text": [
      "\n",
      "      Epoch    GPU_mem   box_loss   cls_loss   dfl_loss  Instances       Size\n"
     ]
    },
    {
     "name": "stderr",
     "output_type": "stream",
     "text": [
      "     10/250      4.01G      1.469      1.319      1.442         23        640: 100%|██████████| 702/702 [02:56<00:00,  3.97it/s]\n",
      "                 Class     Images  Instances      Box(P          R      mAP50  mAP50-95): 100%|██████████| 3/3 [00:00<00:00,  4.64it/s]"
     ]
    },
    {
     "name": "stdout",
     "output_type": "stream",
     "text": [
      "                   all         81        326      0.739      0.494      0.589      0.307\n"
     ]
    },
    {
     "name": "stderr",
     "output_type": "stream",
     "text": [
      "\n"
     ]
    },
    {
     "name": "stdout",
     "output_type": "stream",
     "text": [
      "\n",
      "      Epoch    GPU_mem   box_loss   cls_loss   dfl_loss  Instances       Size\n"
     ]
    },
    {
     "name": "stderr",
     "output_type": "stream",
     "text": [
      "     11/250      3.76G      1.419      1.267      1.412         19        640: 100%|██████████| 702/702 [02:55<00:00,  4.01it/s]\n",
      "                 Class     Images  Instances      Box(P          R      mAP50  mAP50-95): 100%|██████████| 3/3 [00:00<00:00,  4.29it/s]"
     ]
    },
    {
     "name": "stdout",
     "output_type": "stream",
     "text": [
      "                   all         81        326      0.769      0.456      0.573      0.279\n"
     ]
    },
    {
     "name": "stderr",
     "output_type": "stream",
     "text": [
      "\n"
     ]
    },
    {
     "name": "stdout",
     "output_type": "stream",
     "text": [
      "\n",
      "      Epoch    GPU_mem   box_loss   cls_loss   dfl_loss  Instances       Size\n"
     ]
    },
    {
     "name": "stderr",
     "output_type": "stream",
     "text": [
      "     12/250      3.94G      1.394      1.233      1.384         36        640: 100%|██████████| 702/702 [02:58<00:00,  3.94it/s]\n",
      "                 Class     Images  Instances      Box(P          R      mAP50  mAP50-95): 100%|██████████| 3/3 [00:00<00:00,  3.40it/s]"
     ]
    },
    {
     "name": "stdout",
     "output_type": "stream",
     "text": [
      "                   all         81        326      0.872      0.492      0.632      0.336\n"
     ]
    },
    {
     "name": "stderr",
     "output_type": "stream",
     "text": [
      "\n"
     ]
    },
    {
     "name": "stdout",
     "output_type": "stream",
     "text": [
      "\n",
      "      Epoch    GPU_mem   box_loss   cls_loss   dfl_loss  Instances       Size\n"
     ]
    },
    {
     "name": "stderr",
     "output_type": "stream",
     "text": [
      "     13/250      3.94G      1.348      1.186      1.359         34        640: 100%|██████████| 702/702 [02:56<00:00,  3.97it/s]\n",
      "                 Class     Images  Instances      Box(P          R      mAP50  mAP50-95): 100%|██████████| 3/3 [00:00<00:00,  4.49it/s]"
     ]
    },
    {
     "name": "stdout",
     "output_type": "stream",
     "text": [
      "                   all         81        326      0.727      0.504      0.601      0.328\n"
     ]
    },
    {
     "name": "stderr",
     "output_type": "stream",
     "text": [
      "\n"
     ]
    },
    {
     "name": "stdout",
     "output_type": "stream",
     "text": [
      "\n",
      "      Epoch    GPU_mem   box_loss   cls_loss   dfl_loss  Instances       Size\n"
     ]
    },
    {
     "name": "stderr",
     "output_type": "stream",
     "text": [
      "     14/250      3.94G      1.333      1.157       1.35         41        640: 100%|██████████| 702/702 [03:10<00:00,  3.69it/s]\n",
      "                 Class     Images  Instances      Box(P          R      mAP50  mAP50-95): 100%|██████████| 3/3 [00:00<00:00,  4.42it/s]"
     ]
    },
    {
     "name": "stdout",
     "output_type": "stream",
     "text": [
      "                   all         81        326      0.734      0.515      0.642      0.338\n"
     ]
    },
    {
     "name": "stderr",
     "output_type": "stream",
     "text": [
      "\n"
     ]
    },
    {
     "name": "stdout",
     "output_type": "stream",
     "text": [
      "\n",
      "      Epoch    GPU_mem   box_loss   cls_loss   dfl_loss  Instances       Size\n"
     ]
    },
    {
     "name": "stderr",
     "output_type": "stream",
     "text": [
      "     15/250      3.94G      1.304      1.125      1.326         28        640: 100%|██████████| 702/702 [03:19<00:00,  3.52it/s]\n",
      "                 Class     Images  Instances      Box(P          R      mAP50  mAP50-95): 100%|██████████| 3/3 [00:00<00:00,  3.99it/s]"
     ]
    },
    {
     "name": "stdout",
     "output_type": "stream",
     "text": [
      "                   all         81        326      0.627      0.602      0.637      0.346\n"
     ]
    },
    {
     "name": "stderr",
     "output_type": "stream",
     "text": [
      "\n"
     ]
    },
    {
     "name": "stdout",
     "output_type": "stream",
     "text": [
      "\n",
      "      Epoch    GPU_mem   box_loss   cls_loss   dfl_loss  Instances       Size\n"
     ]
    },
    {
     "name": "stderr",
     "output_type": "stream",
     "text": [
      "     16/250      3.95G       1.28      1.099      1.314         25        640: 100%|██████████| 702/702 [02:57<00:00,  3.95it/s]\n",
      "                 Class     Images  Instances      Box(P          R      mAP50  mAP50-95): 100%|██████████| 3/3 [00:00<00:00,  4.52it/s]"
     ]
    },
    {
     "name": "stdout",
     "output_type": "stream",
     "text": [
      "                   all         81        326      0.543      0.469      0.638      0.347\n"
     ]
    },
    {
     "name": "stderr",
     "output_type": "stream",
     "text": [
      "\n"
     ]
    },
    {
     "name": "stdout",
     "output_type": "stream",
     "text": [
      "\n",
      "      Epoch    GPU_mem   box_loss   cls_loss   dfl_loss  Instances       Size\n"
     ]
    },
    {
     "name": "stderr",
     "output_type": "stream",
     "text": [
      "     17/250      3.98G       1.25      1.054      1.289         44        640: 100%|██████████| 702/702 [02:57<00:00,  3.95it/s]\n",
      "                 Class     Images  Instances      Box(P          R      mAP50  mAP50-95): 100%|██████████| 3/3 [00:00<00:00,  4.65it/s]"
     ]
    },
    {
     "name": "stdout",
     "output_type": "stream",
     "text": [
      "                   all         81        326      0.649      0.531      0.605      0.334\n"
     ]
    },
    {
     "name": "stderr",
     "output_type": "stream",
     "text": [
      "\n"
     ]
    },
    {
     "name": "stdout",
     "output_type": "stream",
     "text": [
      "\n",
      "      Epoch    GPU_mem   box_loss   cls_loss   dfl_loss  Instances       Size\n"
     ]
    },
    {
     "name": "stderr",
     "output_type": "stream",
     "text": [
      "     18/250         4G      1.235      1.037      1.279         24        640: 100%|██████████| 702/702 [02:58<00:00,  3.94it/s]\n",
      "                 Class     Images  Instances      Box(P          R      mAP50  mAP50-95): 100%|██████████| 3/3 [00:00<00:00,  4.41it/s]"
     ]
    },
    {
     "name": "stdout",
     "output_type": "stream",
     "text": [
      "                   all         81        326      0.712      0.526      0.654      0.364\n"
     ]
    },
    {
     "name": "stderr",
     "output_type": "stream",
     "text": [
      "\n"
     ]
    },
    {
     "name": "stdout",
     "output_type": "stream",
     "text": [
      "\n",
      "      Epoch    GPU_mem   box_loss   cls_loss   dfl_loss  Instances       Size\n"
     ]
    },
    {
     "name": "stderr",
     "output_type": "stream",
     "text": [
      "     19/250      3.72G      1.209      1.011      1.265         40        640: 100%|██████████| 702/702 [02:55<00:00,  4.00it/s]\n",
      "                 Class     Images  Instances      Box(P          R      mAP50  mAP50-95): 100%|██████████| 3/3 [00:00<00:00,  4.33it/s]"
     ]
    },
    {
     "name": "stdout",
     "output_type": "stream",
     "text": [
      "                   all         81        326      0.557      0.604        0.6      0.306\n"
     ]
    },
    {
     "name": "stderr",
     "output_type": "stream",
     "text": [
      "\n"
     ]
    },
    {
     "name": "stdout",
     "output_type": "stream",
     "text": [
      "\n",
      "      Epoch    GPU_mem   box_loss   cls_loss   dfl_loss  Instances       Size\n"
     ]
    },
    {
     "name": "stderr",
     "output_type": "stream",
     "text": [
      "     20/250      3.91G      1.202      1.005      1.261         24        640: 100%|██████████| 702/702 [03:04<00:00,  3.80it/s]\n",
      "                 Class     Images  Instances      Box(P          R      mAP50  mAP50-95): 100%|██████████| 3/3 [00:00<00:00,  4.63it/s]"
     ]
    },
    {
     "name": "stdout",
     "output_type": "stream",
     "text": [
      "                   all         81        326      0.719      0.567      0.671      0.346\n"
     ]
    },
    {
     "name": "stderr",
     "output_type": "stream",
     "text": [
      "\n"
     ]
    },
    {
     "name": "stdout",
     "output_type": "stream",
     "text": [
      "\n",
      "      Epoch    GPU_mem   box_loss   cls_loss   dfl_loss  Instances       Size\n"
     ]
    },
    {
     "name": "stderr",
     "output_type": "stream",
     "text": [
      "     21/250      3.91G      1.174     0.9814       1.24         21        640: 100%|██████████| 702/702 [02:58<00:00,  3.93it/s]\n",
      "                 Class     Images  Instances      Box(P          R      mAP50  mAP50-95): 100%|██████████| 3/3 [00:00<00:00,  4.47it/s]"
     ]
    },
    {
     "name": "stdout",
     "output_type": "stream",
     "text": [
      "                   all         81        326      0.842      0.533      0.681      0.372\n"
     ]
    },
    {
     "name": "stderr",
     "output_type": "stream",
     "text": [
      "\n"
     ]
    },
    {
     "name": "stdout",
     "output_type": "stream",
     "text": [
      "\n",
      "      Epoch    GPU_mem   box_loss   cls_loss   dfl_loss  Instances       Size\n"
     ]
    },
    {
     "name": "stderr",
     "output_type": "stream",
     "text": [
      "     22/250      3.91G      1.159     0.9605      1.237         22        640: 100%|██████████| 702/702 [02:57<00:00,  3.96it/s]\n",
      "                 Class     Images  Instances      Box(P          R      mAP50  mAP50-95): 100%|██████████| 3/3 [00:00<00:00,  4.44it/s]"
     ]
    },
    {
     "name": "stdout",
     "output_type": "stream",
     "text": [
      "                   all         81        326      0.669      0.621      0.667       0.37\n"
     ]
    },
    {
     "name": "stderr",
     "output_type": "stream",
     "text": [
      "\n"
     ]
    },
    {
     "name": "stdout",
     "output_type": "stream",
     "text": [
      "\n",
      "      Epoch    GPU_mem   box_loss   cls_loss   dfl_loss  Instances       Size\n"
     ]
    },
    {
     "name": "stderr",
     "output_type": "stream",
     "text": [
      "     23/250      3.92G       1.15     0.9507      1.233         26        640: 100%|██████████| 702/702 [02:57<00:00,  3.95it/s]\n",
      "                 Class     Images  Instances      Box(P          R      mAP50  mAP50-95): 100%|██████████| 3/3 [00:00<00:00,  4.37it/s]"
     ]
    },
    {
     "name": "stdout",
     "output_type": "stream",
     "text": [
      "                   all         81        326      0.682      0.574      0.645      0.377\n"
     ]
    },
    {
     "name": "stderr",
     "output_type": "stream",
     "text": [
      "\n"
     ]
    },
    {
     "name": "stdout",
     "output_type": "stream",
     "text": [
      "\n",
      "      Epoch    GPU_mem   box_loss   cls_loss   dfl_loss  Instances       Size\n"
     ]
    },
    {
     "name": "stderr",
     "output_type": "stream",
     "text": [
      "     24/250      3.94G      1.135     0.9316      1.222         57        640: 100%|██████████| 702/702 [02:57<00:00,  3.96it/s]\n",
      "                 Class     Images  Instances      Box(P          R      mAP50  mAP50-95): 100%|██████████| 3/3 [00:00<00:00,  3.18it/s]"
     ]
    },
    {
     "name": "stdout",
     "output_type": "stream",
     "text": [
      "                   all         81        326      0.656      0.644      0.649      0.378\n"
     ]
    },
    {
     "name": "stderr",
     "output_type": "stream",
     "text": [
      "\n"
     ]
    },
    {
     "name": "stdout",
     "output_type": "stream",
     "text": [
      "\n",
      "      Epoch    GPU_mem   box_loss   cls_loss   dfl_loss  Instances       Size\n"
     ]
    },
    {
     "name": "stderr",
     "output_type": "stream",
     "text": [
      "     25/250      3.97G       1.12     0.9018      1.201         28        640: 100%|██████████| 702/702 [03:11<00:00,  3.66it/s]\n",
      "                 Class     Images  Instances      Box(P          R      mAP50  mAP50-95): 100%|██████████| 3/3 [00:00<00:00,  4.58it/s]"
     ]
    },
    {
     "name": "stdout",
     "output_type": "stream",
     "text": [
      "                   all         81        326      0.732      0.595      0.668      0.375\n"
     ]
    },
    {
     "name": "stderr",
     "output_type": "stream",
     "text": [
      "\n"
     ]
    },
    {
     "name": "stdout",
     "output_type": "stream",
     "text": [
      "\n",
      "      Epoch    GPU_mem   box_loss   cls_loss   dfl_loss  Instances       Size\n"
     ]
    },
    {
     "name": "stderr",
     "output_type": "stream",
     "text": [
      "     26/250      3.99G        1.1     0.9029        1.2         28        640: 100%|██████████| 702/702 [02:57<00:00,  3.96it/s]\n",
      "                 Class     Images  Instances      Box(P          R      mAP50  mAP50-95): 100%|██████████| 3/3 [00:00<00:00,  4.65it/s]"
     ]
    },
    {
     "name": "stdout",
     "output_type": "stream",
     "text": [
      "                   all         81        326      0.572       0.64       0.61      0.336\n"
     ]
    },
    {
     "name": "stderr",
     "output_type": "stream",
     "text": [
      "\n"
     ]
    },
    {
     "name": "stdout",
     "output_type": "stream",
     "text": [
      "\n",
      "      Epoch    GPU_mem   box_loss   cls_loss   dfl_loss  Instances       Size\n"
     ]
    },
    {
     "name": "stderr",
     "output_type": "stream",
     "text": [
      "     27/250      4.02G      1.105        0.9      1.199         25        640: 100%|██████████| 702/702 [02:59<00:00,  3.92it/s]\n",
      "                 Class     Images  Instances      Box(P          R      mAP50  mAP50-95): 100%|██████████| 3/3 [00:00<00:00,  4.56it/s]"
     ]
    },
    {
     "name": "stdout",
     "output_type": "stream",
     "text": [
      "                   all         81        326      0.752      0.528      0.657      0.393\n"
     ]
    },
    {
     "name": "stderr",
     "output_type": "stream",
     "text": [
      "\n"
     ]
    },
    {
     "name": "stdout",
     "output_type": "stream",
     "text": [
      "\n",
      "      Epoch    GPU_mem   box_loss   cls_loss   dfl_loss  Instances       Size\n"
     ]
    },
    {
     "name": "stderr",
     "output_type": "stream",
     "text": [
      "     28/250      3.74G      1.086     0.8898      1.188         37        640: 100%|██████████| 702/702 [02:55<00:00,  4.01it/s]\n",
      "                 Class     Images  Instances      Box(P          R      mAP50  mAP50-95): 100%|██████████| 3/3 [00:00<00:00,  4.62it/s]"
     ]
    },
    {
     "name": "stdout",
     "output_type": "stream",
     "text": [
      "                   all         81        326      0.759      0.625      0.703      0.411\n"
     ]
    },
    {
     "name": "stderr",
     "output_type": "stream",
     "text": [
      "\n"
     ]
    },
    {
     "name": "stdout",
     "output_type": "stream",
     "text": [
      "\n",
      "      Epoch    GPU_mem   box_loss   cls_loss   dfl_loss  Instances       Size\n"
     ]
    },
    {
     "name": "stderr",
     "output_type": "stream",
     "text": [
      "     29/250      3.93G      1.066       0.87      1.178         30        640: 100%|██████████| 702/702 [02:55<00:00,  4.01it/s]\n",
      "                 Class     Images  Instances      Box(P          R      mAP50  mAP50-95): 100%|██████████| 3/3 [00:00<00:00,  4.03it/s]"
     ]
    },
    {
     "name": "stdout",
     "output_type": "stream",
     "text": [
      "                   all         81        326      0.659      0.686      0.705      0.403\n"
     ]
    },
    {
     "name": "stderr",
     "output_type": "stream",
     "text": [
      "\n"
     ]
    },
    {
     "name": "stdout",
     "output_type": "stream",
     "text": [
      "\n",
      "      Epoch    GPU_mem   box_loss   cls_loss   dfl_loss  Instances       Size\n"
     ]
    },
    {
     "name": "stderr",
     "output_type": "stream",
     "text": [
      "     30/250      3.93G      1.059     0.8564      1.175         35        640: 100%|██████████| 702/702 [02:57<00:00,  3.96it/s]\n",
      "                 Class     Images  Instances      Box(P          R      mAP50  mAP50-95): 100%|██████████| 3/3 [00:00<00:00,  4.64it/s]"
     ]
    },
    {
     "name": "stdout",
     "output_type": "stream",
     "text": [
      "                   all         81        326      0.728       0.57       0.66      0.382\n"
     ]
    },
    {
     "name": "stderr",
     "output_type": "stream",
     "text": [
      "\n"
     ]
    },
    {
     "name": "stdout",
     "output_type": "stream",
     "text": [
      "\n",
      "      Epoch    GPU_mem   box_loss   cls_loss   dfl_loss  Instances       Size\n"
     ]
    },
    {
     "name": "stderr",
     "output_type": "stream",
     "text": [
      "     31/250      3.93G      1.061      0.858      1.173         25        640: 100%|██████████| 702/702 [02:57<00:00,  3.95it/s]\n",
      "                 Class     Images  Instances      Box(P          R      mAP50  mAP50-95): 100%|██████████| 3/3 [00:00<00:00,  4.31it/s]"
     ]
    },
    {
     "name": "stdout",
     "output_type": "stream",
     "text": [
      "                   all         81        326      0.702      0.624      0.659      0.411\n"
     ]
    },
    {
     "name": "stderr",
     "output_type": "stream",
     "text": [
      "\n"
     ]
    },
    {
     "name": "stdout",
     "output_type": "stream",
     "text": [
      "\n",
      "      Epoch    GPU_mem   box_loss   cls_loss   dfl_loss  Instances       Size\n"
     ]
    },
    {
     "name": "stderr",
     "output_type": "stream",
     "text": [
      "     32/250      3.93G      1.041     0.8458       1.16         27        640: 100%|██████████| 702/702 [03:14<00:00,  3.60it/s]\n",
      "                 Class     Images  Instances      Box(P          R      mAP50  mAP50-95): 100%|██████████| 3/3 [00:00<00:00,  4.57it/s]"
     ]
    },
    {
     "name": "stdout",
     "output_type": "stream",
     "text": [
      "                   all         81        326      0.884      0.575        0.7      0.438\n"
     ]
    },
    {
     "name": "stderr",
     "output_type": "stream",
     "text": [
      "\n"
     ]
    },
    {
     "name": "stdout",
     "output_type": "stream",
     "text": [
      "\n",
      "      Epoch    GPU_mem   box_loss   cls_loss   dfl_loss  Instances       Size\n"
     ]
    },
    {
     "name": "stderr",
     "output_type": "stream",
     "text": [
      "     33/250      3.94G       1.03     0.8319      1.157         37        640: 100%|██████████| 702/702 [02:58<00:00,  3.93it/s]\n",
      "                 Class     Images  Instances      Box(P          R      mAP50  mAP50-95): 100%|██████████| 3/3 [00:00<00:00,  4.56it/s]"
     ]
    },
    {
     "name": "stdout",
     "output_type": "stream",
     "text": [
      "                   all         81        326      0.909       0.54       0.71      0.426\n"
     ]
    },
    {
     "name": "stderr",
     "output_type": "stream",
     "text": [
      "\n"
     ]
    },
    {
     "name": "stdout",
     "output_type": "stream",
     "text": [
      "\n",
      "      Epoch    GPU_mem   box_loss   cls_loss   dfl_loss  Instances       Size\n"
     ]
    },
    {
     "name": "stderr",
     "output_type": "stream",
     "text": [
      "     34/250      3.96G       1.02     0.8251      1.148         42        640: 100%|██████████| 702/702 [02:57<00:00,  3.95it/s]\n",
      "                 Class     Images  Instances      Box(P          R      mAP50  mAP50-95): 100%|██████████| 3/3 [00:00<00:00,  4.53it/s]"
     ]
    },
    {
     "name": "stdout",
     "output_type": "stream",
     "text": [
      "                   all         81        326      0.725      0.643      0.721      0.446\n"
     ]
    },
    {
     "name": "stderr",
     "output_type": "stream",
     "text": [
      "\n"
     ]
    },
    {
     "name": "stdout",
     "output_type": "stream",
     "text": [
      "\n",
      "      Epoch    GPU_mem   box_loss   cls_loss   dfl_loss  Instances       Size\n"
     ]
    },
    {
     "name": "stderr",
     "output_type": "stream",
     "text": [
      "     35/250      3.99G      1.007     0.8054      1.136         32        640: 100%|██████████| 702/702 [02:57<00:00,  3.96it/s]\n",
      "                 Class     Images  Instances      Box(P          R      mAP50  mAP50-95): 100%|██████████| 3/3 [00:00<00:00,  4.65it/s]"
     ]
    },
    {
     "name": "stdout",
     "output_type": "stream",
     "text": [
      "                   all         81        326      0.799      0.561       0.71      0.437\n"
     ]
    },
    {
     "name": "stderr",
     "output_type": "stream",
     "text": [
      "\n"
     ]
    },
    {
     "name": "stdout",
     "output_type": "stream",
     "text": [
      "\n",
      "      Epoch    GPU_mem   box_loss   cls_loss   dfl_loss  Instances       Size\n"
     ]
    },
    {
     "name": "stderr",
     "output_type": "stream",
     "text": [
      "     36/250      4.01G       1.01     0.8101       1.14         21        640: 100%|██████████| 702/702 [02:57<00:00,  3.95it/s]\n",
      "                 Class     Images  Instances      Box(P          R      mAP50  mAP50-95): 100%|██████████| 3/3 [00:00<00:00,  4.62it/s]"
     ]
    },
    {
     "name": "stdout",
     "output_type": "stream",
     "text": [
      "                   all         81        326      0.684      0.678      0.733      0.455\n"
     ]
    },
    {
     "name": "stderr",
     "output_type": "stream",
     "text": [
      "\n"
     ]
    },
    {
     "name": "stdout",
     "output_type": "stream",
     "text": [
      "\n",
      "      Epoch    GPU_mem   box_loss   cls_loss   dfl_loss  Instances       Size\n"
     ]
    },
    {
     "name": "stderr",
     "output_type": "stream",
     "text": [
      "     37/250      3.74G      1.009     0.8062      1.132         34        640: 100%|██████████| 702/702 [02:55<00:00,  4.01it/s]\n",
      "                 Class     Images  Instances      Box(P          R      mAP50  mAP50-95): 100%|██████████| 3/3 [00:00<00:00,  4.56it/s]"
     ]
    },
    {
     "name": "stdout",
     "output_type": "stream",
     "text": [
      "                   all         81        326      0.693      0.658      0.689      0.435\n"
     ]
    },
    {
     "name": "stderr",
     "output_type": "stream",
     "text": [
      "\n"
     ]
    },
    {
     "name": "stdout",
     "output_type": "stream",
     "text": [
      "\n",
      "      Epoch    GPU_mem   box_loss   cls_loss   dfl_loss  Instances       Size\n"
     ]
    },
    {
     "name": "stderr",
     "output_type": "stream",
     "text": [
      "     38/250      3.92G     0.9918     0.7939      1.134         42        640: 100%|██████████| 702/702 [02:58<00:00,  3.93it/s]\n",
      "                 Class     Images  Instances      Box(P          R      mAP50  mAP50-95): 100%|██████████| 3/3 [00:00<00:00,  4.33it/s]"
     ]
    },
    {
     "name": "stdout",
     "output_type": "stream",
     "text": [
      "                   all         81        326      0.715      0.652      0.708      0.446\n"
     ]
    },
    {
     "name": "stderr",
     "output_type": "stream",
     "text": [
      "\n"
     ]
    },
    {
     "name": "stdout",
     "output_type": "stream",
     "text": [
      "\n",
      "      Epoch    GPU_mem   box_loss   cls_loss   dfl_loss  Instances       Size\n"
     ]
    },
    {
     "name": "stderr",
     "output_type": "stream",
     "text": [
      "     39/250      3.92G     0.9879     0.7896      1.123         38        640: 100%|██████████| 702/702 [02:57<00:00,  3.96it/s]\n",
      "                 Class     Images  Instances      Box(P          R      mAP50  mAP50-95): 100%|██████████| 3/3 [00:00<00:00,  4.55it/s]"
     ]
    },
    {
     "name": "stdout",
     "output_type": "stream",
     "text": [
      "                   all         81        326      0.691      0.651      0.699      0.458\n"
     ]
    },
    {
     "name": "stderr",
     "output_type": "stream",
     "text": [
      "\n"
     ]
    },
    {
     "name": "stdout",
     "output_type": "stream",
     "text": [
      "\n",
      "      Epoch    GPU_mem   box_loss   cls_loss   dfl_loss  Instances       Size\n"
     ]
    },
    {
     "name": "stderr",
     "output_type": "stream",
     "text": [
      "     40/250      3.92G      0.975     0.7789      1.122         23        640: 100%|██████████| 702/702 [02:57<00:00,  3.96it/s]\n",
      "                 Class     Images  Instances      Box(P          R      mAP50  mAP50-95): 100%|██████████| 3/3 [00:00<00:00,  4.18it/s]"
     ]
    },
    {
     "name": "stdout",
     "output_type": "stream",
     "text": [
      "                   all         81        326      0.857      0.597      0.716      0.453\n"
     ]
    },
    {
     "name": "stderr",
     "output_type": "stream",
     "text": [
      "\n"
     ]
    },
    {
     "name": "stdout",
     "output_type": "stream",
     "text": [
      "\n",
      "      Epoch    GPU_mem   box_loss   cls_loss   dfl_loss  Instances       Size\n"
     ]
    },
    {
     "name": "stderr",
     "output_type": "stream",
     "text": [
      "     41/250      3.92G      0.968      0.771      1.115         44        640: 100%|██████████| 702/702 [02:57<00:00,  3.95it/s]\n",
      "                 Class     Images  Instances      Box(P          R      mAP50  mAP50-95): 100%|██████████| 3/3 [00:00<00:00,  4.36it/s]"
     ]
    },
    {
     "name": "stdout",
     "output_type": "stream",
     "text": [
      "                   all         81        326      0.702      0.671       0.72       0.48\n"
     ]
    },
    {
     "name": "stderr",
     "output_type": "stream",
     "text": [
      "\n"
     ]
    },
    {
     "name": "stdout",
     "output_type": "stream",
     "text": [
      "\n",
      "      Epoch    GPU_mem   box_loss   cls_loss   dfl_loss  Instances       Size\n"
     ]
    },
    {
     "name": "stderr",
     "output_type": "stream",
     "text": [
      "     42/250      3.95G     0.9679     0.7698      1.112         28        640: 100%|██████████| 702/702 [02:57<00:00,  3.96it/s]\n",
      "                 Class     Images  Instances      Box(P          R      mAP50  mAP50-95): 100%|██████████| 3/3 [00:00<00:00,  4.13it/s]"
     ]
    },
    {
     "name": "stdout",
     "output_type": "stream",
     "text": [
      "                   all         81        326      0.793      0.629      0.704       0.47\n"
     ]
    },
    {
     "name": "stderr",
     "output_type": "stream",
     "text": [
      "\n"
     ]
    },
    {
     "name": "stdout",
     "output_type": "stream",
     "text": [
      "\n",
      "      Epoch    GPU_mem   box_loss   cls_loss   dfl_loss  Instances       Size\n"
     ]
    },
    {
     "name": "stderr",
     "output_type": "stream",
     "text": [
      "     43/250      3.97G     0.9564     0.7655      1.108         38        640: 100%|██████████| 702/702 [03:07<00:00,  3.75it/s]\n",
      "                 Class     Images  Instances      Box(P          R      mAP50  mAP50-95): 100%|██████████| 3/3 [00:00<00:00,  4.45it/s]"
     ]
    },
    {
     "name": "stdout",
     "output_type": "stream",
     "text": [
      "                   all         81        326      0.743      0.669      0.745      0.478\n"
     ]
    },
    {
     "name": "stderr",
     "output_type": "stream",
     "text": [
      "\n"
     ]
    },
    {
     "name": "stdout",
     "output_type": "stream",
     "text": [
      "\n",
      "      Epoch    GPU_mem   box_loss   cls_loss   dfl_loss  Instances       Size\n"
     ]
    },
    {
     "name": "stderr",
     "output_type": "stream",
     "text": [
      "     44/250      3.99G     0.9473     0.7528      1.104         32        640: 100%|██████████| 702/702 [02:57<00:00,  3.96it/s]\n",
      "                 Class     Images  Instances      Box(P          R      mAP50  mAP50-95): 100%|██████████| 3/3 [00:00<00:00,  4.67it/s]"
     ]
    },
    {
     "name": "stdout",
     "output_type": "stream",
     "text": [
      "                   all         81        326       0.77       0.64      0.707       0.47\n"
     ]
    },
    {
     "name": "stderr",
     "output_type": "stream",
     "text": [
      "\n"
     ]
    },
    {
     "name": "stdout",
     "output_type": "stream",
     "text": [
      "\n",
      "      Epoch    GPU_mem   box_loss   cls_loss   dfl_loss  Instances       Size\n"
     ]
    },
    {
     "name": "stderr",
     "output_type": "stream",
     "text": [
      "     45/250      3.73G     0.9527     0.7612      1.104         27        640: 100%|██████████| 702/702 [03:22<00:00,  3.47it/s]\n",
      "                 Class     Images  Instances      Box(P          R      mAP50  mAP50-95): 100%|██████████| 3/3 [00:00<00:00,  4.53it/s]"
     ]
    },
    {
     "name": "stdout",
     "output_type": "stream",
     "text": [
      "                   all         81        326      0.738      0.561      0.714      0.471\n"
     ]
    },
    {
     "name": "stderr",
     "output_type": "stream",
     "text": [
      "\n"
     ]
    },
    {
     "name": "stdout",
     "output_type": "stream",
     "text": [
      "\n",
      "      Epoch    GPU_mem   box_loss   cls_loss   dfl_loss  Instances       Size\n"
     ]
    },
    {
     "name": "stderr",
     "output_type": "stream",
     "text": [
      "     46/250      3.92G      0.932     0.7453      1.096         36        640: 100%|██████████| 702/702 [03:37<00:00,  3.23it/s]\n",
      "                 Class     Images  Instances      Box(P          R      mAP50  mAP50-95): 100%|██████████| 3/3 [00:00<00:00,  4.23it/s]"
     ]
    },
    {
     "name": "stdout",
     "output_type": "stream",
     "text": [
      "                   all         81        326      0.697      0.648      0.692       0.45\n"
     ]
    },
    {
     "name": "stderr",
     "output_type": "stream",
     "text": [
      "\n"
     ]
    },
    {
     "name": "stdout",
     "output_type": "stream",
     "text": [
      "\n",
      "      Epoch    GPU_mem   box_loss   cls_loss   dfl_loss  Instances       Size\n"
     ]
    },
    {
     "name": "stderr",
     "output_type": "stream",
     "text": [
      "     47/250      3.92G     0.9399     0.7484      1.101         35        640: 100%|██████████| 702/702 [02:58<00:00,  3.93it/s]\n",
      "                 Class     Images  Instances      Box(P          R      mAP50  mAP50-95): 100%|██████████| 3/3 [00:00<00:00,  4.21it/s]"
     ]
    },
    {
     "name": "stdout",
     "output_type": "stream",
     "text": [
      "                   all         81        326      0.673      0.656       0.71      0.465\n"
     ]
    },
    {
     "name": "stderr",
     "output_type": "stream",
     "text": [
      "\n"
     ]
    },
    {
     "name": "stdout",
     "output_type": "stream",
     "text": [
      "\n",
      "      Epoch    GPU_mem   box_loss   cls_loss   dfl_loss  Instances       Size\n"
     ]
    },
    {
     "name": "stderr",
     "output_type": "stream",
     "text": [
      "     48/250      3.92G     0.9184     0.7327      1.087         32        640: 100%|██████████| 702/702 [02:57<00:00,  3.95it/s]\n",
      "                 Class     Images  Instances      Box(P          R      mAP50  mAP50-95): 100%|██████████| 3/3 [00:00<00:00,  4.66it/s]"
     ]
    },
    {
     "name": "stdout",
     "output_type": "stream",
     "text": [
      "                   all         81        326       0.78      0.632      0.719      0.483\n"
     ]
    },
    {
     "name": "stderr",
     "output_type": "stream",
     "text": [
      "\n"
     ]
    },
    {
     "name": "stdout",
     "output_type": "stream",
     "text": [
      "\n",
      "      Epoch    GPU_mem   box_loss   cls_loss   dfl_loss  Instances       Size\n"
     ]
    },
    {
     "name": "stderr",
     "output_type": "stream",
     "text": [
      "     49/250      3.92G     0.9296     0.7387       1.09         31        640: 100%|██████████| 702/702 [02:57<00:00,  3.95it/s]\n",
      "                 Class     Images  Instances      Box(P          R      mAP50  mAP50-95): 100%|██████████| 3/3 [00:00<00:00,  4.29it/s]"
     ]
    },
    {
     "name": "stdout",
     "output_type": "stream",
     "text": [
      "                   all         81        326      0.724      0.585      0.734      0.497\n"
     ]
    },
    {
     "name": "stderr",
     "output_type": "stream",
     "text": [
      "\n"
     ]
    },
    {
     "name": "stdout",
     "output_type": "stream",
     "text": [
      "\n",
      "      Epoch    GPU_mem   box_loss   cls_loss   dfl_loss  Instances       Size\n"
     ]
    },
    {
     "name": "stderr",
     "output_type": "stream",
     "text": [
      "     50/250      3.95G      0.914     0.7308      1.083         27        640: 100%|██████████| 702/702 [02:57<00:00,  3.96it/s]\n",
      "                 Class     Images  Instances      Box(P          R      mAP50  mAP50-95): 100%|██████████| 3/3 [00:00<00:00,  4.58it/s]"
     ]
    },
    {
     "name": "stdout",
     "output_type": "stream",
     "text": [
      "                   all         81        326      0.786      0.647      0.738      0.493\n"
     ]
    },
    {
     "name": "stderr",
     "output_type": "stream",
     "text": [
      "\n"
     ]
    },
    {
     "name": "stdout",
     "output_type": "stream",
     "text": [
      "\n",
      "      Epoch    GPU_mem   box_loss   cls_loss   dfl_loss  Instances       Size\n"
     ]
    },
    {
     "name": "stderr",
     "output_type": "stream",
     "text": [
      "     51/250      3.97G     0.9094     0.7194      1.081         40        640: 100%|██████████| 702/702 [02:59<00:00,  3.92it/s]\n",
      "                 Class     Images  Instances      Box(P          R      mAP50  mAP50-95): 100%|██████████| 3/3 [00:00<00:00,  4.62it/s]"
     ]
    },
    {
     "name": "stdout",
     "output_type": "stream",
     "text": [
      "                   all         81        326      0.783      0.633      0.725      0.494\n"
     ]
    },
    {
     "name": "stderr",
     "output_type": "stream",
     "text": [
      "\n"
     ]
    },
    {
     "name": "stdout",
     "output_type": "stream",
     "text": [
      "\n",
      "      Epoch    GPU_mem   box_loss   cls_loss   dfl_loss  Instances       Size\n"
     ]
    },
    {
     "name": "stderr",
     "output_type": "stream",
     "text": [
      "     52/250      3.99G      0.914     0.7264      1.083         39        640: 100%|██████████| 702/702 [02:59<00:00,  3.90it/s]\n",
      "                 Class     Images  Instances      Box(P          R      mAP50  mAP50-95): 100%|██████████| 3/3 [00:00<00:00,  4.21it/s]"
     ]
    },
    {
     "name": "stdout",
     "output_type": "stream",
     "text": [
      "                   all         81        326      0.763      0.652      0.724      0.507\n"
     ]
    },
    {
     "name": "stderr",
     "output_type": "stream",
     "text": [
      "\n"
     ]
    },
    {
     "name": "stdout",
     "output_type": "stream",
     "text": [
      "\n",
      "      Epoch    GPU_mem   box_loss   cls_loss   dfl_loss  Instances       Size\n"
     ]
    },
    {
     "name": "stderr",
     "output_type": "stream",
     "text": [
      "     53/250      3.74G     0.8982     0.7202      1.077         49        640: 100%|██████████| 702/702 [02:54<00:00,  4.01it/s]\n",
      "                 Class     Images  Instances      Box(P          R      mAP50  mAP50-95): 100%|██████████| 3/3 [00:00<00:00,  4.67it/s]"
     ]
    },
    {
     "name": "stdout",
     "output_type": "stream",
     "text": [
      "                   all         81        326      0.713      0.674      0.731      0.503\n"
     ]
    },
    {
     "name": "stderr",
     "output_type": "stream",
     "text": [
      "\n"
     ]
    },
    {
     "name": "stdout",
     "output_type": "stream",
     "text": [
      "\n",
      "      Epoch    GPU_mem   box_loss   cls_loss   dfl_loss  Instances       Size\n"
     ]
    },
    {
     "name": "stderr",
     "output_type": "stream",
     "text": [
      "     54/250      3.93G     0.8844     0.7067       1.07         36        640: 100%|██████████| 702/702 [02:55<00:00,  3.99it/s]\n",
      "                 Class     Images  Instances      Box(P          R      mAP50  mAP50-95): 100%|██████████| 3/3 [00:02<00:00,  1.33it/s]"
     ]
    },
    {
     "name": "stdout",
     "output_type": "stream",
     "text": [
      "                   all         81        326      0.727      0.665      0.732      0.501\n"
     ]
    },
    {
     "name": "stderr",
     "output_type": "stream",
     "text": [
      "\n"
     ]
    },
    {
     "name": "stdout",
     "output_type": "stream",
     "text": [
      "\n",
      "      Epoch    GPU_mem   box_loss   cls_loss   dfl_loss  Instances       Size\n"
     ]
    },
    {
     "name": "stderr",
     "output_type": "stream",
     "text": [
      "     55/250      3.93G     0.8904     0.7077      1.069         35        640: 100%|██████████| 702/702 [02:57<00:00,  3.96it/s]\n",
      "                 Class     Images  Instances      Box(P          R      mAP50  mAP50-95): 100%|██████████| 3/3 [00:00<00:00,  4.57it/s]"
     ]
    },
    {
     "name": "stdout",
     "output_type": "stream",
     "text": [
      "                   all         81        326      0.961      0.612      0.743       0.52\n"
     ]
    },
    {
     "name": "stderr",
     "output_type": "stream",
     "text": [
      "\n"
     ]
    },
    {
     "name": "stdout",
     "output_type": "stream",
     "text": [
      "\n",
      "      Epoch    GPU_mem   box_loss   cls_loss   dfl_loss  Instances       Size\n"
     ]
    },
    {
     "name": "stderr",
     "output_type": "stream",
     "text": [
      "     56/250      3.93G     0.8777     0.7015      1.064         31        640: 100%|██████████| 702/702 [03:00<00:00,  3.89it/s]\n",
      "                 Class     Images  Instances      Box(P          R      mAP50  mAP50-95): 100%|██████████| 3/3 [00:00<00:00,  4.68it/s]"
     ]
    },
    {
     "name": "stdout",
     "output_type": "stream",
     "text": [
      "                   all         81        326      0.738      0.607      0.733      0.519\n"
     ]
    },
    {
     "name": "stderr",
     "output_type": "stream",
     "text": [
      "\n"
     ]
    },
    {
     "name": "stdout",
     "output_type": "stream",
     "text": [
      "\n",
      "      Epoch    GPU_mem   box_loss   cls_loss   dfl_loss  Instances       Size\n"
     ]
    },
    {
     "name": "stderr",
     "output_type": "stream",
     "text": [
      "     57/250      3.94G     0.8801      0.703      1.065         29        640: 100%|██████████| 702/702 [03:26<00:00,  3.40it/s]\n",
      "                 Class     Images  Instances      Box(P          R      mAP50  mAP50-95): 100%|██████████| 3/3 [00:02<00:00,  1.44it/s]"
     ]
    },
    {
     "name": "stdout",
     "output_type": "stream",
     "text": [
      "                   all         81        326      0.706      0.605      0.737      0.511\n"
     ]
    },
    {
     "name": "stderr",
     "output_type": "stream",
     "text": [
      "\n"
     ]
    },
    {
     "name": "stdout",
     "output_type": "stream",
     "text": [
      "\n",
      "      Epoch    GPU_mem   box_loss   cls_loss   dfl_loss  Instances       Size\n"
     ]
    },
    {
     "name": "stderr",
     "output_type": "stream",
     "text": [
      "     58/250      3.96G     0.8797     0.7076      1.064         36        640: 100%|██████████| 702/702 [03:28<00:00,  3.37it/s]\n",
      "                 Class     Images  Instances      Box(P          R      mAP50  mAP50-95): 100%|██████████| 3/3 [00:00<00:00,  4.67it/s]"
     ]
    },
    {
     "name": "stdout",
     "output_type": "stream",
     "text": [
      "                   all         81        326      0.812      0.636      0.749      0.515\n"
     ]
    },
    {
     "name": "stderr",
     "output_type": "stream",
     "text": [
      "\n"
     ]
    },
    {
     "name": "stdout",
     "output_type": "stream",
     "text": [
      "\n",
      "      Epoch    GPU_mem   box_loss   cls_loss   dfl_loss  Instances       Size\n"
     ]
    },
    {
     "name": "stderr",
     "output_type": "stream",
     "text": [
      "     59/250      3.98G       0.88     0.6986      1.064         29        640: 100%|██████████| 702/702 [03:16<00:00,  3.58it/s]\n",
      "                 Class     Images  Instances      Box(P          R      mAP50  mAP50-95): 100%|██████████| 3/3 [00:00<00:00,  4.47it/s]"
     ]
    },
    {
     "name": "stdout",
     "output_type": "stream",
     "text": [
      "                   all         81        326      0.786       0.65      0.745      0.516\n"
     ]
    },
    {
     "name": "stderr",
     "output_type": "stream",
     "text": [
      "\n"
     ]
    },
    {
     "name": "stdout",
     "output_type": "stream",
     "text": [
      "\n",
      "      Epoch    GPU_mem   box_loss   cls_loss   dfl_loss  Instances       Size\n"
     ]
    },
    {
     "name": "stderr",
     "output_type": "stream",
     "text": [
      "     60/250      4.01G     0.8651     0.6927      1.057         37        640: 100%|██████████| 702/702 [03:14<00:00,  3.61it/s]\n",
      "                 Class     Images  Instances      Box(P          R      mAP50  mAP50-95): 100%|██████████| 3/3 [00:00<00:00,  4.46it/s]"
     ]
    },
    {
     "name": "stdout",
     "output_type": "stream",
     "text": [
      "                   all         81        326      0.815      0.603      0.745      0.514\n"
     ]
    },
    {
     "name": "stderr",
     "output_type": "stream",
     "text": [
      "\n"
     ]
    },
    {
     "name": "stdout",
     "output_type": "stream",
     "text": [
      "\n",
      "      Epoch    GPU_mem   box_loss   cls_loss   dfl_loss  Instances       Size\n"
     ]
    },
    {
     "name": "stderr",
     "output_type": "stream",
     "text": [
      "     61/250      3.75G     0.8559     0.6838      1.054         36        640: 100%|██████████| 702/702 [03:22<00:00,  3.47it/s]\n",
      "                 Class     Images  Instances      Box(P          R      mAP50  mAP50-95): 100%|██████████| 3/3 [00:00<00:00,  4.21it/s]"
     ]
    },
    {
     "name": "stdout",
     "output_type": "stream",
     "text": [
      "                   all         81        326      0.834      0.607      0.748      0.523\n"
     ]
    },
    {
     "name": "stderr",
     "output_type": "stream",
     "text": [
      "\n"
     ]
    },
    {
     "name": "stdout",
     "output_type": "stream",
     "text": [
      "\n",
      "      Epoch    GPU_mem   box_loss   cls_loss   dfl_loss  Instances       Size\n"
     ]
    },
    {
     "name": "stderr",
     "output_type": "stream",
     "text": [
      "     62/250      3.93G     0.8556     0.6855      1.053         36        640: 100%|██████████| 702/702 [03:57<00:00,  2.96it/s]\n",
      "                 Class     Images  Instances      Box(P          R      mAP50  mAP50-95): 100%|██████████| 3/3 [00:00<00:00,  3.43it/s]"
     ]
    },
    {
     "name": "stdout",
     "output_type": "stream",
     "text": [
      "                   all         81        326      0.802      0.649      0.742      0.525\n"
     ]
    },
    {
     "name": "stderr",
     "output_type": "stream",
     "text": [
      "\n"
     ]
    },
    {
     "name": "stdout",
     "output_type": "stream",
     "text": [
      "\n",
      "      Epoch    GPU_mem   box_loss   cls_loss   dfl_loss  Instances       Size\n"
     ]
    },
    {
     "name": "stderr",
     "output_type": "stream",
     "text": [
      "     63/250      3.93G     0.8521     0.6785      1.051         29        640: 100%|██████████| 702/702 [02:55<00:00,  4.01it/s]\n",
      "                 Class     Images  Instances      Box(P          R      mAP50  mAP50-95): 100%|██████████| 3/3 [00:00<00:00,  4.58it/s]"
     ]
    },
    {
     "name": "stdout",
     "output_type": "stream",
     "text": [
      "                   all         81        326      0.793       0.65      0.746      0.529\n"
     ]
    },
    {
     "name": "stderr",
     "output_type": "stream",
     "text": [
      "\n"
     ]
    },
    {
     "name": "stdout",
     "output_type": "stream",
     "text": [
      "\n",
      "      Epoch    GPU_mem   box_loss   cls_loss   dfl_loss  Instances       Size\n"
     ]
    },
    {
     "name": "stderr",
     "output_type": "stream",
     "text": [
      "     64/250      3.93G     0.8491     0.6785      1.055         32        640: 100%|██████████| 702/702 [03:07<00:00,  3.74it/s]\n",
      "                 Class     Images  Instances      Box(P          R      mAP50  mAP50-95): 100%|██████████| 3/3 [00:00<00:00,  4.61it/s]"
     ]
    },
    {
     "name": "stdout",
     "output_type": "stream",
     "text": [
      "                   all         81        326      0.802      0.627      0.745      0.525\n"
     ]
    },
    {
     "name": "stderr",
     "output_type": "stream",
     "text": [
      "\n"
     ]
    },
    {
     "name": "stdout",
     "output_type": "stream",
     "text": [
      "\n",
      "      Epoch    GPU_mem   box_loss   cls_loss   dfl_loss  Instances       Size\n"
     ]
    },
    {
     "name": "stderr",
     "output_type": "stream",
     "text": [
      "     65/250      3.93G     0.8509      0.679      1.051         36        640: 100%|██████████| 702/702 [03:39<00:00,  3.20it/s]\n",
      "                 Class     Images  Instances      Box(P          R      mAP50  mAP50-95): 100%|██████████| 3/3 [00:00<00:00,  4.29it/s]"
     ]
    },
    {
     "name": "stdout",
     "output_type": "stream",
     "text": [
      "                   all         81        326      0.875      0.606      0.743      0.525\n"
     ]
    },
    {
     "name": "stderr",
     "output_type": "stream",
     "text": [
      "\n"
     ]
    },
    {
     "name": "stdout",
     "output_type": "stream",
     "text": [
      "\n",
      "      Epoch    GPU_mem   box_loss   cls_loss   dfl_loss  Instances       Size\n"
     ]
    },
    {
     "name": "stderr",
     "output_type": "stream",
     "text": [
      "     66/250      3.96G     0.8349     0.6674      1.043         26        640: 100%|██████████| 702/702 [03:35<00:00,  3.26it/s]\n",
      "                 Class     Images  Instances      Box(P          R      mAP50  mAP50-95): 100%|██████████| 3/3 [00:00<00:00,  4.61it/s]"
     ]
    },
    {
     "name": "stdout",
     "output_type": "stream",
     "text": [
      "                   all         81        326      0.799      0.654      0.756      0.532\n"
     ]
    },
    {
     "name": "stderr",
     "output_type": "stream",
     "text": [
      "\n"
     ]
    },
    {
     "name": "stdout",
     "output_type": "stream",
     "text": [
      "\n",
      "      Epoch    GPU_mem   box_loss   cls_loss   dfl_loss  Instances       Size\n"
     ]
    },
    {
     "name": "stderr",
     "output_type": "stream",
     "text": [
      "     67/250      3.98G     0.8392     0.6623      1.043         49        640: 100%|██████████| 702/702 [03:04<00:00,  3.81it/s]\n",
      "                 Class     Images  Instances      Box(P          R      mAP50  mAP50-95): 100%|██████████| 3/3 [00:00<00:00,  4.64it/s]"
     ]
    },
    {
     "name": "stdout",
     "output_type": "stream",
     "text": [
      "                   all         81        326       0.77      0.663      0.745      0.531\n"
     ]
    },
    {
     "name": "stderr",
     "output_type": "stream",
     "text": [
      "\n"
     ]
    },
    {
     "name": "stdout",
     "output_type": "stream",
     "text": [
      "\n",
      "      Epoch    GPU_mem   box_loss   cls_loss   dfl_loss  Instances       Size\n"
     ]
    },
    {
     "name": "stderr",
     "output_type": "stream",
     "text": [
      "     68/250         4G     0.8324     0.6624       1.04         33        640: 100%|██████████| 702/702 [02:56<00:00,  3.97it/s]\n",
      "                 Class     Images  Instances      Box(P          R      mAP50  mAP50-95): 100%|██████████| 3/3 [00:00<00:00,  4.41it/s]"
     ]
    },
    {
     "name": "stdout",
     "output_type": "stream",
     "text": [
      "                   all         81        326      0.756      0.657      0.736      0.529\n"
     ]
    },
    {
     "name": "stderr",
     "output_type": "stream",
     "text": [
      "\n"
     ]
    },
    {
     "name": "stdout",
     "output_type": "stream",
     "text": [
      "\n",
      "      Epoch    GPU_mem   box_loss   cls_loss   dfl_loss  Instances       Size\n"
     ]
    },
    {
     "name": "stderr",
     "output_type": "stream",
     "text": [
      "     69/250      3.76G     0.8347     0.6665      1.039         22        640: 100%|██████████| 702/702 [02:55<00:00,  4.01it/s]\n",
      "                 Class     Images  Instances      Box(P          R      mAP50  mAP50-95): 100%|██████████| 3/3 [00:00<00:00,  4.72it/s]"
     ]
    },
    {
     "name": "stdout",
     "output_type": "stream",
     "text": [
      "                   all         81        326      0.833      0.609      0.734      0.535\n"
     ]
    },
    {
     "name": "stderr",
     "output_type": "stream",
     "text": [
      "\n"
     ]
    },
    {
     "name": "stdout",
     "output_type": "stream",
     "text": [
      "\n",
      "      Epoch    GPU_mem   box_loss   cls_loss   dfl_loss  Instances       Size\n"
     ]
    },
    {
     "name": "stderr",
     "output_type": "stream",
     "text": [
      "     70/250      3.95G     0.8268     0.6577      1.036         35        640: 100%|██████████| 702/702 [02:53<00:00,  4.05it/s]\n",
      "                 Class     Images  Instances      Box(P          R      mAP50  mAP50-95): 100%|██████████| 3/3 [00:00<00:00,  4.70it/s]"
     ]
    },
    {
     "name": "stdout",
     "output_type": "stream",
     "text": [
      "                   all         81        326      0.807      0.622      0.741      0.539\n"
     ]
    },
    {
     "name": "stderr",
     "output_type": "stream",
     "text": [
      "\n"
     ]
    },
    {
     "name": "stdout",
     "output_type": "stream",
     "text": [
      "\n",
      "      Epoch    GPU_mem   box_loss   cls_loss   dfl_loss  Instances       Size\n"
     ]
    },
    {
     "name": "stderr",
     "output_type": "stream",
     "text": [
      "     71/250      3.95G     0.8237     0.6599      1.032         33        640: 100%|██████████| 702/702 [02:54<00:00,  4.02it/s]\n",
      "                 Class     Images  Instances      Box(P          R      mAP50  mAP50-95): 100%|██████████| 3/3 [00:00<00:00,  4.59it/s]"
     ]
    },
    {
     "name": "stdout",
     "output_type": "stream",
     "text": [
      "                   all         81        326      0.798      0.622      0.745      0.541\n"
     ]
    },
    {
     "name": "stderr",
     "output_type": "stream",
     "text": [
      "\n"
     ]
    },
    {
     "name": "stdout",
     "output_type": "stream",
     "text": [
      "\n",
      "      Epoch    GPU_mem   box_loss   cls_loss   dfl_loss  Instances       Size\n"
     ]
    },
    {
     "name": "stderr",
     "output_type": "stream",
     "text": [
      "     72/250      3.95G     0.8185     0.6554      1.032         35        640: 100%|██████████| 702/702 [02:54<00:00,  4.02it/s]\n",
      "                 Class     Images  Instances      Box(P          R      mAP50  mAP50-95): 100%|██████████| 3/3 [00:00<00:00,  4.32it/s]"
     ]
    },
    {
     "name": "stdout",
     "output_type": "stream",
     "text": [
      "                   all         81        326      0.839      0.628      0.746      0.541\n"
     ]
    },
    {
     "name": "stderr",
     "output_type": "stream",
     "text": [
      "\n"
     ]
    },
    {
     "name": "stdout",
     "output_type": "stream",
     "text": [
      "\n",
      "      Epoch    GPU_mem   box_loss   cls_loss   dfl_loss  Instances       Size\n"
     ]
    },
    {
     "name": "stderr",
     "output_type": "stream",
     "text": [
      "     73/250      3.95G     0.8211     0.6539      1.032         39        640: 100%|██████████| 702/702 [02:54<00:00,  4.02it/s]\n",
      "                 Class     Images  Instances      Box(P          R      mAP50  mAP50-95): 100%|██████████| 3/3 [00:00<00:00,  4.65it/s]"
     ]
    },
    {
     "name": "stdout",
     "output_type": "stream",
     "text": [
      "                   all         81        326      0.726      0.668      0.743      0.543\n"
     ]
    },
    {
     "name": "stderr",
     "output_type": "stream",
     "text": [
      "\n"
     ]
    },
    {
     "name": "stdout",
     "output_type": "stream",
     "text": [
      "\n",
      "      Epoch    GPU_mem   box_loss   cls_loss   dfl_loss  Instances       Size\n"
     ]
    },
    {
     "name": "stderr",
     "output_type": "stream",
     "text": [
      "     74/250      3.97G     0.8101     0.6473      1.029         20        640: 100%|██████████| 702/702 [02:55<00:00,  4.00it/s]\n",
      "                 Class     Images  Instances      Box(P          R      mAP50  mAP50-95): 100%|██████████| 3/3 [00:00<00:00,  4.71it/s]"
     ]
    },
    {
     "name": "stdout",
     "output_type": "stream",
     "text": [
      "                   all         81        326      0.738      0.657      0.738      0.535\n"
     ]
    },
    {
     "name": "stderr",
     "output_type": "stream",
     "text": [
      "\n"
     ]
    },
    {
     "name": "stdout",
     "output_type": "stream",
     "text": [
      "\n",
      "      Epoch    GPU_mem   box_loss   cls_loss   dfl_loss  Instances       Size\n"
     ]
    },
    {
     "name": "stderr",
     "output_type": "stream",
     "text": [
      "     75/250         4G     0.8019     0.6455      1.026         33        640: 100%|██████████| 702/702 [02:54<00:00,  4.03it/s]\n",
      "                 Class     Images  Instances      Box(P          R      mAP50  mAP50-95): 100%|██████████| 3/3 [00:00<00:00,  4.69it/s]"
     ]
    },
    {
     "name": "stdout",
     "output_type": "stream",
     "text": [
      "                   all         81        326      0.745      0.656      0.735      0.529\n"
     ]
    },
    {
     "name": "stderr",
     "output_type": "stream",
     "text": [
      "\n"
     ]
    },
    {
     "name": "stdout",
     "output_type": "stream",
     "text": [
      "\n",
      "      Epoch    GPU_mem   box_loss   cls_loss   dfl_loss  Instances       Size\n"
     ]
    },
    {
     "name": "stderr",
     "output_type": "stream",
     "text": [
      "     76/250      3.73G     0.8009     0.6459      1.021         22        640: 100%|██████████| 702/702 [02:54<00:00,  4.03it/s]\n",
      "                 Class     Images  Instances      Box(P          R      mAP50  mAP50-95): 100%|██████████| 3/3 [00:00<00:00,  4.44it/s]"
     ]
    },
    {
     "name": "stdout",
     "output_type": "stream",
     "text": [
      "                   all         81        326      0.738      0.656      0.737      0.531\n"
     ]
    },
    {
     "name": "stderr",
     "output_type": "stream",
     "text": [
      "\n"
     ]
    },
    {
     "name": "stdout",
     "output_type": "stream",
     "text": [
      "\n",
      "      Epoch    GPU_mem   box_loss   cls_loss   dfl_loss  Instances       Size\n"
     ]
    },
    {
     "name": "stderr",
     "output_type": "stream",
     "text": [
      "     77/250      3.92G     0.8013     0.6372       1.02         44        640: 100%|██████████| 702/702 [02:55<00:00,  4.01it/s]\n",
      "                 Class     Images  Instances      Box(P          R      mAP50  mAP50-95): 100%|██████████| 3/3 [00:00<00:00,  4.33it/s]"
     ]
    },
    {
     "name": "stdout",
     "output_type": "stream",
     "text": [
      "                   all         81        326      0.734       0.66       0.74      0.536\n"
     ]
    },
    {
     "name": "stderr",
     "output_type": "stream",
     "text": [
      "\n"
     ]
    },
    {
     "name": "stdout",
     "output_type": "stream",
     "text": [
      "\n",
      "      Epoch    GPU_mem   box_loss   cls_loss   dfl_loss  Instances       Size\n"
     ]
    },
    {
     "name": "stderr",
     "output_type": "stream",
     "text": [
      "     78/250      3.92G      0.797     0.6389      1.017         40        640: 100%|██████████| 702/702 [02:54<00:00,  4.03it/s]\n",
      "                 Class     Images  Instances      Box(P          R      mAP50  mAP50-95): 100%|██████████| 3/3 [00:00<00:00,  4.57it/s]"
     ]
    },
    {
     "name": "stdout",
     "output_type": "stream",
     "text": [
      "                   all         81        326      0.731       0.66      0.741      0.536\n"
     ]
    },
    {
     "name": "stderr",
     "output_type": "stream",
     "text": [
      "\n"
     ]
    },
    {
     "name": "stdout",
     "output_type": "stream",
     "text": [
      "\n",
      "      Epoch    GPU_mem   box_loss   cls_loss   dfl_loss  Instances       Size\n"
     ]
    },
    {
     "name": "stderr",
     "output_type": "stream",
     "text": [
      "     79/250      3.92G     0.7928     0.6337      1.017         27        640: 100%|██████████| 702/702 [02:54<00:00,  4.02it/s]\n",
      "                 Class     Images  Instances      Box(P          R      mAP50  mAP50-95): 100%|██████████| 3/3 [00:00<00:00,  4.60it/s]"
     ]
    },
    {
     "name": "stdout",
     "output_type": "stream",
     "text": [
      "                   all         81        326      0.757       0.66      0.737      0.537\n"
     ]
    },
    {
     "name": "stderr",
     "output_type": "stream",
     "text": [
      "\n"
     ]
    },
    {
     "name": "stdout",
     "output_type": "stream",
     "text": [
      "\n",
      "      Epoch    GPU_mem   box_loss   cls_loss   dfl_loss  Instances       Size\n"
     ]
    },
    {
     "name": "stderr",
     "output_type": "stream",
     "text": [
      "     80/250      3.93G     0.7836      0.632      1.014         21        640: 100%|██████████| 702/702 [02:54<00:00,  4.02it/s]\n",
      "                 Class     Images  Instances      Box(P          R      mAP50  mAP50-95): 100%|██████████| 3/3 [00:00<00:00,  4.57it/s]"
     ]
    },
    {
     "name": "stdout",
     "output_type": "stream",
     "text": [
      "                   all         81        326      0.913      0.619      0.737      0.539\n"
     ]
    },
    {
     "name": "stderr",
     "output_type": "stream",
     "text": [
      "\n"
     ]
    },
    {
     "name": "stdout",
     "output_type": "stream",
     "text": [
      "\n",
      "      Epoch    GPU_mem   box_loss   cls_loss   dfl_loss  Instances       Size\n"
     ]
    },
    {
     "name": "stderr",
     "output_type": "stream",
     "text": [
      "     81/250      3.95G     0.7808     0.6263      1.011         31        640: 100%|██████████| 702/702 [02:54<00:00,  4.02it/s]\n",
      "                 Class     Images  Instances      Box(P          R      mAP50  mAP50-95): 100%|██████████| 3/3 [00:00<00:00,  4.59it/s]"
     ]
    },
    {
     "name": "stdout",
     "output_type": "stream",
     "text": [
      "                   all         81        326      0.914      0.617      0.738      0.543\n"
     ]
    },
    {
     "name": "stderr",
     "output_type": "stream",
     "text": [
      "\n"
     ]
    },
    {
     "name": "stdout",
     "output_type": "stream",
     "text": [
      "\n",
      "      Epoch    GPU_mem   box_loss   cls_loss   dfl_loss  Instances       Size\n"
     ]
    },
    {
     "name": "stderr",
     "output_type": "stream",
     "text": [
      "     82/250      3.97G     0.7828     0.6257      1.013         24        640: 100%|██████████| 702/702 [02:54<00:00,  4.02it/s]\n",
      "                 Class     Images  Instances      Box(P          R      mAP50  mAP50-95): 100%|██████████| 3/3 [00:00<00:00,  4.70it/s]"
     ]
    },
    {
     "name": "stdout",
     "output_type": "stream",
     "text": [
      "                   all         81        326      0.771      0.659      0.738       0.54\n"
     ]
    },
    {
     "name": "stderr",
     "output_type": "stream",
     "text": [
      "\n"
     ]
    },
    {
     "name": "stdout",
     "output_type": "stream",
     "text": [
      "\n",
      "      Epoch    GPU_mem   box_loss   cls_loss   dfl_loss  Instances       Size\n"
     ]
    },
    {
     "name": "stderr",
     "output_type": "stream",
     "text": [
      "     83/250         4G     0.7747     0.6249      1.009         25        640: 100%|██████████| 702/702 [02:55<00:00,  4.00it/s]\n",
      "                 Class     Images  Instances      Box(P          R      mAP50  mAP50-95): 100%|██████████| 3/3 [00:00<00:00,  4.51it/s]"
     ]
    },
    {
     "name": "stdout",
     "output_type": "stream",
     "text": [
      "                   all         81        326      0.856       0.62      0.739      0.541\n",
      "\u001b[34m\u001b[1mEarlyStopping: \u001b[0mTraining stopped early as no improvement observed in last 10 epochs. Best results observed at epoch 73, best model saved as best.pt.\n",
      "To update EarlyStopping(patience=10) pass a new patience value, i.e. `patience=300` or use `patience=0` to disable EarlyStopping.\n"
     ]
    },
    {
     "name": "stderr",
     "output_type": "stream",
     "text": [
      "\n"
     ]
    },
    {
     "name": "stdout",
     "output_type": "stream",
     "text": [
      "\n",
      "83 epochs completed in 4.238 hours.\n",
      "Optimizer stripped from runs\\detect\\preprocesamiento\\modelo_yolov11_dataset_filtrado_preprocesado_final\\weights\\last.pt, 22.5MB\n",
      "Optimizer stripped from runs\\detect\\preprocesamiento\\modelo_yolov11_dataset_filtrado_preprocesado_final\\weights\\best.pt, 22.5MB\n",
      "\n",
      "Validating runs\\detect\\preprocesamiento\\modelo_yolov11_dataset_filtrado_preprocesado_final\\weights\\best.pt...\n",
      "Ultralytics 8.3.128  Python-3.11.9 torch-2.7.0+cu126 CUDA:0 (NVIDIA GeForce RTX 4060 Laptop GPU, 8188MiB)\n",
      "Model summary (fused): 72 layers, 11,127,519 parameters, 0 gradients, 28.4 GFLOPs\n"
     ]
    },
    {
     "name": "stderr",
     "output_type": "stream",
     "text": [
      "                 Class     Images  Instances      Box(P          R      mAP50  mAP50-95): 100%|██████████| 3/3 [00:01<00:00,  2.61it/s]\n"
     ]
    },
    {
     "name": "stdout",
     "output_type": "stream",
     "text": [
      "                   all         81        326      0.725      0.671      0.743      0.542\n",
      "               Bodegas         39        230      0.757      0.122      0.327      0.118\n",
      "               Caminos         26         52      0.662      0.981      0.957      0.766\n",
      "                  Rios         34         44      0.755      0.909      0.946      0.743\n",
      "Speed: 0.2ms preprocess, 3.0ms inference, 0.0ms loss, 1.9ms postprocess per image\n",
      "Results saved to \u001b[1mruns\\detect\\preprocesamiento\\modelo_yolov11_dataset_filtrado_preprocesado_final\u001b[0m\n",
      "\u001b[34m\u001b[1mMLflow: \u001b[0mresults logged to runs\\mlflow\n",
      "\u001b[34m\u001b[1mMLflow: \u001b[0mdisable with 'yolo settings mlflow=False'\n",
      "\n",
      "✅ Modelo final guardado en: final_model_preprocesamiento_modelo_yolov11_dataset_filtrado_preprocesado_v2\\best_model_final.pt\n"
     ]
    }
   ],
   "source": [
    "\n",
    "entrenar_modelo_final(\n",
    "    dataset_name=\"preprocesamiento/modelo_yolov11_dataset_filtrado_preprocesado\", \n",
    "    class_names=[\"Vehiculos\", \"Bodegas\", \"Caminos\", \"Rios\", \"Mineria ilegal\"], \n",
    "    output_name=\"preprocesamiento/modelo_yolov11_dataset_filtrado_preprocesado_v2\",\n",
    "    epochs=250,\n",
    ")"
   ]
  },
  {
   "cell_type": "code",
   "execution_count": 8,
   "id": "6fe14180",
   "metadata": {},
   "outputs": [
    {
     "name": "stdout",
     "output_type": "stream",
     "text": [
      "🚀 Entrenando modelo final desde cero: preprocesamiento/modelo_yolov11_dataset_completo_preprocesado\n",
      "Downloading https://github.com/ultralytics/assets/releases/download/v8.3.0/yolov8m.pt to 'yolov8m.pt'...\n"
     ]
    },
    {
     "name": "stderr",
     "output_type": "stream",
     "text": [
      "100%|██████████| 49.7M/49.7M [00:00<00:00, 61.0MB/s]\n"
     ]
    },
    {
     "name": "stdout",
     "output_type": "stream",
     "text": [
      "New https://pypi.org/project/ultralytics/8.3.146 available  Update with 'pip install -U ultralytics'\n",
      "Ultralytics 8.3.128  Python-3.11.9 torch-2.7.0+cu126 CUDA:0 (NVIDIA GeForce RTX 4060 Laptop GPU, 8188MiB)\n",
      "\u001b[34m\u001b[1mengine\\trainer: \u001b[0magnostic_nms=False, amp=True, augment=False, auto_augment=randaugment, batch=16, bgr=0.0, box=7.5, cache=False, cfg=None, classes=None, close_mosaic=10, cls=0.5, conf=None, copy_paste=0.0, copy_paste_mode=flip, cos_lr=True, cutmix=0.0, data=preprocesamiento\\modelo_yolov11_dataset_completo_preprocesado\\dataset.yaml, degrees=0.0, deterministic=True, device=None, dfl=1.5, dnn=False, dropout=0.0, dynamic=False, embed=None, epochs=250, erasing=0.4, exist_ok=False, fliplr=0.5, flipud=0.0, format=torchscript, fraction=1.0, freeze=None, half=False, hsv_h=0.015, hsv_s=0.7, hsv_v=0.4, imgsz=640, int8=False, iou=0.7, keras=False, kobj=1.0, line_width=None, lr0=0.01, lrf=0.01, mask_ratio=4, max_det=300, mixup=0.0, mode=train, model=yolov8m.pt, momentum=0.937, mosaic=1.0, multi_scale=False, name=modelo_yolov11_dataset_completo_preprocesado_final, nbs=64, nms=False, opset=None, optimize=False, optimizer=auto, overlap_mask=True, patience=10, perspective=0.0, plots=True, pose=12.0, pretrained=True, profile=False, project=None, rect=False, resume=False, retina_masks=False, save=True, save_conf=False, save_crop=False, save_dir=runs\\detect\\preprocesamiento\\modelo_yolov11_dataset_completo_preprocesado_final, save_frames=False, save_json=False, save_period=-1, save_txt=False, scale=0.5, seed=0, shear=0.0, show=False, show_boxes=True, show_conf=True, show_labels=True, simplify=True, single_cls=False, source=None, split=val, stream_buffer=False, task=detect, time=None, tracker=botsort.yaml, translate=0.1, val=True, verbose=True, vid_stride=1, visualize=False, warmup_bias_lr=0.1, warmup_epochs=3.0, warmup_momentum=0.8, weight_decay=0.0005, workers=16, workspace=None\n",
      "Overriding model.yaml nc=80 with nc=5\n",
      "\n",
      "                   from  n    params  module                                       arguments                     \n",
      "  0                  -1  1      1392  ultralytics.nn.modules.conv.Conv             [3, 48, 3, 2]                 \n",
      "  1                  -1  1     41664  ultralytics.nn.modules.conv.Conv             [48, 96, 3, 2]                \n",
      "  2                  -1  2    111360  ultralytics.nn.modules.block.C2f             [96, 96, 2, True]             \n",
      "  3                  -1  1    166272  ultralytics.nn.modules.conv.Conv             [96, 192, 3, 2]               \n",
      "  4                  -1  4    813312  ultralytics.nn.modules.block.C2f             [192, 192, 4, True]           \n",
      "  5                  -1  1    664320  ultralytics.nn.modules.conv.Conv             [192, 384, 3, 2]              \n",
      "  6                  -1  4   3248640  ultralytics.nn.modules.block.C2f             [384, 384, 4, True]           \n",
      "  7                  -1  1   1991808  ultralytics.nn.modules.conv.Conv             [384, 576, 3, 2]              \n",
      "  8                  -1  2   3985920  ultralytics.nn.modules.block.C2f             [576, 576, 2, True]           \n",
      "  9                  -1  1    831168  ultralytics.nn.modules.block.SPPF            [576, 576, 5]                 \n",
      " 10                  -1  1         0  torch.nn.modules.upsampling.Upsample         [None, 2, 'nearest']          \n",
      " 11             [-1, 6]  1         0  ultralytics.nn.modules.conv.Concat           [1]                           \n",
      " 12                  -1  2   1993728  ultralytics.nn.modules.block.C2f             [960, 384, 2]                 \n",
      " 13                  -1  1         0  torch.nn.modules.upsampling.Upsample         [None, 2, 'nearest']          \n",
      " 14             [-1, 4]  1         0  ultralytics.nn.modules.conv.Concat           [1]                           \n",
      " 15                  -1  2    517632  ultralytics.nn.modules.block.C2f             [576, 192, 2]                 \n",
      " 16                  -1  1    332160  ultralytics.nn.modules.conv.Conv             [192, 192, 3, 2]              \n",
      " 17            [-1, 12]  1         0  ultralytics.nn.modules.conv.Concat           [1]                           \n",
      " 18                  -1  2   1846272  ultralytics.nn.modules.block.C2f             [576, 384, 2]                 \n",
      " 19                  -1  1   1327872  ultralytics.nn.modules.conv.Conv             [384, 384, 3, 2]              \n",
      " 20             [-1, 9]  1         0  ultralytics.nn.modules.conv.Concat           [1]                           \n",
      " 21                  -1  2   4207104  ultralytics.nn.modules.block.C2f             [960, 576, 2]                 \n",
      " 22        [15, 18, 21]  1   3778591  ultralytics.nn.modules.head.Detect           [5, [192, 384, 576]]          \n",
      "Model summary: 169 layers, 25,859,215 parameters, 25,859,199 gradients, 79.1 GFLOPs\n",
      "\n",
      "Transferred 469/475 items from pretrained weights\n",
      "Freezing layer 'model.22.dfl.conv.weight'\n",
      "\u001b[34m\u001b[1mAMP: \u001b[0mrunning Automatic Mixed Precision (AMP) checks...\n",
      "\u001b[34m\u001b[1mAMP: \u001b[0mchecks passed \n",
      "\u001b[34m\u001b[1mtrain: \u001b[0mFast image access  (ping: 0.20.0 ms, read: 37.611.2 MB/s, size: 447.8 KB)\n"
     ]
    },
    {
     "name": "stderr",
     "output_type": "stream",
     "text": [
      "\u001b[34m\u001b[1mtrain: \u001b[0mScanning C:\\Users\\ASUS\\Desktop\\Andes\\11\\Imagenes\\FLIR_GPF2\\preprocesamiento\\modelo_yolov11_dataset_completo_preprocesado\\train\\labels... 11215 images, 2832 backgrounds, 0 corrupt: 100%|██████████| 11215/11215 [00:28<00:00, 389.21it/s]\n"
     ]
    },
    {
     "name": "stdout",
     "output_type": "stream",
     "text": [
      "\u001b[34m\u001b[1mtrain: \u001b[0mNew cache created: C:\\Users\\ASUS\\Desktop\\Andes\\11\\Imagenes\\FLIR_GPF2\\preprocesamiento\\modelo_yolov11_dataset_completo_preprocesado\\train\\labels.cache\n",
      "\u001b[34m\u001b[1malbumentations: \u001b[0mImageCompression.__init__() got an unexpected keyword argument 'quality_range'\n",
      "\u001b[34m\u001b[1mval: \u001b[0mFast image access  (ping: 0.50.2 ms, read: 20.16.6 MB/s, size: 448.5 KB)\n"
     ]
    },
    {
     "name": "stderr",
     "output_type": "stream",
     "text": [
      "\u001b[34m\u001b[1mval: \u001b[0mScanning C:\\Users\\ASUS\\Desktop\\Andes\\11\\Imagenes\\FLIR_GPF2\\preprocesamiento\\modelo_yolov11_dataset_completo_preprocesado\\val\\labels... 91 images, 11 backgrounds, 0 corrupt: 100%|██████████| 91/91 [00:00<00:00, 224.65it/s]"
     ]
    },
    {
     "name": "stdout",
     "output_type": "stream",
     "text": [
      "\u001b[34m\u001b[1mval: \u001b[0mNew cache created: C:\\Users\\ASUS\\Desktop\\Andes\\11\\Imagenes\\FLIR_GPF2\\preprocesamiento\\modelo_yolov11_dataset_completo_preprocesado\\val\\labels.cache\n"
     ]
    },
    {
     "name": "stderr",
     "output_type": "stream",
     "text": [
      "\n"
     ]
    },
    {
     "name": "stdout",
     "output_type": "stream",
     "text": [
      "Plotting labels to runs\\detect\\preprocesamiento\\modelo_yolov11_dataset_completo_preprocesado_final\\labels.jpg... \n",
      "\u001b[34m\u001b[1moptimizer:\u001b[0m 'optimizer=auto' found, ignoring 'lr0=0.01' and 'momentum=0.937' and determining best 'optimizer', 'lr0' and 'momentum' automatically... \n",
      "\u001b[34m\u001b[1moptimizer:\u001b[0m SGD(lr=0.01, momentum=0.9) with parameter groups 77 weight(decay=0.0), 84 weight(decay=0.0005), 83 bias(decay=0.0)\n"
     ]
    },
    {
     "name": "stderr",
     "output_type": "stream",
     "text": [
      "2025/05/27 22:56:41 INFO mlflow.tracking.fluent: Autologging successfully enabled for sklearn.\n",
      "2025/05/27 22:56:41 INFO mlflow.tracking.fluent: Autologging successfully enabled for statsmodels.\n"
     ]
    },
    {
     "name": "stdout",
     "output_type": "stream",
     "text": [
      "\u001b[34m\u001b[1mMLflow: \u001b[0mlogging run_id(f9f38baa919b46d88548f01da428db0a) to runs\\mlflow\n",
      "\u001b[34m\u001b[1mMLflow: \u001b[0mview at http://127.0.0.1:5000 with 'mlflow server --backend-store-uri runs\\mlflow'\n",
      "\u001b[34m\u001b[1mMLflow: \u001b[0mdisable with 'yolo settings mlflow=False'\n",
      "Image sizes 640 train, 640 val\n",
      "Using 16 dataloader workers\n",
      "Logging results to \u001b[1mruns\\detect\\preprocesamiento\\modelo_yolov11_dataset_completo_preprocesado_final\u001b[0m\n",
      "Starting training for 250 epochs...\n",
      "\n",
      "      Epoch    GPU_mem   box_loss   cls_loss   dfl_loss  Instances       Size\n"
     ]
    },
    {
     "name": "stderr",
     "output_type": "stream",
     "text": [
      "      1/250       1.9G      2.138       3.09      2.069         36        640: 100%|██████████| 701/701 [07:00<00:00,  1.67it/s]\n",
      "                 Class     Images  Instances      Box(P          R      mAP50  mAP50-95): 100%|██████████| 3/3 [00:17<00:00,  5.93s/it]"
     ]
    },
    {
     "name": "stdout",
     "output_type": "stream",
     "text": [
      "                   all         91        331       0.67      0.381      0.442      0.216\n"
     ]
    },
    {
     "name": "stderr",
     "output_type": "stream",
     "text": [
      "\n"
     ]
    },
    {
     "name": "stdout",
     "output_type": "stream",
     "text": [
      "\n",
      "      Epoch    GPU_mem   box_loss   cls_loss   dfl_loss  Instances       Size\n"
     ]
    },
    {
     "name": "stderr",
     "output_type": "stream",
     "text": [
      "      2/250      6.33G      1.822      1.847       1.76         33        640: 100%|██████████| 701/701 [05:50<00:00,  2.00it/s]\n",
      "                 Class     Images  Instances      Box(P          R      mAP50  mAP50-95): 100%|██████████| 3/3 [00:01<00:00,  2.44it/s]"
     ]
    },
    {
     "name": "stdout",
     "output_type": "stream",
     "text": [
      "                   all         91        331      0.586      0.366      0.445      0.199\n"
     ]
    },
    {
     "name": "stderr",
     "output_type": "stream",
     "text": [
      "\n"
     ]
    },
    {
     "name": "stdout",
     "output_type": "stream",
     "text": [
      "\n",
      "      Epoch    GPU_mem   box_loss   cls_loss   dfl_loss  Instances       Size\n"
     ]
    },
    {
     "name": "stderr",
     "output_type": "stream",
     "text": [
      "      3/250      6.23G      1.817       1.82       1.74         38        640: 100%|██████████| 701/701 [05:46<00:00,  2.02it/s]\n",
      "                 Class     Images  Instances      Box(P          R      mAP50  mAP50-95): 100%|██████████| 3/3 [00:01<00:00,  2.47it/s]"
     ]
    },
    {
     "name": "stdout",
     "output_type": "stream",
     "text": [
      "                   all         91        331      0.615      0.384      0.424      0.182\n"
     ]
    },
    {
     "name": "stderr",
     "output_type": "stream",
     "text": [
      "\n"
     ]
    },
    {
     "name": "stdout",
     "output_type": "stream",
     "text": [
      "\n",
      "      Epoch    GPU_mem   box_loss   cls_loss   dfl_loss  Instances       Size\n"
     ]
    },
    {
     "name": "stderr",
     "output_type": "stream",
     "text": [
      "      4/250      6.32G      1.848      1.886      1.783         23        640: 100%|██████████| 701/701 [05:45<00:00,  2.03it/s]\n",
      "                 Class     Images  Instances      Box(P          R      mAP50  mAP50-95): 100%|██████████| 3/3 [00:01<00:00,  2.45it/s]"
     ]
    },
    {
     "name": "stdout",
     "output_type": "stream",
     "text": [
      "                   all         91        331      0.606       0.43       0.43      0.196\n"
     ]
    },
    {
     "name": "stderr",
     "output_type": "stream",
     "text": [
      "\n"
     ]
    },
    {
     "name": "stdout",
     "output_type": "stream",
     "text": [
      "\n",
      "      Epoch    GPU_mem   box_loss   cls_loss   dfl_loss  Instances       Size\n"
     ]
    },
    {
     "name": "stderr",
     "output_type": "stream",
     "text": [
      "      5/250      6.32G      1.744      1.721      1.712         36        640: 100%|██████████| 701/701 [05:51<00:00,  2.00it/s]\n",
      "                 Class     Images  Instances      Box(P          R      mAP50  mAP50-95): 100%|██████████| 3/3 [00:01<00:00,  2.46it/s]"
     ]
    },
    {
     "name": "stdout",
     "output_type": "stream",
     "text": [
      "                   all         91        331      0.636      0.451      0.502      0.218\n"
     ]
    },
    {
     "name": "stderr",
     "output_type": "stream",
     "text": [
      "\n"
     ]
    },
    {
     "name": "stdout",
     "output_type": "stream",
     "text": [
      "\n",
      "      Epoch    GPU_mem   box_loss   cls_loss   dfl_loss  Instances       Size\n"
     ]
    },
    {
     "name": "stderr",
     "output_type": "stream",
     "text": [
      "      6/250      6.24G      1.626      1.575      1.635         42        640: 100%|██████████| 701/701 [05:44<00:00,  2.04it/s]\n",
      "                 Class     Images  Instances      Box(P          R      mAP50  mAP50-95): 100%|██████████| 3/3 [00:01<00:00,  2.48it/s]"
     ]
    },
    {
     "name": "stdout",
     "output_type": "stream",
     "text": [
      "                   all         91        331      0.693      0.434      0.494      0.233\n"
     ]
    },
    {
     "name": "stderr",
     "output_type": "stream",
     "text": [
      "\n"
     ]
    },
    {
     "name": "stdout",
     "output_type": "stream",
     "text": [
      "\n",
      "      Epoch    GPU_mem   box_loss   cls_loss   dfl_loss  Instances       Size\n"
     ]
    },
    {
     "name": "stderr",
     "output_type": "stream",
     "text": [
      "      7/250      6.31G       1.55      1.451      1.579         25        640: 100%|██████████| 701/701 [05:45<00:00,  2.03it/s]\n",
      "                 Class     Images  Instances      Box(P          R      mAP50  mAP50-95): 100%|██████████| 3/3 [00:01<00:00,  2.46it/s]"
     ]
    },
    {
     "name": "stdout",
     "output_type": "stream",
     "text": [
      "                   all         91        331      0.738      0.409      0.536      0.269\n"
     ]
    },
    {
     "name": "stderr",
     "output_type": "stream",
     "text": [
      "\n"
     ]
    },
    {
     "name": "stdout",
     "output_type": "stream",
     "text": [
      "\n",
      "      Epoch    GPU_mem   box_loss   cls_loss   dfl_loss  Instances       Size\n"
     ]
    },
    {
     "name": "stderr",
     "output_type": "stream",
     "text": [
      "      8/250      6.31G      1.477      1.349      1.536         43        640: 100%|██████████| 701/701 [05:44<00:00,  2.04it/s]\n",
      "                 Class     Images  Instances      Box(P          R      mAP50  mAP50-95): 100%|██████████| 3/3 [00:01<00:00,  2.43it/s]"
     ]
    },
    {
     "name": "stdout",
     "output_type": "stream",
     "text": [
      "                   all         91        331      0.576      0.522      0.506      0.236\n"
     ]
    },
    {
     "name": "stderr",
     "output_type": "stream",
     "text": [
      "\n"
     ]
    },
    {
     "name": "stdout",
     "output_type": "stream",
     "text": [
      "\n",
      "      Epoch    GPU_mem   box_loss   cls_loss   dfl_loss  Instances       Size\n"
     ]
    },
    {
     "name": "stderr",
     "output_type": "stream",
     "text": [
      "      9/250      6.34G      1.405      1.268      1.486         32        640: 100%|██████████| 701/701 [05:45<00:00,  2.03it/s]\n",
      "                 Class     Images  Instances      Box(P          R      mAP50  mAP50-95): 100%|██████████| 3/3 [00:01<00:00,  2.47it/s]"
     ]
    },
    {
     "name": "stdout",
     "output_type": "stream",
     "text": [
      "                   all         91        331      0.609      0.516      0.517      0.276\n"
     ]
    },
    {
     "name": "stderr",
     "output_type": "stream",
     "text": [
      "\n"
     ]
    },
    {
     "name": "stdout",
     "output_type": "stream",
     "text": [
      "\n",
      "      Epoch    GPU_mem   box_loss   cls_loss   dfl_loss  Instances       Size\n"
     ]
    },
    {
     "name": "stderr",
     "output_type": "stream",
     "text": [
      "     10/250      6.24G      1.373      1.209       1.46         32        640: 100%|██████████| 701/701 [05:44<00:00,  2.04it/s]\n",
      "                 Class     Images  Instances      Box(P          R      mAP50  mAP50-95): 100%|██████████| 3/3 [00:01<00:00,  2.45it/s]"
     ]
    },
    {
     "name": "stdout",
     "output_type": "stream",
     "text": [
      "                   all         91        331      0.711      0.519       0.58      0.279\n"
     ]
    },
    {
     "name": "stderr",
     "output_type": "stream",
     "text": [
      "\n"
     ]
    },
    {
     "name": "stdout",
     "output_type": "stream",
     "text": [
      "\n",
      "      Epoch    GPU_mem   box_loss   cls_loss   dfl_loss  Instances       Size\n"
     ]
    },
    {
     "name": "stderr",
     "output_type": "stream",
     "text": [
      "     11/250      6.32G      1.317       1.17      1.426         30        640: 100%|██████████| 701/701 [05:45<00:00,  2.03it/s]\n",
      "                 Class     Images  Instances      Box(P          R      mAP50  mAP50-95): 100%|██████████| 3/3 [00:01<00:00,  2.39it/s]"
     ]
    },
    {
     "name": "stdout",
     "output_type": "stream",
     "text": [
      "                   all         91        331      0.644      0.532      0.604      0.312\n"
     ]
    },
    {
     "name": "stderr",
     "output_type": "stream",
     "text": [
      "\n"
     ]
    },
    {
     "name": "stdout",
     "output_type": "stream",
     "text": [
      "\n",
      "      Epoch    GPU_mem   box_loss   cls_loss   dfl_loss  Instances       Size\n"
     ]
    },
    {
     "name": "stderr",
     "output_type": "stream",
     "text": [
      "     12/250      6.33G      1.281      1.114      1.398         29        640: 100%|██████████| 701/701 [05:45<00:00,  2.03it/s]\n",
      "                 Class     Images  Instances      Box(P          R      mAP50  mAP50-95): 100%|██████████| 3/3 [00:01<00:00,  2.41it/s]"
     ]
    },
    {
     "name": "stdout",
     "output_type": "stream",
     "text": [
      "                   all         91        331      0.653      0.508      0.571      0.302\n"
     ]
    },
    {
     "name": "stderr",
     "output_type": "stream",
     "text": [
      "\n"
     ]
    },
    {
     "name": "stdout",
     "output_type": "stream",
     "text": [
      "\n",
      "      Epoch    GPU_mem   box_loss   cls_loss   dfl_loss  Instances       Size\n"
     ]
    },
    {
     "name": "stderr",
     "output_type": "stream",
     "text": [
      "     13/250      6.33G      1.253      1.081      1.375         44        640: 100%|██████████| 701/701 [05:45<00:00,  2.03it/s]\n",
      "                 Class     Images  Instances      Box(P          R      mAP50  mAP50-95): 100%|██████████| 3/3 [00:01<00:00,  2.48it/s]"
     ]
    },
    {
     "name": "stdout",
     "output_type": "stream",
     "text": [
      "                   all         91        331       0.71      0.545       0.59      0.316\n"
     ]
    },
    {
     "name": "stderr",
     "output_type": "stream",
     "text": [
      "\n"
     ]
    },
    {
     "name": "stdout",
     "output_type": "stream",
     "text": [
      "\n",
      "      Epoch    GPU_mem   box_loss   cls_loss   dfl_loss  Instances       Size\n"
     ]
    },
    {
     "name": "stderr",
     "output_type": "stream",
     "text": [
      "     14/250      6.25G      1.228      1.049      1.361         50        640: 100%|██████████| 701/701 [05:45<00:00,  2.03it/s]\n",
      "                 Class     Images  Instances      Box(P          R      mAP50  mAP50-95): 100%|██████████| 3/3 [00:01<00:00,  2.39it/s]"
     ]
    },
    {
     "name": "stdout",
     "output_type": "stream",
     "text": [
      "                   all         91        331      0.692       0.57      0.623      0.342\n"
     ]
    },
    {
     "name": "stderr",
     "output_type": "stream",
     "text": [
      "\n"
     ]
    },
    {
     "name": "stdout",
     "output_type": "stream",
     "text": [
      "\n",
      "      Epoch    GPU_mem   box_loss   cls_loss   dfl_loss  Instances       Size\n"
     ]
    },
    {
     "name": "stderr",
     "output_type": "stream",
     "text": [
      "     15/250      6.32G      1.177      1.001      1.331         34        640: 100%|██████████| 701/701 [05:45<00:00,  2.03it/s]\n",
      "                 Class     Images  Instances      Box(P          R      mAP50  mAP50-95): 100%|██████████| 3/3 [00:01<00:00,  2.47it/s]"
     ]
    },
    {
     "name": "stdout",
     "output_type": "stream",
     "text": [
      "                   all         91        331      0.675      0.573      0.606      0.333\n"
     ]
    },
    {
     "name": "stderr",
     "output_type": "stream",
     "text": [
      "\n"
     ]
    },
    {
     "name": "stdout",
     "output_type": "stream",
     "text": [
      "\n",
      "      Epoch    GPU_mem   box_loss   cls_loss   dfl_loss  Instances       Size\n"
     ]
    },
    {
     "name": "stderr",
     "output_type": "stream",
     "text": [
      "     16/250      6.32G      1.156     0.9829      1.315         41        640: 100%|██████████| 701/701 [06:10<00:00,  1.89it/s]\n",
      "                 Class     Images  Instances      Box(P          R      mAP50  mAP50-95): 100%|██████████| 3/3 [00:01<00:00,  2.12it/s]"
     ]
    },
    {
     "name": "stdout",
     "output_type": "stream",
     "text": [
      "                   all         91        331      0.627      0.578      0.626      0.342\n"
     ]
    },
    {
     "name": "stderr",
     "output_type": "stream",
     "text": [
      "\n"
     ]
    },
    {
     "name": "stdout",
     "output_type": "stream",
     "text": [
      "\n",
      "      Epoch    GPU_mem   box_loss   cls_loss   dfl_loss  Instances       Size\n"
     ]
    },
    {
     "name": "stderr",
     "output_type": "stream",
     "text": [
      "     17/250      6.34G      1.144     0.9645      1.306         37        640: 100%|██████████| 701/701 [05:45<00:00,  2.03it/s]\n",
      "                 Class     Images  Instances      Box(P          R      mAP50  mAP50-95): 100%|██████████| 3/3 [00:01<00:00,  2.50it/s]"
     ]
    },
    {
     "name": "stdout",
     "output_type": "stream",
     "text": [
      "                   all         91        331      0.751      0.588      0.669      0.389\n"
     ]
    },
    {
     "name": "stderr",
     "output_type": "stream",
     "text": [
      "\n"
     ]
    },
    {
     "name": "stdout",
     "output_type": "stream",
     "text": [
      "\n",
      "      Epoch    GPU_mem   box_loss   cls_loss   dfl_loss  Instances       Size\n"
     ]
    },
    {
     "name": "stderr",
     "output_type": "stream",
     "text": [
      "     18/250      6.24G      1.113     0.9289      1.284         32        640: 100%|██████████| 701/701 [05:43<00:00,  2.04it/s]\n",
      "                 Class     Images  Instances      Box(P          R      mAP50  mAP50-95): 100%|██████████| 3/3 [00:01<00:00,  2.50it/s]"
     ]
    },
    {
     "name": "stdout",
     "output_type": "stream",
     "text": [
      "                   all         91        331      0.717      0.559      0.627      0.349\n"
     ]
    },
    {
     "name": "stderr",
     "output_type": "stream",
     "text": [
      "\n"
     ]
    },
    {
     "name": "stdout",
     "output_type": "stream",
     "text": [
      "\n",
      "      Epoch    GPU_mem   box_loss   cls_loss   dfl_loss  Instances       Size\n"
     ]
    },
    {
     "name": "stderr",
     "output_type": "stream",
     "text": [
      "     19/250      6.33G      1.101     0.9137      1.279         35        640: 100%|██████████| 701/701 [05:43<00:00,  2.04it/s]\n",
      "                 Class     Images  Instances      Box(P          R      mAP50  mAP50-95): 100%|██████████| 3/3 [00:01<00:00,  2.45it/s]"
     ]
    },
    {
     "name": "stdout",
     "output_type": "stream",
     "text": [
      "                   all         91        331      0.697      0.612      0.702      0.396\n"
     ]
    },
    {
     "name": "stderr",
     "output_type": "stream",
     "text": [
      "\n"
     ]
    },
    {
     "name": "stdout",
     "output_type": "stream",
     "text": [
      "\n",
      "      Epoch    GPU_mem   box_loss   cls_loss   dfl_loss  Instances       Size\n"
     ]
    },
    {
     "name": "stderr",
     "output_type": "stream",
     "text": [
      "     20/250      6.32G      1.074     0.8911      1.261         37        640: 100%|██████████| 701/701 [05:41<00:00,  2.05it/s]\n",
      "                 Class     Images  Instances      Box(P          R      mAP50  mAP50-95): 100%|██████████| 3/3 [00:01<00:00,  2.44it/s]"
     ]
    },
    {
     "name": "stdout",
     "output_type": "stream",
     "text": [
      "                   all         91        331      0.674       0.61      0.684      0.384\n"
     ]
    },
    {
     "name": "stderr",
     "output_type": "stream",
     "text": [
      "\n"
     ]
    },
    {
     "name": "stdout",
     "output_type": "stream",
     "text": [
      "\n",
      "      Epoch    GPU_mem   box_loss   cls_loss   dfl_loss  Instances       Size\n"
     ]
    },
    {
     "name": "stderr",
     "output_type": "stream",
     "text": [
      "     21/250      6.31G      1.062     0.8755      1.248         34        640: 100%|██████████| 701/701 [05:42<00:00,  2.05it/s]\n",
      "                 Class     Images  Instances      Box(P          R      mAP50  mAP50-95): 100%|██████████| 3/3 [00:01<00:00,  2.47it/s]"
     ]
    },
    {
     "name": "stdout",
     "output_type": "stream",
     "text": [
      "                   all         91        331      0.743      0.607      0.649      0.368\n"
     ]
    },
    {
     "name": "stderr",
     "output_type": "stream",
     "text": [
      "\n"
     ]
    },
    {
     "name": "stdout",
     "output_type": "stream",
     "text": [
      "\n",
      "      Epoch    GPU_mem   box_loss   cls_loss   dfl_loss  Instances       Size\n"
     ]
    },
    {
     "name": "stderr",
     "output_type": "stream",
     "text": [
      "     22/250      6.23G      1.048     0.8637      1.246         37        640: 100%|██████████| 701/701 [05:44<00:00,  2.03it/s]\n",
      "                 Class     Images  Instances      Box(P          R      mAP50  mAP50-95): 100%|██████████| 3/3 [00:01<00:00,  2.41it/s]"
     ]
    },
    {
     "name": "stdout",
     "output_type": "stream",
     "text": [
      "                   all         91        331      0.728       0.64      0.679      0.399\n"
     ]
    },
    {
     "name": "stderr",
     "output_type": "stream",
     "text": [
      "\n"
     ]
    },
    {
     "name": "stdout",
     "output_type": "stream",
     "text": [
      "\n",
      "      Epoch    GPU_mem   box_loss   cls_loss   dfl_loss  Instances       Size\n"
     ]
    },
    {
     "name": "stderr",
     "output_type": "stream",
     "text": [
      "     23/250      6.32G       1.04     0.8494      1.237         37        640: 100%|██████████| 701/701 [05:44<00:00,  2.03it/s]\n",
      "                 Class     Images  Instances      Box(P          R      mAP50  mAP50-95): 100%|██████████| 3/3 [00:01<00:00,  2.39it/s]"
     ]
    },
    {
     "name": "stdout",
     "output_type": "stream",
     "text": [
      "                   all         91        331      0.702      0.637      0.667      0.409\n"
     ]
    },
    {
     "name": "stderr",
     "output_type": "stream",
     "text": [
      "\n"
     ]
    },
    {
     "name": "stdout",
     "output_type": "stream",
     "text": [
      "\n",
      "      Epoch    GPU_mem   box_loss   cls_loss   dfl_loss  Instances       Size\n"
     ]
    },
    {
     "name": "stderr",
     "output_type": "stream",
     "text": [
      "     24/250      6.32G      1.029     0.8378      1.226         33        640: 100%|██████████| 701/701 [05:44<00:00,  2.04it/s]\n",
      "                 Class     Images  Instances      Box(P          R      mAP50  mAP50-95): 100%|██████████| 3/3 [00:01<00:00,  2.43it/s]"
     ]
    },
    {
     "name": "stdout",
     "output_type": "stream",
     "text": [
      "                   all         91        331      0.659      0.622      0.675      0.406\n"
     ]
    },
    {
     "name": "stderr",
     "output_type": "stream",
     "text": [
      "\n"
     ]
    },
    {
     "name": "stdout",
     "output_type": "stream",
     "text": [
      "\n",
      "      Epoch    GPU_mem   box_loss   cls_loss   dfl_loss  Instances       Size\n"
     ]
    },
    {
     "name": "stderr",
     "output_type": "stream",
     "text": [
      "     25/250      6.31G      1.008     0.8134      1.209         27        640: 100%|██████████| 701/701 [05:42<00:00,  2.05it/s]\n",
      "                 Class     Images  Instances      Box(P          R      mAP50  mAP50-95): 100%|██████████| 3/3 [00:01<00:00,  2.48it/s]"
     ]
    },
    {
     "name": "stdout",
     "output_type": "stream",
     "text": [
      "                   all         91        331       0.69      0.575      0.659      0.384\n"
     ]
    },
    {
     "name": "stderr",
     "output_type": "stream",
     "text": [
      "\n"
     ]
    },
    {
     "name": "stdout",
     "output_type": "stream",
     "text": [
      "\n",
      "      Epoch    GPU_mem   box_loss   cls_loss   dfl_loss  Instances       Size\n"
     ]
    },
    {
     "name": "stderr",
     "output_type": "stream",
     "text": [
      "     26/250      6.23G     0.9907       0.81      1.203         32        640: 100%|██████████| 701/701 [05:42<00:00,  2.04it/s]\n",
      "                 Class     Images  Instances      Box(P          R      mAP50  mAP50-95): 100%|██████████| 3/3 [00:01<00:00,  2.44it/s]"
     ]
    },
    {
     "name": "stdout",
     "output_type": "stream",
     "text": [
      "                   all         91        331      0.726      0.594      0.652      0.391\n"
     ]
    },
    {
     "name": "stderr",
     "output_type": "stream",
     "text": [
      "\n"
     ]
    },
    {
     "name": "stdout",
     "output_type": "stream",
     "text": [
      "\n",
      "      Epoch    GPU_mem   box_loss   cls_loss   dfl_loss  Instances       Size\n"
     ]
    },
    {
     "name": "stderr",
     "output_type": "stream",
     "text": [
      "     27/250      6.34G     0.9972     0.8014      1.204         38        640: 100%|██████████| 701/701 [05:42<00:00,  2.04it/s]\n",
      "                 Class     Images  Instances      Box(P          R      mAP50  mAP50-95): 100%|██████████| 3/3 [00:01<00:00,  2.43it/s]"
     ]
    },
    {
     "name": "stdout",
     "output_type": "stream",
     "text": [
      "                   all         91        331      0.718      0.671      0.691      0.427\n"
     ]
    },
    {
     "name": "stderr",
     "output_type": "stream",
     "text": [
      "\n"
     ]
    },
    {
     "name": "stdout",
     "output_type": "stream",
     "text": [
      "\n",
      "      Epoch    GPU_mem   box_loss   cls_loss   dfl_loss  Instances       Size\n"
     ]
    },
    {
     "name": "stderr",
     "output_type": "stream",
     "text": [
      "     28/250      6.32G     0.9646     0.7912      1.192         23        640: 100%|██████████| 701/701 [05:42<00:00,  2.05it/s]\n",
      "                 Class     Images  Instances      Box(P          R      mAP50  mAP50-95): 100%|██████████| 3/3 [00:01<00:00,  2.49it/s]"
     ]
    },
    {
     "name": "stdout",
     "output_type": "stream",
     "text": [
      "                   all         91        331      0.705      0.633      0.709      0.431\n"
     ]
    },
    {
     "name": "stderr",
     "output_type": "stream",
     "text": [
      "\n"
     ]
    },
    {
     "name": "stdout",
     "output_type": "stream",
     "text": [
      "\n",
      "      Epoch    GPU_mem   box_loss   cls_loss   dfl_loss  Instances       Size\n"
     ]
    },
    {
     "name": "stderr",
     "output_type": "stream",
     "text": [
      "     29/250      6.32G     0.9599     0.7679      1.185         32        640: 100%|██████████| 701/701 [05:41<00:00,  2.05it/s]\n",
      "                 Class     Images  Instances      Box(P          R      mAP50  mAP50-95): 100%|██████████| 3/3 [00:01<00:00,  2.34it/s]"
     ]
    },
    {
     "name": "stdout",
     "output_type": "stream",
     "text": [
      "                   all         91        331      0.685      0.619      0.684      0.428\n"
     ]
    },
    {
     "name": "stderr",
     "output_type": "stream",
     "text": [
      "\n"
     ]
    },
    {
     "name": "stdout",
     "output_type": "stream",
     "text": [
      "\n",
      "      Epoch    GPU_mem   box_loss   cls_loss   dfl_loss  Instances       Size\n"
     ]
    },
    {
     "name": "stderr",
     "output_type": "stream",
     "text": [
      "     30/250      6.24G      0.944     0.7658       1.17         28        640: 100%|██████████| 701/701 [05:42<00:00,  2.04it/s]\n",
      "                 Class     Images  Instances      Box(P          R      mAP50  mAP50-95): 100%|██████████| 3/3 [00:01<00:00,  2.42it/s]"
     ]
    },
    {
     "name": "stdout",
     "output_type": "stream",
     "text": [
      "                   all         91        331      0.689       0.67       0.72      0.455\n"
     ]
    },
    {
     "name": "stderr",
     "output_type": "stream",
     "text": [
      "\n"
     ]
    },
    {
     "name": "stdout",
     "output_type": "stream",
     "text": [
      "\n",
      "      Epoch    GPU_mem   box_loss   cls_loss   dfl_loss  Instances       Size\n"
     ]
    },
    {
     "name": "stderr",
     "output_type": "stream",
     "text": [
      "     31/250      6.32G     0.9374     0.7552      1.169         35        640: 100%|██████████| 701/701 [05:43<00:00,  2.04it/s]\n",
      "                 Class     Images  Instances      Box(P          R      mAP50  mAP50-95): 100%|██████████| 3/3 [00:01<00:00,  2.24it/s]"
     ]
    },
    {
     "name": "stdout",
     "output_type": "stream",
     "text": [
      "                   all         91        331      0.695      0.623      0.684      0.433\n"
     ]
    },
    {
     "name": "stderr",
     "output_type": "stream",
     "text": [
      "\n"
     ]
    },
    {
     "name": "stdout",
     "output_type": "stream",
     "text": [
      "\n",
      "      Epoch    GPU_mem   box_loss   cls_loss   dfl_loss  Instances       Size\n"
     ]
    },
    {
     "name": "stderr",
     "output_type": "stream",
     "text": [
      "     32/250      6.32G     0.9295     0.7455      1.158         39        640: 100%|██████████| 701/701 [05:42<00:00,  2.05it/s]\n",
      "                 Class     Images  Instances      Box(P          R      mAP50  mAP50-95): 100%|██████████| 3/3 [00:01<00:00,  2.44it/s]"
     ]
    },
    {
     "name": "stdout",
     "output_type": "stream",
     "text": [
      "                   all         91        331      0.623      0.644      0.666      0.427\n"
     ]
    },
    {
     "name": "stderr",
     "output_type": "stream",
     "text": [
      "\n"
     ]
    },
    {
     "name": "stdout",
     "output_type": "stream",
     "text": [
      "\n",
      "      Epoch    GPU_mem   box_loss   cls_loss   dfl_loss  Instances       Size\n"
     ]
    },
    {
     "name": "stderr",
     "output_type": "stream",
     "text": [
      "     33/250      6.32G     0.9159     0.7418      1.155         41        640: 100%|██████████| 701/701 [05:41<00:00,  2.05it/s]\n",
      "                 Class     Images  Instances      Box(P          R      mAP50  mAP50-95): 100%|██████████| 3/3 [00:01<00:00,  2.48it/s]"
     ]
    },
    {
     "name": "stdout",
     "output_type": "stream",
     "text": [
      "                   all         91        331      0.639      0.681      0.716       0.45\n"
     ]
    },
    {
     "name": "stderr",
     "output_type": "stream",
     "text": [
      "\n"
     ]
    },
    {
     "name": "stdout",
     "output_type": "stream",
     "text": [
      "\n",
      "      Epoch    GPU_mem   box_loss   cls_loss   dfl_loss  Instances       Size\n"
     ]
    },
    {
     "name": "stderr",
     "output_type": "stream",
     "text": [
      "     34/250      6.27G     0.9148       0.74      1.155         31        640: 100%|██████████| 701/701 [05:42<00:00,  2.05it/s]\n",
      "                 Class     Images  Instances      Box(P          R      mAP50  mAP50-95): 100%|██████████| 3/3 [00:01<00:00,  2.36it/s]"
     ]
    },
    {
     "name": "stdout",
     "output_type": "stream",
     "text": [
      "                   all         91        331      0.761      0.686      0.714       0.46\n"
     ]
    },
    {
     "name": "stderr",
     "output_type": "stream",
     "text": [
      "\n"
     ]
    },
    {
     "name": "stdout",
     "output_type": "stream",
     "text": [
      "\n",
      "      Epoch    GPU_mem   box_loss   cls_loss   dfl_loss  Instances       Size\n"
     ]
    },
    {
     "name": "stderr",
     "output_type": "stream",
     "text": [
      "     35/250      6.32G     0.8985     0.7248      1.145         24        640: 100%|██████████| 701/701 [05:42<00:00,  2.05it/s]\n",
      "                 Class     Images  Instances      Box(P          R      mAP50  mAP50-95): 100%|██████████| 3/3 [00:01<00:00,  2.45it/s]"
     ]
    },
    {
     "name": "stdout",
     "output_type": "stream",
     "text": [
      "                   all         91        331      0.696      0.684      0.705      0.454\n"
     ]
    },
    {
     "name": "stderr",
     "output_type": "stream",
     "text": [
      "\n"
     ]
    },
    {
     "name": "stdout",
     "output_type": "stream",
     "text": [
      "\n",
      "      Epoch    GPU_mem   box_loss   cls_loss   dfl_loss  Instances       Size\n"
     ]
    },
    {
     "name": "stderr",
     "output_type": "stream",
     "text": [
      "     36/250      6.32G     0.8952     0.7204      1.144         25        640: 100%|██████████| 701/701 [05:44<00:00,  2.04it/s]\n",
      "                 Class     Images  Instances      Box(P          R      mAP50  mAP50-95): 100%|██████████| 3/3 [00:01<00:00,  2.42it/s]"
     ]
    },
    {
     "name": "stdout",
     "output_type": "stream",
     "text": [
      "                   all         91        331      0.746      0.675       0.73       0.48\n"
     ]
    },
    {
     "name": "stderr",
     "output_type": "stream",
     "text": [
      "\n"
     ]
    },
    {
     "name": "stdout",
     "output_type": "stream",
     "text": [
      "\n",
      "      Epoch    GPU_mem   box_loss   cls_loss   dfl_loss  Instances       Size\n"
     ]
    },
    {
     "name": "stderr",
     "output_type": "stream",
     "text": [
      "     37/250      6.32G     0.8732     0.7046       1.13         32        640: 100%|██████████| 701/701 [05:41<00:00,  2.05it/s]\n",
      "                 Class     Images  Instances      Box(P          R      mAP50  mAP50-95): 100%|██████████| 3/3 [00:01<00:00,  2.41it/s]"
     ]
    },
    {
     "name": "stdout",
     "output_type": "stream",
     "text": [
      "                   all         91        331      0.695      0.692      0.724      0.476\n"
     ]
    },
    {
     "name": "stderr",
     "output_type": "stream",
     "text": [
      "\n"
     ]
    },
    {
     "name": "stdout",
     "output_type": "stream",
     "text": [
      "\n",
      "      Epoch    GPU_mem   box_loss   cls_loss   dfl_loss  Instances       Size\n"
     ]
    },
    {
     "name": "stderr",
     "output_type": "stream",
     "text": [
      "     38/250      6.22G     0.8672     0.7019      1.121         51        640: 100%|██████████| 701/701 [05:42<00:00,  2.05it/s]\n",
      "                 Class     Images  Instances      Box(P          R      mAP50  mAP50-95): 100%|██████████| 3/3 [00:01<00:00,  2.44it/s]"
     ]
    },
    {
     "name": "stdout",
     "output_type": "stream",
     "text": [
      "                   all         91        331      0.719       0.66      0.722      0.473\n"
     ]
    },
    {
     "name": "stderr",
     "output_type": "stream",
     "text": [
      "\n"
     ]
    },
    {
     "name": "stdout",
     "output_type": "stream",
     "text": [
      "\n",
      "      Epoch    GPU_mem   box_loss   cls_loss   dfl_loss  Instances       Size\n"
     ]
    },
    {
     "name": "stderr",
     "output_type": "stream",
     "text": [
      "     39/250      6.33G     0.8678     0.7011      1.122         41        640: 100%|██████████| 701/701 [05:41<00:00,  2.05it/s]\n",
      "                 Class     Images  Instances      Box(P          R      mAP50  mAP50-95): 100%|██████████| 3/3 [00:01<00:00,  2.38it/s]"
     ]
    },
    {
     "name": "stdout",
     "output_type": "stream",
     "text": [
      "                   all         91        331      0.719      0.665      0.707      0.476\n"
     ]
    },
    {
     "name": "stderr",
     "output_type": "stream",
     "text": [
      "\n"
     ]
    },
    {
     "name": "stdout",
     "output_type": "stream",
     "text": [
      "\n",
      "      Epoch    GPU_mem   box_loss   cls_loss   dfl_loss  Instances       Size\n"
     ]
    },
    {
     "name": "stderr",
     "output_type": "stream",
     "text": [
      "     40/250      6.32G     0.8631     0.6907      1.125         34        640: 100%|██████████| 701/701 [05:41<00:00,  2.05it/s]\n",
      "                 Class     Images  Instances      Box(P          R      mAP50  mAP50-95): 100%|██████████| 3/3 [00:01<00:00,  2.38it/s]"
     ]
    },
    {
     "name": "stdout",
     "output_type": "stream",
     "text": [
      "                   all         91        331      0.679      0.718      0.731      0.484\n"
     ]
    },
    {
     "name": "stderr",
     "output_type": "stream",
     "text": [
      "\n"
     ]
    },
    {
     "name": "stdout",
     "output_type": "stream",
     "text": [
      "\n",
      "      Epoch    GPU_mem   box_loss   cls_loss   dfl_loss  Instances       Size\n"
     ]
    },
    {
     "name": "stderr",
     "output_type": "stream",
     "text": [
      "     41/250      6.31G     0.8512     0.6875      1.116         32        640: 100%|██████████| 701/701 [05:43<00:00,  2.04it/s]\n",
      "                 Class     Images  Instances      Box(P          R      mAP50  mAP50-95): 100%|██████████| 3/3 [00:01<00:00,  2.42it/s]"
     ]
    },
    {
     "name": "stdout",
     "output_type": "stream",
     "text": [
      "                   all         91        331      0.659      0.716      0.727      0.483\n"
     ]
    },
    {
     "name": "stderr",
     "output_type": "stream",
     "text": [
      "\n"
     ]
    },
    {
     "name": "stdout",
     "output_type": "stream",
     "text": [
      "\n",
      "      Epoch    GPU_mem   box_loss   cls_loss   dfl_loss  Instances       Size\n"
     ]
    },
    {
     "name": "stderr",
     "output_type": "stream",
     "text": [
      "     42/250      6.26G     0.8536     0.6899      1.117         37        640: 100%|██████████| 701/701 [05:42<00:00,  2.04it/s]\n",
      "                 Class     Images  Instances      Box(P          R      mAP50  mAP50-95): 100%|██████████| 3/3 [00:01<00:00,  2.45it/s]"
     ]
    },
    {
     "name": "stdout",
     "output_type": "stream",
     "text": [
      "                   all         91        331      0.685      0.683      0.723       0.49\n"
     ]
    },
    {
     "name": "stderr",
     "output_type": "stream",
     "text": [
      "\n"
     ]
    },
    {
     "name": "stdout",
     "output_type": "stream",
     "text": [
      "\n",
      "      Epoch    GPU_mem   box_loss   cls_loss   dfl_loss  Instances       Size\n"
     ]
    },
    {
     "name": "stderr",
     "output_type": "stream",
     "text": [
      "     43/250      6.33G     0.8256     0.6699        1.1         53        640: 100%|██████████| 701/701 [05:41<00:00,  2.05it/s]\n",
      "                 Class     Images  Instances      Box(P          R      mAP50  mAP50-95): 100%|██████████| 3/3 [00:01<00:00,  2.33it/s]"
     ]
    },
    {
     "name": "stdout",
     "output_type": "stream",
     "text": [
      "                   all         91        331      0.743      0.687      0.738      0.501\n"
     ]
    },
    {
     "name": "stderr",
     "output_type": "stream",
     "text": [
      "\n"
     ]
    },
    {
     "name": "stdout",
     "output_type": "stream",
     "text": [
      "\n",
      "      Epoch    GPU_mem   box_loss   cls_loss   dfl_loss  Instances       Size\n"
     ]
    },
    {
     "name": "stderr",
     "output_type": "stream",
     "text": [
      "     44/250      6.33G     0.8208     0.6684      1.099         38        640: 100%|██████████| 701/701 [05:44<00:00,  2.03it/s]\n",
      "                 Class     Images  Instances      Box(P          R      mAP50  mAP50-95): 100%|██████████| 3/3 [00:01<00:00,  2.23it/s]"
     ]
    },
    {
     "name": "stdout",
     "output_type": "stream",
     "text": [
      "                   all         91        331      0.698      0.685      0.725      0.498\n"
     ]
    },
    {
     "name": "stderr",
     "output_type": "stream",
     "text": [
      "\n"
     ]
    },
    {
     "name": "stdout",
     "output_type": "stream",
     "text": [
      "\n",
      "      Epoch    GPU_mem   box_loss   cls_loss   dfl_loss  Instances       Size\n"
     ]
    },
    {
     "name": "stderr",
     "output_type": "stream",
     "text": [
      "     45/250      6.31G     0.8225      0.663      1.097         39        640: 100%|██████████| 701/701 [05:43<00:00,  2.04it/s]\n",
      "                 Class     Images  Instances      Box(P          R      mAP50  mAP50-95): 100%|██████████| 3/3 [00:01<00:00,  2.42it/s]"
     ]
    },
    {
     "name": "stdout",
     "output_type": "stream",
     "text": [
      "                   all         91        331      0.741      0.697      0.737      0.504\n"
     ]
    },
    {
     "name": "stderr",
     "output_type": "stream",
     "text": [
      "\n"
     ]
    },
    {
     "name": "stdout",
     "output_type": "stream",
     "text": [
      "\n",
      "      Epoch    GPU_mem   box_loss   cls_loss   dfl_loss  Instances       Size\n"
     ]
    },
    {
     "name": "stderr",
     "output_type": "stream",
     "text": [
      "     46/250      6.24G     0.8142     0.6601      1.092         18        640: 100%|██████████| 701/701 [05:43<00:00,  2.04it/s]\n",
      "                 Class     Images  Instances      Box(P          R      mAP50  mAP50-95): 100%|██████████| 3/3 [00:01<00:00,  2.29it/s]"
     ]
    },
    {
     "name": "stdout",
     "output_type": "stream",
     "text": [
      "                   all         91        331      0.675       0.69      0.704      0.494\n"
     ]
    },
    {
     "name": "stderr",
     "output_type": "stream",
     "text": [
      "\n"
     ]
    },
    {
     "name": "stdout",
     "output_type": "stream",
     "text": [
      "\n",
      "      Epoch    GPU_mem   box_loss   cls_loss   dfl_loss  Instances       Size\n"
     ]
    },
    {
     "name": "stderr",
     "output_type": "stream",
     "text": [
      "     47/250      6.31G      0.811     0.6584      1.091         28        640: 100%|██████████| 701/701 [5:26:46<00:00, 27.97s/it]     \n",
      "                 Class     Images  Instances      Box(P          R      mAP50  mAP50-95): 100%|██████████| 3/3 [00:04<00:00,  1.54s/it]"
     ]
    },
    {
     "name": "stdout",
     "output_type": "stream",
     "text": [
      "                   all         91        331      0.628      0.716      0.732      0.506\n"
     ]
    },
    {
     "name": "stderr",
     "output_type": "stream",
     "text": [
      "\n"
     ]
    },
    {
     "name": "stdout",
     "output_type": "stream",
     "text": [
      "\n",
      "      Epoch    GPU_mem   box_loss   cls_loss   dfl_loss  Instances       Size\n"
     ]
    },
    {
     "name": "stderr",
     "output_type": "stream",
     "text": [
      "     48/250      6.33G     0.8005     0.6476      1.081         25        640:  62%|██████▏   | 437/701 [03:24<02:03,  2.14it/s]\n"
     ]
    },
    {
     "ename": "KeyboardInterrupt",
     "evalue": "",
     "output_type": "error",
     "traceback": [
      "\u001b[1;31m---------------------------------------------------------------------------\u001b[0m",
      "\u001b[1;31mKeyboardInterrupt\u001b[0m                         Traceback (most recent call last)",
      "Cell \u001b[1;32mIn[8], line 1\u001b[0m\n\u001b[1;32m----> 1\u001b[0m \u001b[43mentrenar_modelo_final\u001b[49m\u001b[43m(\u001b[49m\n\u001b[0;32m      2\u001b[0m \u001b[43m    \u001b[49m\u001b[43mdataset_name\u001b[49m\u001b[38;5;241;43m=\u001b[39;49m\u001b[38;5;124;43m\"\u001b[39;49m\u001b[38;5;124;43mpreprocesamiento/modelo_yolov11_dataset_completo_preprocesado\u001b[39;49m\u001b[38;5;124;43m\"\u001b[39;49m\u001b[43m,\u001b[49m\u001b[43m \u001b[49m\n\u001b[0;32m      3\u001b[0m \u001b[43m    \u001b[49m\u001b[43mclass_names\u001b[49m\u001b[38;5;241;43m=\u001b[39;49m\u001b[43m[\u001b[49m\u001b[38;5;124;43m\"\u001b[39;49m\u001b[38;5;124;43mVehiculos\u001b[39;49m\u001b[38;5;124;43m\"\u001b[39;49m\u001b[43m,\u001b[49m\u001b[43m \u001b[49m\u001b[38;5;124;43m\"\u001b[39;49m\u001b[38;5;124;43mBodegas\u001b[39;49m\u001b[38;5;124;43m\"\u001b[39;49m\u001b[43m,\u001b[49m\u001b[43m \u001b[49m\u001b[38;5;124;43m\"\u001b[39;49m\u001b[38;5;124;43mCaminos\u001b[39;49m\u001b[38;5;124;43m\"\u001b[39;49m\u001b[43m,\u001b[49m\u001b[43m \u001b[49m\u001b[38;5;124;43m\"\u001b[39;49m\u001b[38;5;124;43mRios\u001b[39;49m\u001b[38;5;124;43m\"\u001b[39;49m\u001b[43m,\u001b[49m\u001b[43m \u001b[49m\u001b[38;5;124;43m\"\u001b[39;49m\u001b[38;5;124;43mMineria ilegal\u001b[39;49m\u001b[38;5;124;43m\"\u001b[39;49m\u001b[43m]\u001b[49m\u001b[43m,\u001b[49m\u001b[43m \u001b[49m\n\u001b[0;32m      4\u001b[0m \u001b[43m    \u001b[49m\u001b[43mmodel_weights\u001b[49m\u001b[38;5;241;43m=\u001b[39;49m\u001b[38;5;124;43m\"\u001b[39;49m\u001b[38;5;124;43myolov8m.pt\u001b[39;49m\u001b[38;5;124;43m\"\u001b[39;49m\u001b[43m,\u001b[49m\u001b[43m \u001b[49m\n\u001b[0;32m      5\u001b[0m \u001b[43m    \u001b[49m\u001b[43mepochs\u001b[49m\u001b[38;5;241;43m=\u001b[39;49m\u001b[38;5;241;43m250\u001b[39;49m\u001b[43m,\u001b[49m\n\u001b[0;32m      6\u001b[0m \u001b[43m    \u001b[49m\u001b[43moutput_name\u001b[49m\u001b[38;5;241;43m=\u001b[39;49m\u001b[38;5;124;43m\"\u001b[39;49m\u001b[38;5;124;43mpreprocesamiento/modelo_yolov11_dataset_completo_preprocesado_v2\u001b[39;49m\u001b[38;5;124;43m\"\u001b[39;49m\n\u001b[0;32m      7\u001b[0m \u001b[43m)\u001b[49m\n",
      "Cell \u001b[1;32mIn[6], line 72\u001b[0m, in \u001b[0;36mentrenar_modelo_final\u001b[1;34m(dataset_name, class_names, model_weights, epochs, batch_size, img_size, patience, output_name, resume_from_ckpt, lr0, lrf, cos_lr)\u001b[0m\n\u001b[0;32m     70\u001b[0m     \u001b[38;5;28mprint\u001b[39m(\u001b[38;5;124mf\u001b[39m\u001b[38;5;124m\"\u001b[39m\u001b[38;5;124m🚀 Entrenando modelo final desde cero: \u001b[39m\u001b[38;5;132;01m{\u001b[39;00mdataset_name\u001b[38;5;132;01m}\u001b[39;00m\u001b[38;5;124m\"\u001b[39m)\n\u001b[0;32m     71\u001b[0m     model \u001b[38;5;241m=\u001b[39m YOLO(model_weights)\n\u001b[1;32m---> 72\u001b[0m     \u001b[43mmodel\u001b[49m\u001b[38;5;241;43m.\u001b[39;49m\u001b[43mtrain\u001b[49m\u001b[43m(\u001b[49m\u001b[38;5;241;43m*\u001b[39;49m\u001b[38;5;241;43m*\u001b[39;49m\u001b[43mtrain_args\u001b[49m\u001b[43m)\u001b[49m\n\u001b[0;32m     73\u001b[0m     model \u001b[38;5;241m=\u001b[39m YOLO(\u001b[38;5;28mstr\u001b[39m(best_ckpt))  \u001b[38;5;66;03m# Recargar best al terminar\u001b[39;00m\n\u001b[0;32m     75\u001b[0m \u001b[38;5;66;03m# Guardar best.pt final\u001b[39;00m\n",
      "File \u001b[1;32m~\\AppData\\Local\\Packages\\PythonSoftwareFoundation.Python.3.11_qbz5n2kfra8p0\\LocalCache\\local-packages\\Python311\\site-packages\\ultralytics\\engine\\model.py:793\u001b[0m, in \u001b[0;36mModel.train\u001b[1;34m(self, trainer, **kwargs)\u001b[0m\n\u001b[0;32m    790\u001b[0m     \u001b[38;5;28mself\u001b[39m\u001b[38;5;241m.\u001b[39mmodel \u001b[38;5;241m=\u001b[39m \u001b[38;5;28mself\u001b[39m\u001b[38;5;241m.\u001b[39mtrainer\u001b[38;5;241m.\u001b[39mmodel\n\u001b[0;32m    792\u001b[0m \u001b[38;5;28mself\u001b[39m\u001b[38;5;241m.\u001b[39mtrainer\u001b[38;5;241m.\u001b[39mhub_session \u001b[38;5;241m=\u001b[39m \u001b[38;5;28mself\u001b[39m\u001b[38;5;241m.\u001b[39msession  \u001b[38;5;66;03m# attach optional HUB session\u001b[39;00m\n\u001b[1;32m--> 793\u001b[0m \u001b[38;5;28;43mself\u001b[39;49m\u001b[38;5;241;43m.\u001b[39;49m\u001b[43mtrainer\u001b[49m\u001b[38;5;241;43m.\u001b[39;49m\u001b[43mtrain\u001b[49m\u001b[43m(\u001b[49m\u001b[43m)\u001b[49m\n\u001b[0;32m    794\u001b[0m \u001b[38;5;66;03m# Update model and cfg after training\u001b[39;00m\n\u001b[0;32m    795\u001b[0m \u001b[38;5;28;01mif\u001b[39;00m RANK \u001b[38;5;129;01min\u001b[39;00m {\u001b[38;5;241m-\u001b[39m\u001b[38;5;241m1\u001b[39m, \u001b[38;5;241m0\u001b[39m}:\n",
      "File \u001b[1;32m~\\AppData\\Local\\Packages\\PythonSoftwareFoundation.Python.3.11_qbz5n2kfra8p0\\LocalCache\\local-packages\\Python311\\site-packages\\ultralytics\\engine\\trainer.py:212\u001b[0m, in \u001b[0;36mBaseTrainer.train\u001b[1;34m(self)\u001b[0m\n\u001b[0;32m    209\u001b[0m         ddp_cleanup(\u001b[38;5;28mself\u001b[39m, \u001b[38;5;28mstr\u001b[39m(file))\n\u001b[0;32m    211\u001b[0m \u001b[38;5;28;01melse\u001b[39;00m:\n\u001b[1;32m--> 212\u001b[0m     \u001b[38;5;28;43mself\u001b[39;49m\u001b[38;5;241;43m.\u001b[39;49m\u001b[43m_do_train\u001b[49m\u001b[43m(\u001b[49m\u001b[43mworld_size\u001b[49m\u001b[43m)\u001b[49m\n",
      "File \u001b[1;32m~\\AppData\\Local\\Packages\\PythonSoftwareFoundation.Python.3.11_qbz5n2kfra8p0\\LocalCache\\local-packages\\Python311\\site-packages\\ultralytics\\engine\\trainer.py:386\u001b[0m, in \u001b[0;36mBaseTrainer._do_train\u001b[1;34m(self, world_size)\u001b[0m\n\u001b[0;32m    384\u001b[0m \u001b[38;5;28;01mwith\u001b[39;00m autocast(\u001b[38;5;28mself\u001b[39m\u001b[38;5;241m.\u001b[39mamp):\n\u001b[0;32m    385\u001b[0m     batch \u001b[38;5;241m=\u001b[39m \u001b[38;5;28mself\u001b[39m\u001b[38;5;241m.\u001b[39mpreprocess_batch(batch)\n\u001b[1;32m--> 386\u001b[0m     loss, \u001b[38;5;28mself\u001b[39m\u001b[38;5;241m.\u001b[39mloss_items \u001b[38;5;241m=\u001b[39m \u001b[38;5;28;43mself\u001b[39;49m\u001b[38;5;241;43m.\u001b[39;49m\u001b[43mmodel\u001b[49m\u001b[43m(\u001b[49m\u001b[43mbatch\u001b[49m\u001b[43m)\u001b[49m\n\u001b[0;32m    387\u001b[0m     \u001b[38;5;28mself\u001b[39m\u001b[38;5;241m.\u001b[39mloss \u001b[38;5;241m=\u001b[39m loss\u001b[38;5;241m.\u001b[39msum()\n\u001b[0;32m    388\u001b[0m     \u001b[38;5;28;01mif\u001b[39;00m RANK \u001b[38;5;241m!=\u001b[39m \u001b[38;5;241m-\u001b[39m\u001b[38;5;241m1\u001b[39m:\n",
      "File \u001b[1;32m~\\AppData\\Local\\Packages\\PythonSoftwareFoundation.Python.3.11_qbz5n2kfra8p0\\LocalCache\\local-packages\\Python311\\site-packages\\torch\\nn\\modules\\module.py:1751\u001b[0m, in \u001b[0;36mModule._wrapped_call_impl\u001b[1;34m(self, *args, **kwargs)\u001b[0m\n\u001b[0;32m   1749\u001b[0m     \u001b[38;5;28;01mreturn\u001b[39;00m \u001b[38;5;28mself\u001b[39m\u001b[38;5;241m.\u001b[39m_compiled_call_impl(\u001b[38;5;241m*\u001b[39margs, \u001b[38;5;241m*\u001b[39m\u001b[38;5;241m*\u001b[39mkwargs)  \u001b[38;5;66;03m# type: ignore[misc]\u001b[39;00m\n\u001b[0;32m   1750\u001b[0m \u001b[38;5;28;01melse\u001b[39;00m:\n\u001b[1;32m-> 1751\u001b[0m     \u001b[38;5;28;01mreturn\u001b[39;00m \u001b[38;5;28;43mself\u001b[39;49m\u001b[38;5;241;43m.\u001b[39;49m\u001b[43m_call_impl\u001b[49m\u001b[43m(\u001b[49m\u001b[38;5;241;43m*\u001b[39;49m\u001b[43margs\u001b[49m\u001b[43m,\u001b[49m\u001b[43m \u001b[49m\u001b[38;5;241;43m*\u001b[39;49m\u001b[38;5;241;43m*\u001b[39;49m\u001b[43mkwargs\u001b[49m\u001b[43m)\u001b[49m\n",
      "File \u001b[1;32m~\\AppData\\Local\\Packages\\PythonSoftwareFoundation.Python.3.11_qbz5n2kfra8p0\\LocalCache\\local-packages\\Python311\\site-packages\\torch\\nn\\modules\\module.py:1762\u001b[0m, in \u001b[0;36mModule._call_impl\u001b[1;34m(self, *args, **kwargs)\u001b[0m\n\u001b[0;32m   1757\u001b[0m \u001b[38;5;66;03m# If we don't have any hooks, we want to skip the rest of the logic in\u001b[39;00m\n\u001b[0;32m   1758\u001b[0m \u001b[38;5;66;03m# this function, and just call forward.\u001b[39;00m\n\u001b[0;32m   1759\u001b[0m \u001b[38;5;28;01mif\u001b[39;00m \u001b[38;5;129;01mnot\u001b[39;00m (\u001b[38;5;28mself\u001b[39m\u001b[38;5;241m.\u001b[39m_backward_hooks \u001b[38;5;129;01mor\u001b[39;00m \u001b[38;5;28mself\u001b[39m\u001b[38;5;241m.\u001b[39m_backward_pre_hooks \u001b[38;5;129;01mor\u001b[39;00m \u001b[38;5;28mself\u001b[39m\u001b[38;5;241m.\u001b[39m_forward_hooks \u001b[38;5;129;01mor\u001b[39;00m \u001b[38;5;28mself\u001b[39m\u001b[38;5;241m.\u001b[39m_forward_pre_hooks\n\u001b[0;32m   1760\u001b[0m         \u001b[38;5;129;01mor\u001b[39;00m _global_backward_pre_hooks \u001b[38;5;129;01mor\u001b[39;00m _global_backward_hooks\n\u001b[0;32m   1761\u001b[0m         \u001b[38;5;129;01mor\u001b[39;00m _global_forward_hooks \u001b[38;5;129;01mor\u001b[39;00m _global_forward_pre_hooks):\n\u001b[1;32m-> 1762\u001b[0m     \u001b[38;5;28;01mreturn\u001b[39;00m \u001b[43mforward_call\u001b[49m\u001b[43m(\u001b[49m\u001b[38;5;241;43m*\u001b[39;49m\u001b[43margs\u001b[49m\u001b[43m,\u001b[49m\u001b[43m \u001b[49m\u001b[38;5;241;43m*\u001b[39;49m\u001b[38;5;241;43m*\u001b[39;49m\u001b[43mkwargs\u001b[49m\u001b[43m)\u001b[49m\n\u001b[0;32m   1764\u001b[0m result \u001b[38;5;241m=\u001b[39m \u001b[38;5;28;01mNone\u001b[39;00m\n\u001b[0;32m   1765\u001b[0m called_always_called_hooks \u001b[38;5;241m=\u001b[39m \u001b[38;5;28mset\u001b[39m()\n",
      "File \u001b[1;32m~\\AppData\\Local\\Packages\\PythonSoftwareFoundation.Python.3.11_qbz5n2kfra8p0\\LocalCache\\local-packages\\Python311\\site-packages\\ultralytics\\nn\\tasks.py:114\u001b[0m, in \u001b[0;36mBaseModel.forward\u001b[1;34m(self, x, *args, **kwargs)\u001b[0m\n\u001b[0;32m    100\u001b[0m \u001b[38;5;250m\u001b[39m\u001b[38;5;124;03m\"\"\"\u001b[39;00m\n\u001b[0;32m    101\u001b[0m \u001b[38;5;124;03mPerform forward pass of the model for either training or inference.\u001b[39;00m\n\u001b[0;32m    102\u001b[0m \n\u001b[1;32m   (...)\u001b[0m\n\u001b[0;32m    111\u001b[0m \u001b[38;5;124;03m    (torch.Tensor): Loss if x is a dict (training), or network predictions (inference).\u001b[39;00m\n\u001b[0;32m    112\u001b[0m \u001b[38;5;124;03m\"\"\"\u001b[39;00m\n\u001b[0;32m    113\u001b[0m \u001b[38;5;28;01mif\u001b[39;00m \u001b[38;5;28misinstance\u001b[39m(x, \u001b[38;5;28mdict\u001b[39m):  \u001b[38;5;66;03m# for cases of training and validating while training.\u001b[39;00m\n\u001b[1;32m--> 114\u001b[0m     \u001b[38;5;28;01mreturn\u001b[39;00m \u001b[38;5;28;43mself\u001b[39;49m\u001b[38;5;241;43m.\u001b[39;49m\u001b[43mloss\u001b[49m\u001b[43m(\u001b[49m\u001b[43mx\u001b[49m\u001b[43m,\u001b[49m\u001b[43m \u001b[49m\u001b[38;5;241;43m*\u001b[39;49m\u001b[43margs\u001b[49m\u001b[43m,\u001b[49m\u001b[43m \u001b[49m\u001b[38;5;241;43m*\u001b[39;49m\u001b[38;5;241;43m*\u001b[39;49m\u001b[43mkwargs\u001b[49m\u001b[43m)\u001b[49m\n\u001b[0;32m    115\u001b[0m \u001b[38;5;28;01mreturn\u001b[39;00m \u001b[38;5;28mself\u001b[39m\u001b[38;5;241m.\u001b[39mpredict(x, \u001b[38;5;241m*\u001b[39margs, \u001b[38;5;241m*\u001b[39m\u001b[38;5;241m*\u001b[39mkwargs)\n",
      "File \u001b[1;32m~\\AppData\\Local\\Packages\\PythonSoftwareFoundation.Python.3.11_qbz5n2kfra8p0\\LocalCache\\local-packages\\Python311\\site-packages\\ultralytics\\nn\\tasks.py:301\u001b[0m, in \u001b[0;36mBaseModel.loss\u001b[1;34m(self, batch, preds)\u001b[0m\n\u001b[0;32m    298\u001b[0m     \u001b[38;5;28mself\u001b[39m\u001b[38;5;241m.\u001b[39mcriterion \u001b[38;5;241m=\u001b[39m \u001b[38;5;28mself\u001b[39m\u001b[38;5;241m.\u001b[39minit_criterion()\n\u001b[0;32m    300\u001b[0m preds \u001b[38;5;241m=\u001b[39m \u001b[38;5;28mself\u001b[39m\u001b[38;5;241m.\u001b[39mforward(batch[\u001b[38;5;124m\"\u001b[39m\u001b[38;5;124mimg\u001b[39m\u001b[38;5;124m\"\u001b[39m]) \u001b[38;5;28;01mif\u001b[39;00m preds \u001b[38;5;129;01mis\u001b[39;00m \u001b[38;5;28;01mNone\u001b[39;00m \u001b[38;5;28;01melse\u001b[39;00m preds\n\u001b[1;32m--> 301\u001b[0m \u001b[38;5;28;01mreturn\u001b[39;00m \u001b[38;5;28;43mself\u001b[39;49m\u001b[38;5;241;43m.\u001b[39;49m\u001b[43mcriterion\u001b[49m\u001b[43m(\u001b[49m\u001b[43mpreds\u001b[49m\u001b[43m,\u001b[49m\u001b[43m \u001b[49m\u001b[43mbatch\u001b[49m\u001b[43m)\u001b[49m\n",
      "File \u001b[1;32m~\\AppData\\Local\\Packages\\PythonSoftwareFoundation.Python.3.11_qbz5n2kfra8p0\\LocalCache\\local-packages\\Python311\\site-packages\\ultralytics\\utils\\loss.py:227\u001b[0m, in \u001b[0;36mv8DetectionLoss.__call__\u001b[1;34m(self, preds, batch)\u001b[0m\n\u001b[0;32m    225\u001b[0m dtype \u001b[38;5;241m=\u001b[39m pred_scores\u001b[38;5;241m.\u001b[39mdtype\n\u001b[0;32m    226\u001b[0m batch_size \u001b[38;5;241m=\u001b[39m pred_scores\u001b[38;5;241m.\u001b[39mshape[\u001b[38;5;241m0\u001b[39m]\n\u001b[1;32m--> 227\u001b[0m imgsz \u001b[38;5;241m=\u001b[39m \u001b[43mtorch\u001b[49m\u001b[38;5;241;43m.\u001b[39;49m\u001b[43mtensor\u001b[49m\u001b[43m(\u001b[49m\u001b[43mfeats\u001b[49m\u001b[43m[\u001b[49m\u001b[38;5;241;43m0\u001b[39;49m\u001b[43m]\u001b[49m\u001b[38;5;241;43m.\u001b[39;49m\u001b[43mshape\u001b[49m\u001b[43m[\u001b[49m\u001b[38;5;241;43m2\u001b[39;49m\u001b[43m:\u001b[49m\u001b[43m]\u001b[49m\u001b[43m,\u001b[49m\u001b[43m \u001b[49m\u001b[43mdevice\u001b[49m\u001b[38;5;241;43m=\u001b[39;49m\u001b[38;5;28;43mself\u001b[39;49m\u001b[38;5;241;43m.\u001b[39;49m\u001b[43mdevice\u001b[49m\u001b[43m,\u001b[49m\u001b[43m \u001b[49m\u001b[43mdtype\u001b[49m\u001b[38;5;241;43m=\u001b[39;49m\u001b[43mdtype\u001b[49m\u001b[43m)\u001b[49m \u001b[38;5;241m*\u001b[39m \u001b[38;5;28mself\u001b[39m\u001b[38;5;241m.\u001b[39mstride[\u001b[38;5;241m0\u001b[39m]  \u001b[38;5;66;03m# image size (h,w)\u001b[39;00m\n\u001b[0;32m    228\u001b[0m anchor_points, stride_tensor \u001b[38;5;241m=\u001b[39m make_anchors(feats, \u001b[38;5;28mself\u001b[39m\u001b[38;5;241m.\u001b[39mstride, \u001b[38;5;241m0.5\u001b[39m)\n\u001b[0;32m    230\u001b[0m \u001b[38;5;66;03m# Targets\u001b[39;00m\n",
      "\u001b[1;31mKeyboardInterrupt\u001b[0m: "
     ]
    }
   ],
   "source": [
    "entrenar_modelo_final(\n",
    "    dataset_name=\"preprocesamiento/modelo_yolov11_dataset_completo_preprocesado\", \n",
    "    class_names=[\"Vehiculos\", \"Bodegas\", \"Caminos\", \"Rios\", \"Mineria ilegal\"], \n",
    "    model_weights=\"yolov8m.pt\", \n",
    "    epochs=250,\n",
    "    output_name=\"preprocesamiento/modelo_yolov11_dataset_completo_preprocesado_v2\"\n",
    ")"
   ]
  },
  {
   "cell_type": "markdown",
   "id": "633a4909",
   "metadata": {},
   "source": [
    "## Resultados Entrenamiento"
   ]
  },
  {
   "cell_type": "markdown",
   "id": "1edade63",
   "metadata": {},
   "source": [
    "Si priorizamos la precision sobre el recall, podriamos tener un modelo que detecte zonas de mineria ilegual unicamente cuando esta muy seguro, y esto nos podria dejar muchas zonas ilegales sin detectar. Por esto nos centrarermos en el recall."
   ]
  },
  {
   "cell_type": "markdown",
   "id": "c3273a34",
   "metadata": {},
   "source": [
    "{'metrics/precision(B)': 0.8182038824300356, 'metrics/recall(B)': 0.8645168616965403, 'metrics/mAP50(B)': 0.8790093304757896, 'metrics/mAP50-95(B)': 0.73070457546457, 'fitness': 0.745535050965692}\n"
   ]
  },
  {
   "cell_type": "markdown",
   "id": "1f2651b2",
   "metadata": {},
   "source": [
    "# Finetuning"
   ]
  },
  {
   "cell_type": "code",
   "execution_count": null,
   "id": "91a26762",
   "metadata": {},
   "outputs": [],
   "source": [
    "import os\n",
    "\n",
    "\n",
    "def finetune_yolo_model(\n",
    "    model_path,\n",
    "    dataset_yaml_path,\n",
    "    save_dir,\n",
    "    run_name,\n",
    "    lr=0.0005,\n",
    "    epochs=15,\n",
    "    imgsz=640,\n",
    "    batch=16,\n",
    "):\n",
    "    \"\"\"\n",
    "    Fine-tunes only the detection head of a YOLOv8 model (freezing the backbone).\n",
    "    \n",
    "    Args:\n",
    "        model_path (str): Path to the pre-trained YOLO model (.pt).\n",
    "        dataset_yaml_path (str): Path to the dataset YAML file.\n",
    "        save_dir (str): Base directory to save the run.\n",
    "        run_name (str): Name of the training run.\n",
    "        lr (float): Initial learning rate (suggested: 1e-4 to 1e-3).\n",
    "        epochs (int): Number of fine-tuning epochs.\n",
    "        imgsz (int): Image size for training.\n",
    "        batch (int): Batch size.\n",
    "        device (int or str): Device to use ('cpu', 0, 1, etc.).\n",
    "    \"\"\"\n",
    "    assert os.path.exists(model_path), f\"Modelo no encontrado: {model_path}\"\n",
    "    assert os.path.exists(dataset_yaml_path), f\"YAML no encontrado: {dataset_yaml_path}\"\n",
    "    \n",
    "    model = YOLO(model_path)\n",
    "\n",
    "    model.train(\n",
    "        data=dataset_yaml_path,\n",
    "        epochs=epochs,\n",
    "        patience=3,\n",
    "        lr0=lr,\n",
    "        imgsz=imgsz,\n",
    "        batch=batch,\n",
    "        project=save_dir,\n",
    "        name=run_name,\n",
    "        optimizer=\"Adam\",          \n",
    "        cos_lr=True,             \n",
    "        verbose=True,\n",
    "        seed=42,\n",
    "        deterministic=True,\n",
    "        single_cls=False,\n",
    "        rect=False,\n",
    "        freeze=10                \n",
    "    )\n"
   ]
  },
  {
   "cell_type": "markdown",
   "id": "0bf3f1e9",
   "metadata": {},
   "source": [
    "## Finetuning - completo"
   ]
  },
  {
   "cell_type": "code",
   "execution_count": null,
   "id": "5681d83a",
   "metadata": {},
   "outputs": [],
   "source": [
    "finetune_yolo_model(\n",
    "    model_path=\"final_model_modelo_yolov11_dataset_completo_final_v2/best_model_final.pt\",\n",
    "    dataset_yaml_path=\"modelo_yolov11_dataset_completo/dataset.yaml\",\n",
    "    save_dir=\"finetuning_resultados\",\n",
    "    run_name=\"finetuning_complete_dataset_v2\",\n",
    ")"
   ]
  },
  {
   "cell_type": "markdown",
   "id": "eb13fbc1",
   "metadata": {},
   "source": [
    "### Finetuning - Filtrado"
   ]
  },
  {
   "cell_type": "code",
   "execution_count": null,
   "id": "391c7dad",
   "metadata": {},
   "outputs": [],
   "source": [
    "finetune_yolo_model(\n",
    "    model_path=\"final_model_modelo_yolov11_dataset_filtrado_final_v2/best_model_final.pt\",\n",
    "    dataset_yaml_path=\"modelo_yolov11_dataset_filtrado/dataset.yaml\",\n",
    "    save_dir=\"finetuning_resultados\",\n",
    "    run_name=\"finetuning_filtered_dataset_v2\",\n",
    ")"
   ]
  },
  {
   "cell_type": "markdown",
   "id": "6715ee42",
   "metadata": {},
   "source": [
    "### Finetuning - Completo con preprocesamiento"
   ]
  },
  {
   "cell_type": "code",
   "execution_count": null,
   "id": "548471af",
   "metadata": {},
   "outputs": [],
   "source": [
    "finetune_yolo_model(\n",
    "    model_path=\"final_model_preprocesamiento_modelo_yolov11_dataset_completo_preprocesado_v2/best_model_final.pt\",\n",
    "    dataset_yaml_path=\"preprocesamiento/modelo_yolov11_dataset_completo_preprocesado/dataset.yaml\",\n",
    "    save_dir=\"finetuning_resultados\",\n",
    "    run_name=\"finetuning_complete_preprocessed_dataset_v2\",\n",
    ")"
   ]
  },
  {
   "cell_type": "markdown",
   "id": "636b3f2b",
   "metadata": {},
   "source": [
    "### Finetuning - Filtrado con preprocesamiento"
   ]
  },
  {
   "cell_type": "code",
   "execution_count": null,
   "id": "5ea50ef2",
   "metadata": {},
   "outputs": [],
   "source": [
    "finetune_yolo_model(\n",
    "    model_path=\"final_model_preprocesamiento_modelo_yolov11_dataset_filtrado_preprocesado_v2/best_model_final.pt\",\n",
    "    dataset_yaml_path=\"preprocesamiento/modelo_yolov11_dataset_filtrado_preprocesado/dataset.yaml\",\n",
    "    save_dir=\"finetuning_resultados\",\n",
    "    run_name=\"finetuning_filtered_preprocessed_dataset_v2\",\n",
    ")"
   ]
  },
  {
   "cell_type": "markdown",
   "id": "a9ac2e55",
   "metadata": {},
   "source": [
    "# Resultados Finetuning"
   ]
  },
  {
   "cell_type": "markdown",
   "id": "111be3c9",
   "metadata": {},
   "source": [
    "## Filtrado"
   ]
  },
  {
   "cell_type": "markdown",
   "id": "22f9c95a",
   "metadata": {},
   "source": [
    "### Preprocesamiento"
   ]
  },
  {
   "cell_type": "code",
   "execution_count": null,
   "id": "7896439c",
   "metadata": {},
   "outputs": [],
   "source": [
    "from PIL import Image as PImage\n",
    "display(PImage.open('finetuning_resultados/finetuning_filtered_preprocessed_dataset_v2/results.png'))\n",
    "\n",
    "display(PImage.open('finetuning_resultados/finetuning_filtered_preprocessed_dataset_v2/confusion_matrix.png'))"
   ]
  },
  {
   "cell_type": "markdown",
   "id": "1c3f8476",
   "metadata": {},
   "source": [
    "### Sin - Preprocesamiento"
   ]
  },
  {
   "cell_type": "code",
   "execution_count": null,
   "id": "596a4d8a",
   "metadata": {},
   "outputs": [],
   "source": [
    "from PIL import Image as PImage\n",
    "display(PImage.open('finetuning_resultados/finetuning_filtered_dataset_v2/results.png'))\n",
    "\n",
    "display(PImage.open('finetuning_resultados/finetuning_filtered_dataset_v2/confusion_matrix.png'))"
   ]
  },
  {
   "cell_type": "markdown",
   "id": "10990e1c",
   "metadata": {},
   "source": [
    "## Completo"
   ]
  },
  {
   "cell_type": "markdown",
   "id": "df915824",
   "metadata": {},
   "source": [
    "### Preprocesamiento"
   ]
  },
  {
   "cell_type": "code",
   "execution_count": null,
   "id": "0b1eb18e",
   "metadata": {},
   "outputs": [],
   "source": [
    "from PIL import Image as PImage\n",
    "display(PImage.open('finetuning_resultados/finetuning_complete_preprocessed_dataset_v2/results.png'))\n",
    "\n",
    "display(PImage.open('finetuning_resultados/finetuning_complete_preprocessed_dataset_v2/confusion_matrix.png'))"
   ]
  },
  {
   "cell_type": "markdown",
   "id": "f3a16fd0",
   "metadata": {},
   "source": [
    "### Sin Preprocesamiento"
   ]
  },
  {
   "cell_type": "code",
   "execution_count": null,
   "id": "8d9d9e4e",
   "metadata": {},
   "outputs": [],
   "source": [
    "from PIL import Image as PImage\n",
    "display(PImage.open('finetuning_resultados/finetuning_complete_dataset_v2/results.png'))\n",
    "\n",
    "display(PImage.open('finetuning_resultados/finetuning_complete_dataset_v2/confusion_matrix.png'))"
   ]
  },
  {
   "cell_type": "markdown",
   "id": "f9558652",
   "metadata": {},
   "source": [
    "# Finetuning con freeze de 0 y 1"
   ]
  },
  {
   "cell_type": "code",
   "execution_count": null,
   "id": "42d91563",
   "metadata": {},
   "outputs": [],
   "source": [
    "import os\n",
    "\n",
    "def finetune_yolo_model(\n",
    "    model_path,\n",
    "    dataset_yaml_path,\n",
    "    save_dir,\n",
    "    run_name,\n",
    "    lr=0.0005,\n",
    "    epochs=15,\n",
    "    imgsz=640,\n",
    "    batch=16,\n",
    "    freeze=0\n",
    "):\n",
    "    \"\"\"\n",
    "    Fine-tunes a YOLOv8 model with optional layer freezing.\n",
    "    \"\"\"\n",
    "    assert os.path.exists(model_path), f\"Modelo no encontrado: {model_path}\"\n",
    "    assert os.path.exists(dataset_yaml_path), f\"YAML no encontrado: {dataset_yaml_path}\"\n",
    "\n",
    "    model = YOLO(model_path)\n",
    "\n",
    "    model.train(\n",
    "        data=dataset_yaml_path,\n",
    "        epochs=epochs,\n",
    "        patience=2,\n",
    "        lr0=lr,\n",
    "        imgsz=imgsz,\n",
    "        batch=batch,\n",
    "        project=save_dir,\n",
    "        name=f\"{run_name}_freeze{freeze}\",\n",
    "        optimizer=\"Adam\",\n",
    "        cos_lr=True,\n",
    "        verbose=True,\n",
    "        seed=42,\n",
    "        deterministic=True,\n",
    "        single_cls=False,\n",
    "        rect=False,\n",
    "        freeze=freeze\n",
    "    )\n",
    "\n",
    "# Modelos y datasets\n",
    "configs = [\n",
    "    (\n",
    "        \"final_model_modelo_yolov11_dataset_completo_final_v2/best_model_final.pt\",\n",
    "        \"modelo_yolov11_dataset_completo/dataset.yaml\",\n",
    "        \"finetuning_resultados\",\n",
    "        \"finetuning_complete_dataset_v2\"\n",
    "    ),\n",
    "    (\n",
    "        \"final_model_modelo_yolov11_dataset_filtrado_final_v2/best_model_final.pt\",\n",
    "        \"modelo_yolov11_dataset_filtrado/dataset.yaml\",\n",
    "        \"finetuning_resultados\",\n",
    "        \"finetuning_filtered_dataset_v2\"\n",
    "    ),\n",
    "    (\n",
    "        \"final_model_preprocesamiento_modelo_yolov11_dataset_completo_preprocesado_v2/best_model_final.pt\",\n",
    "        \"preprocesamiento/modelo_yolov11_dataset_completo_preprocesado/dataset.yaml\",\n",
    "        \"finetuning_resultados\",\n",
    "        \"finetuning_complete_preprocessed_dataset_v2\"\n",
    "    ),\n",
    "    (\n",
    "        \"final_model_preprocesamiento_modelo_yolov11_dataset_filtrado_preprocesado_v2/best_model_final.pt\",\n",
    "        \"preprocesamiento/modelo_yolov11_dataset_filtrado_preprocesado/dataset.yaml\",\n",
    "        \"finetuning_resultados\",\n",
    "        \"finetuning_filtered_preprocessed_dataset_v2\"\n",
    "    )\n",
    "]\n",
    "\n",
    "# Ejecutar fine-tuning con freeze=0 y freeze=1\n",
    "for model_path, yaml_path, save_dir, run_name in configs:\n",
    "    finetune_yolo_model(model_path, yaml_path, save_dir, run_name, freeze=0, lr=1e-4)\n",
    "    finetune_yolo_model(model_path, yaml_path, save_dir, run_name, freeze=1, lr=5e-4)\n",
    "\n"
   ]
  },
  {
   "cell_type": "markdown",
   "id": "82f2efd7",
   "metadata": {},
   "source": [
    "# Metricas"
   ]
  },
  {
   "cell_type": "code",
   "execution_count": null,
   "id": "449af0b3",
   "metadata": {},
   "outputs": [],
   "source": [
    "def evaluate_yolo_model_by_class(model_path, dataset_yaml_path, class_idx=4, class_name=None, split='test', imgsz=640, device=0):\n",
    "    from ultralytics import YOLO\n",
    "    import os\n",
    "    import torch\n",
    "\n",
    "    assert os.path.exists(model_path), f\"Modelo no encontrado: {model_path}\"\n",
    "    assert os.path.exists(dataset_yaml_path), f\"YAML no encontrado: {dataset_yaml_path}\"\n",
    "\n",
    "    model = YOLO(model_path)\n",
    "\n",
    "    metrics = model.val(\n",
    "        data=dataset_yaml_path,\n",
    "        split=split,\n",
    "        imgsz=imgsz,\n",
    "        device=device,\n",
    "        iou=0.5,\n",
    "        verbose=True\n",
    "    )\n",
    "\n",
    "    # Métricas generales\n",
    "    overall_metrics = {\n",
    "        'precision_all': metrics.box.p.mean().item(),\n",
    "        'recall_all': metrics.box.r.mean().item(),\n",
    "        'mAP50_all': metrics.box.map50.mean().item(),\n",
    "        'mAP50-95_all': metrics.box.map.mean().item()\n",
    "    }\n",
    "\n",
    "    # Verifica si las métricas son por clase (tensores) o escalares\n",
    "    try:\n",
    "        p_cls = metrics.box.p[class_idx].item()\n",
    "        r_cls = metrics.box.r[class_idx].item()\n",
    "        map50_cls = metrics.box.map50[class_idx].item()\n",
    "        map_cls = metrics.box.map[class_idx].item()\n",
    "\n",
    "        class_metrics = {\n",
    "            'precision': p_cls,\n",
    "            'recall': r_cls,\n",
    "            'mAP50': map50_cls,\n",
    "            'mAP50-95': map_cls\n",
    "        }\n",
    "\n",
    "        print(f\"\\n🔎 Métricas para la clase '{class_name or class_idx}' en modelo '{os.path.basename(model_path)}':\")\n",
    "        for k, v in class_metrics.items():\n",
    "            print(f\"{k}: {v:.4f}\")\n",
    "\n",
    "    except (IndexError, TypeError):\n",
    "        print(f\"\\n⚠️  El modelo '{os.path.basename(model_path)}' no tiene métricas por clase (posiblemente fue entrenado con `single_cls=True`)\")\n",
    "        class_metrics = {\n",
    "            'precision': None,\n",
    "            'recall': None,\n",
    "            'mAP50': None,\n",
    "            'mAP50-95': None\n",
    "        }\n",
    "\n",
    "    return overall_metrics, class_metrics\n"
   ]
  },
  {
   "cell_type": "code",
   "execution_count": null,
   "id": "0288c31b",
   "metadata": {},
   "outputs": [],
   "source": [
    "# Lista de modelos (ruta, yaml, nombre)\n",
    "models_info = [\n",
    "    # Originales\n",
    "    (\"finetuning_resultados/finetuning_complete_dataset_v2/weights/best.pt\", \"modelo_yolov11_dataset_completo/dataset.yaml\", \"completo\"),\n",
    "    (\"finetuning_resultados/finetuning_complete_preprocessed_dataset_v2/weights/best.pt\", \"preprocesamiento/modelo_yolov11_dataset_completo_preprocesado/dataset.yaml\", \"completo_preprocesado\"),\n",
    "    (\"finetuning_resultados/finetuning_filtered_dataset_v2/weights/best.pt\", \"modelo_yolov11_dataset_filtrado/dataset.yaml\", \"filtrado\"),\n",
    "    (\"finetuning_resultados/finetuning_filtered_preprocessed_dataset_v2/weights/best.pt\", \"preprocesamiento/modelo_yolov11_dataset_filtrado_preprocesado/dataset.yaml\", \"filtrado_preprocesado\"),\n",
    "\n",
    "    # Nuevos con freeze=0\n",
    "    (\"finetuning_resultados/finetuning_complete_dataset_v2_freeze0/weights/best.pt\", \"modelo_yolov11_dataset_completo/dataset.yaml\", \"completo_freeze0\"),\n",
    "    (\"finetuning_resultados/finetuning_complete_preprocessed_dataset_v2_freeze0/weights/best.pt\", \"preprocesamiento/modelo_yolov11_dataset_completo_preprocesado/dataset.yaml\", \"completo_preprocesado_freeze0\"),\n",
    "    (\"finetuning_resultados/finetuning_filtered_dataset_v2_freeze0/weights/best.pt\", \"modelo_yolov11_dataset_filtrado/dataset.yaml\", \"filtrado_freeze0\"),\n",
    "    (\"finetuning_resultados/finetuning_filtered_preprocessed_dataset_v2_freeze0/weights/best.pt\", \"preprocesamiento/modelo_yolov11_dataset_filtrado_preprocesado/dataset.yaml\", \"filtrado_preprocesado_freeze0\"),\n",
    "\n",
    "    # Nuevos con freeze=1\n",
    "    (\"finetuning_resultados/finetuning_complete_dataset_v2_freeze1/weights/best.pt\", \"modelo_yolov11_dataset_completo/dataset.yaml\", \"completo_freeze1\"),\n",
    "    (\"finetuning_resultados/finetuning_complete_preprocessed_dataset_v2_freeze1/weights/best.pt\", \"preprocesamiento/modelo_yolov11_dataset_completo_preprocesado/dataset.yaml\", \"completo_preprocesado_freeze1\"),\n",
    "    (\"finetuning_resultados/finetuning_filtered_dataset_v2_freeze1/weights/best.pt\", \"modelo_yolov11_dataset_filtrado/dataset.yaml\", \"filtrado_freeze1\"),\n",
    "    (\"finetuning_resultados/finetuning_filtered_preprocessed_dataset_v2_freeze1/weights/best.pt\", \"preprocesamiento/modelo_yolov11_dataset_filtrado_preprocesado/dataset.yaml\", \"filtrado_preprocesado_freeze1\"),\n",
    "]\n",
    "\n",
    "# Ejecutar evaluación en todos\n",
    "results_all = {}\n",
    "for model_path, yaml_path, label in models_info:\n",
    "    overall, class_metrics = evaluate_yolo_model_by_class(\n",
    "        model_path=model_path,\n",
    "        dataset_yaml_path=yaml_path,\n",
    "        class_idx=4,\n",
    "        class_name=\"Zonas de minería ilegal\"\n",
    "    )\n",
    "    results_all[label] = {\n",
    "        \"overall\": overall,\n",
    "        \"class_4\": class_metrics\n",
    "    }\n"
   ]
  },
  {
   "cell_type": "markdown",
   "id": "23a00ad7",
   "metadata": {},
   "source": [
    "El mejor desempeño se obtuvo utilizando el dataset completo preprocesado para la clase de minería ilegal, evaluado principalmente con base en la métrica de recall. Esta elección se justifica porque, en este contexto, un falso negativo —es decir, que el modelo indique que no hay minería ilegal cuando en realidad sí la hay— representa un costo mucho mayor en términos de impacto ambiental, social y legal, que un falso positivo, donde el modelo señala minería ilegal en una zona que no la presenta. Por lo tanto, se prioriza maximizar el recall para reducir al mínimo la omisión de zonas ilegales reales, aunque eso implique un incremento moderado en falsos positivos."
   ]
  },
  {
   "attachments": {
    "image.png": {
     "image/png": "[encoded data removed]"
    }
   },
   "cell_type": "markdown",
   "id": "e35dba34",
   "metadata": {},
   "source": [
    "![image.png](attachment:image.png)"
   ]
  },
  {
   "cell_type": "code",
   "execution_count": null,
   "id": "ef6cb565",
   "metadata": {},
   "outputs": [],
   "source": [
    "(\"finetuning_resultados/finetuning_complete_preprocessed_dataset_v2/weights/best.pt\", \"preprocesamiento/modelo_yolov11_dataset_completo_preprocesado/dataset.yaml\", \"completo_preprocesado\")"
   ]
  },
  {
   "attachments": {
    "image.png": {
     "image/png": "[encoded data removed]"
    }
   },
   "cell_type": "markdown",
   "id": "847f309d",
   "metadata": {},
   "source": [
    "En cuanto al mejor modelo escodigo en general en su desempeño en todas las clases. Escogimos el del modelo del dataset filtrado sin preprocesamiento.\n",
    "\n",
    "![image.png](attachment:image.png)"
   ]
  },
  {
   "cell_type": "code",
   "execution_count": null,
   "id": "c52c9164",
   "metadata": {},
   "outputs": [],
   "source": [
    "(\"finetuning_resultados/finetuning_filtered_dataset_v2_freeze0/weights/best.pt\", \"modelo_yolov11_dataset_filtrado/dataset.yaml\", \"filtrado_freeze0\")"
   ]
  },
  {
   "cell_type": "code",
   "execution_count": null,
   "id": "921c76e5",
   "metadata": {},
   "outputs": [],
   "source": [
    "import os\n",
    "import random\n",
    "import matplotlib.pyplot as plt\n",
    "from ultralytics import YOLO\n",
    "import cv2\n",
    "\n",
    "def show_predictions_minery_zone(model_path, dataset_path, class_index=4, count=25, imgsz=640, device=0):\n",
    "    \"\"\"\n",
    "    Muestra un grid 5x5 con predicciones sobre imágenes que contienen la clase 'zonas de minería ilegal'.\n",
    "\n",
    "    Args:\n",
    "        model_path (str): Ruta al modelo YOLO entrenado (.pt).\n",
    "        dataset_path (str): Ruta a la carpeta raíz del dataset (donde está /test/images y /test/labels).\n",
    "        class_index (int): Índice de la clase \"Zonas de minería ilegal\".\n",
    "        count (int): Número de imágenes a mostrar.\n",
    "    \"\"\"\n",
    "    model = YOLO(model_path)\n",
    "\n",
    "    labels_dir = os.path.join(dataset_path, 'test', 'labels')\n",
    "    images_dir = os.path.join(dataset_path, 'test', 'images')\n",
    "\n",
    "    matching_files = []\n",
    "    for file in os.listdir(labels_dir):\n",
    "        label_path = os.path.join(labels_dir, file)\n",
    "        with open(label_path, 'r') as f:\n",
    "            lines = f.readlines()\n",
    "            if any(int(line.split()[0]) == class_index for line in lines):\n",
    "                matching_files.append(file.replace('.txt', '.jpg'))\n",
    "\n",
    "    selected_images = random.sample(matching_files, min(count, len(matching_files)))\n",
    "\n",
    "    fig, axes = plt.subplots(5, 5, figsize=(18, 18))\n",
    "    fig.suptitle(\"Predicciones sobre zonas de minería ilegal\", fontsize=20)\n",
    "\n",
    "    for ax, img_name in zip(axes.flat, selected_images):\n",
    "        img_path = os.path.join(images_dir, img_name)\n",
    "        results = model(img_path, imgsz=imgsz, device=device, verbose=False)\n",
    "        pred_img = results[0].plot()\n",
    "\n",
    "        # Convertir de BGR a RGB\n",
    "        pred_img_rgb = cv2.cvtColor(pred_img, cv2.COLOR_BGR2RGB)\n",
    "\n",
    "        ax.imshow(pred_img_rgb)\n",
    "        ax.set_title(img_name, fontsize=8)\n",
    "        ax.axis(\"off\")\n",
    "        \n",
    "    plt.tight_layout()\n",
    "    plt.savefig(\"grid_25_mineria.png\", dpi=300)\n",
    "    plt.show()\n",
    "\n"
   ]
  },
  {
   "cell_type": "code",
   "execution_count": null,
   "id": "dc0d7a12",
   "metadata": {},
   "outputs": [],
   "source": [
    "show_predictions_minery_zone(\n",
    "    model_path=\"finetuning_resultados/finetuning_complete_preprocessed_dataset_v2/weights/best.pt\",\n",
    "    dataset_path=\"preprocesamiento/modelo_yolov11_dataset_completo_preprocesado\",\n",
    "    class_index=4, \n",
    "    count=25,\n",
    "    imgsz=640,\n",
    "    device=0\n",
    ")"
   ]
  },
  {
   "cell_type": "code",
   "execution_count": null,
   "id": "a005f1a9",
   "metadata": {},
   "outputs": [],
   "source": [
    "show_predictions_minery_zone(\n",
    "    model_path=\"finetuning_resultados/finetuning_filtered_dataset_v2_freeze0/weights/best.pt\",\n",
    "    dataset_path=\"modelo_yolov11_dataset_filtrado\",\n",
    "    class_index=4, \n",
    "    count=25,\n",
    "    imgsz=640,\n",
    "    device=0\n",
    ")"
   ]
  }
 ],
 "metadata": {
  "kernelspec": {
   "display_name": "Python 3",
   "language": "python",
   "name": "python3"
  },
  "language_info": {
   "codemirror_mode": {
    "name": "ipython",
    "version": 3
   },
   "file_extension": ".py",
   "mimetype": "text/x-python",
   "name": "python",
   "nbconvert_exporter": "python",
   "pygments_lexer": "ipython3",
   "version": "3.11.9"
  }
 },
 "nbformat": 4,
 "nbformat_minor": 5
}
